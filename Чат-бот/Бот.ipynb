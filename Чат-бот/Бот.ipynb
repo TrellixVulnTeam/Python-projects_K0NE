{
 "cells": [
  {
   "cell_type": "code",
   "execution_count": 11,
   "metadata": {},
   "outputs": [],
   "source": [
    "import random\n",
    "import nltk"
   ]
  },
  {
   "cell_type": "code",
   "execution_count": 12,
   "metadata": {},
   "outputs": [],
   "source": [
    "BOT_CONFIG = {\n",
    "    'intents': {\n",
    "        'hello': {\n",
    "            'examples': ['Привет', 'Добрый день', 'Здравствуйте'],\n",
    "            'responses': ['Привет!', 'Здравствуйте!']\n",
    "        },\n",
    "        'goodbye': {\n",
    "            'examples': ['Пока', 'До свидания', 'Всего доброго'],\n",
    "            'responses': ['Ну пока.', 'До свидания!', 'Счастливо!']\n",
    "        },\n",
    "        'thanks': {\n",
    "            'examples': ['Спасибо', 'Спасибо большое!', 'Благодарю'],\n",
    "            'responses': ['Вам спасибо!']\n",
    "        },\n",
    "        'whatcanyoudo': {\n",
    "            'examples': ['Что ты умеешь?'],\n",
    "            'responses': ['Отвечать на вопросы']\n",
    "        },\n",
    "        'name': {\n",
    "            'examples': ['Как тебя зовут?', 'Как твое имя?'],\n",
    "            'responses': ['Меня зовут бот. Просто бот.']\n",
    "        },\n",
    "        'weather': {\n",
    "            'examples': ['Какая погода в Москве?', 'Какая погода?'],\n",
    "            'responses': ['Погода так себе...']\n",
    "        }\n",
    "    },\n",
    "    'failure_phrases': [\n",
    "        'Я не понял Вас.',\n",
    "        'Уточните Ваш вопрос.',\n",
    "        'Я не знаю что ответить.',\n",
    "        'Я на такое не умею отвечать.',\n",
    "        'Переформулируйте, пожалуйста.'\n",
    "    ]\n",
    "            \n",
    "}"
   ]
  },
  {
   "cell_type": "code",
   "execution_count": 13,
   "metadata": {},
   "outputs": [
    {
     "data": {
      "text/plain": [
       "'hello'"
      ]
     },
     "execution_count": 13,
     "metadata": {},
     "output_type": "execute_result"
    }
   ],
   "source": [
    "def get_intent(text):\n",
    "    for intent_name, intent_data in BOT_CONFIG['intents'].items():\n",
    "        for example in intent_data['examples']:\n",
    "            distance = nltk.edit_distance(text.lower(), example.lower()) # Расстояние Левенштейна\n",
    "            if distance / len(example) < 0.4:\n",
    "                return intent_name\n",
    "            \n",
    "    return None\n",
    "\n",
    "get_intent('Привет!')"
   ]
  },
  {
   "cell_type": "code",
   "execution_count": 14,
   "metadata": {},
   "outputs": [],
   "source": [
    "def get_response_by_intent(intent):\n",
    "    # TODO candidates for intent\n",
    "    candidates = BOT_CONFIG['intents'][intent]['responses']\n",
    "    return random.choice(candidates)"
   ]
  },
  {
   "cell_type": "code",
   "execution_count": 15,
   "metadata": {},
   "outputs": [],
   "source": [
    "def generate_answer(text):\n",
    "    return None"
   ]
  },
  {
   "cell_type": "code",
   "execution_count": 16,
   "metadata": {},
   "outputs": [],
   "source": [
    "def get_default_response():\n",
    "    candidates = BOT_CONFIG['failure_phrases']\n",
    "    return random.choice(candidates)"
   ]
  },
  {
   "cell_type": "code",
   "execution_count": 17,
   "metadata": {},
   "outputs": [],
   "source": [
    "def get_answer(text):\n",
    "    # NLU\n",
    "    intent = get_intent(text)\n",
    "    \n",
    "    # Making response\n",
    "    \n",
    "    # rules    \n",
    "    if intent:\n",
    "        return get_response_by_intent(intent)\n",
    "    \n",
    "    # generative model    \n",
    "    response = generate_answer(text)\n",
    "    if response:\n",
    "        return response\n",
    "    \n",
    "    # stub\n",
    "    return get_default_response()"
   ]
  },
  {
   "cell_type": "code",
   "execution_count": 19,
   "metadata": {},
   "outputs": [],
   "source": [
    "while True:\n",
    "    question = input()\n",
    "    answer = get_answer(question)\n",
    "    print(answer)"
   ]
  }
 ],
 "metadata": {
  "kernelspec": {
   "display_name": "Python 3",
   "language": "python",
   "name": "python3"
  },
  "language_info": {
   "codemirror_mode": {
    "name": "ipython",
    "version": 3
   },
   "file_extension": ".py",
   "mimetype": "text/x-python",
   "name": "python",
   "nbconvert_exporter": "python",
   "pygments_lexer": "ipython3",
   "version": "3.7.4"
  }
 },
 "nbformat": 4,
 "nbformat_minor": 4
}
