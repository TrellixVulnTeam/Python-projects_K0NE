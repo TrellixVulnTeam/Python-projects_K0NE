{
 "cells": [
  {
   "cell_type": "markdown",
   "metadata": {},
   "source": [
    "# Пространства имен и области видимости"
   ]
  },
  {
   "cell_type": "markdown",
   "metadata": {},
   "source": [
    "Множество ссылок на объекты - пространство имен (name space)\n",
    "\n",
    "builtins: <int, float, str, min, max, ...> - пространство имен, которое создается при запуске интерпретатора.\n",
    "\n",
    "Затем создается пространство имен main\n",
    "\n",
    "При вызове функции создается локальный name space\n",
    "\n",
    "Область видимости - scope\n",
    "\n",
    "1. Local, 2. Enclosing, 3. Global, 4. Builtins scope\n",
    "\n",
    "локальное пространство имен для функции создается в момент времени функции.\n",
    "\n",
    "условные операторы и циклы не создают локальные пространства имен."
   ]
  },
  {
   "cell_type": "code",
   "execution_count": null,
   "metadata": {},
   "outputs": [],
   "source": [
    "ok_status = True\n",
    "vowels = ['a', 'u', 'i', 'e', 'o']\n",
    "\n",
    "def check(word):\n",
    "    global ok_status\n",
    "    for vowel in vowels:\n",
    "        if vowel in word:\n",
    "            return True\n",
    "        \n",
    "        ok_status = False\n",
    "        return False\n",
    "    \n",
    "print(check('ababsc')) # True\n",
    "print(ok_status) # True\n",
    "print(check('www')) #False\n",
    "print(ok_status) # False"
   ]
  },
  {
   "cell_type": "code",
   "execution_count": null,
   "metadata": {},
   "outputs": [],
   "source": [
    "def f():\n",
    "    ok_status = True\n",
    "    vowels = ['a', 'u', 'i', 'e', 'o']\n",
    "\n",
    "    def check(word):\n",
    "        nonlocal ok_status # на пути от check до global надо найти \n",
    "        for vowel in vowels:\n",
    "            if vowel in word:\n",
    "                return True\n",
    "\n",
    "            ok_status = False\n",
    "            return False\n",
    "\n",
    "    print(check('ababsc')) # True\n",
    "    print(ok_status) # True\n",
    "    print(check('www')) #False\n",
    "    print(ok_status) # False\n",
    "    \n",
    "f()\n",
    "print(ok_status) # NameError"
   ]
  },
  {
   "cell_type": "markdown",
   "metadata": {},
   "source": [
    "Реализуйте программу, которая будет эмулировать работу с пространствами имен. Необходимо реализовать поддержку создания пространств имен и добавление в них переменных."
   ]
  },
  {
   "cell_type": "code",
   "execution_count": 24,
   "metadata": {},
   "outputs": [
    {
     "name": "stdout",
     "output_type": "stream",
     "text": [
      "4\n",
      "add global a\n",
      "create foo global\n",
      "add foo b\n",
      "get foo a\n",
      "global\n"
     ]
    }
   ],
   "source": [
    "def get(namesp, arg, d): \n",
    "    flag = False\n",
    "    if d.get(namesp) != None:\n",
    "        if arg in d[namesp]:\n",
    "            return namesp\n",
    "        elif namesp == 'global':\n",
    "            return 'None'\n",
    "        flag = True     \n",
    "    if d.get(namesp) == None or flag:\n",
    "        for k, v in d.items():\n",
    "            if namesp in v:\n",
    "                return get(k, arg, d)\n",
    "            \n",
    "d = dict()\n",
    "\n",
    "for i in range(int(input())):\n",
    "    cmd, namesp, arg = input().split()\n",
    "    \n",
    "    if cmd == 'add':\n",
    "        if d.get(namesp) != None:\n",
    "            d[namesp].append(arg)\n",
    "        else:\n",
    "            d[namesp] = [arg]\n",
    "    elif cmd == 'create':\n",
    "        if d.get(arg) != None:\n",
    "            d[arg].append(namesp)\n",
    "        else:\n",
    "            d[arg] = [namesp]\n",
    "    else:\n",
    "        print(get(namesp, arg, d))"
   ]
  },
  {
   "cell_type": "code",
   "execution_count": null,
   "metadata": {},
   "outputs": [],
   "source": []
  }
 ],
 "metadata": {
  "kernelspec": {
   "display_name": "Python 3",
   "language": "python",
   "name": "python3"
  },
  "language_info": {
   "codemirror_mode": {
    "name": "ipython",
    "version": 3
   },
   "file_extension": ".py",
   "mimetype": "text/x-python",
   "name": "python",
   "nbconvert_exporter": "python",
   "pygments_lexer": "ipython3",
   "version": "3.7.4"
  }
 },
 "nbformat": 4,
 "nbformat_minor": 4
}
