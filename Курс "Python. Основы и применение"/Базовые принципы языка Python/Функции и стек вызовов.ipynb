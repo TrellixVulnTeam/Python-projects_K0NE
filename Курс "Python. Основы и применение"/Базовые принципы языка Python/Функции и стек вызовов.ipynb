{
 "cells": [
  {
   "cell_type": "markdown",
   "metadata": {},
   "source": [
    "# Функции и стек вызовов"
   ]
  },
  {
   "cell_type": "code",
   "execution_count": 1,
   "metadata": {},
   "outputs": [
    {
     "name": "stdout",
     "output_type": "stream",
     "text": [
      "31\n"
     ]
    }
   ],
   "source": [
    "def function_name(arg1, arg2):\n",
    "    return arg1 + arg2\n",
    "\n",
    "x = function_name(2, 8)\n",
    "y = function_name(x, 21)\n",
    "print(y)"
   ]
  },
  {
   "cell_type": "code",
   "execution_count": 2,
   "metadata": {},
   "outputs": [
    {
     "name": "stdout",
     "output_type": "stream",
     "text": [
      "43\n",
      "6\n"
     ]
    }
   ],
   "source": [
    "def list_sum(lst):\n",
    "    result = 0\n",
    "    for element in lst:\n",
    "        result += element\n",
    "    return result\n",
    "\n",
    "def sum(a, b):\n",
    "    return a + b\n",
    "\n",
    "y = sum(14, 29)\n",
    "z = list_sum([1, 2, 3])\n",
    "\n",
    "print(y)\n",
    "print(z)"
   ]
  },
  {
   "cell_type": "markdown",
   "metadata": {},
   "source": [
    "Сначала создается объект list_sum <lst>\n",
    "\n",
    "Потом объект для sum <a, b>\n",
    "\n",
    "a = 14, b = 29, создастся объект 43 и y будет ссылаться на него\n",
    "\n",
    "Потом создадуться 1, 2, 3. Затем список, в котором будут ссылки на 1, 2, 3. Потом объект 0. Затем изменялся result.\n",
    "В конце result ссылается на 6, как и z.\n",
    "   \n",
    "Для функции print() так же создается объект."
   ]
  },
  {
   "cell_type": "markdown",
   "metadata": {},
   "source": [
    "## Стек вызовов"
   ]
  },
  {
   "cell_type": "markdown",
   "metadata": {},
   "source": [
    "push - кладем на стек, pop - забираем.\n",
    "\n",
    "Стек вызовов отображает все функции, которые сейчас исполняются, и кто кого ждет. Реально работает только верхняя функция. "
   ]
  },
  {
   "cell_type": "code",
   "execution_count": 4,
   "metadata": {},
   "outputs": [
    {
     "name": "stdout",
     "output_type": "stream",
     "text": [
      "[1, 2, 3, 4, 5]\n",
      "5\n",
      "[1, 2, 3, 4]\n",
      "4\n",
      "[1, 2, 3]\n"
     ]
    }
   ],
   "source": [
    "x = [1, 2, 3]\n",
    "x.append(4)\n",
    "x.append(5)\n",
    "\n",
    "print(x)\n",
    "\n",
    "top = x.pop()\n",
    "print(top)\n",
    "print(x)\n",
    "\n",
    "top = x.pop()\n",
    "print(top)\n",
    "print(x)"
   ]
  },
  {
   "cell_type": "code",
   "execution_count": 5,
   "metadata": {},
   "outputs": [
    {
     "name": "stdout",
     "output_type": "stream",
     "text": [
      "12\n",
      "stack_num: 6\n"
     ]
    }
   ],
   "source": [
    "# amount of functions in stack\n",
    "global stack_num\n",
    "\n",
    "# consider module function\n",
    "stack_num = 1\n",
    "\n",
    "def h():\n",
    "    global stack_num\n",
    "    stack_num += 1\n",
    "    print(12)\n",
    "\n",
    "def f():\n",
    "    global stack_num\n",
    "    stack_num += 1\n",
    "    g(h)\n",
    "\n",
    "def g(a):\n",
    "    global stack_num\n",
    "    stack_num += 1\n",
    "    a()\n",
    "\n",
    "stack_num += 1\n",
    "g(f)\n",
    "\n",
    "print('stack_num:', stack_num)"
   ]
  },
  {
   "cell_type": "markdown",
   "metadata": {},
   "source": [
    "Для возвращения значения используется return\n",
    "\n",
    "После return функция не исполняется\n",
    "\n",
    "Функции необязательно что-то возвращать: вернется просто None"
   ]
  },
  {
   "cell_type": "code",
   "execution_count": 8,
   "metadata": {},
   "outputs": [
    {
     "name": "stdout",
     "output_type": "stream",
     "text": [
      "4\n",
      "None\n"
     ]
    },
    {
     "data": {
      "text/plain": [
       "True"
      ]
     },
     "execution_count": 8,
     "metadata": {},
     "output_type": "execute_result"
    }
   ],
   "source": [
    "x = print(4)\n",
    "print(x)\n",
    "x is None # проверка на None"
   ]
  },
  {
   "cell_type": "code",
   "execution_count": 17,
   "metadata": {},
   "outputs": [
    {
     "name": "stdout",
     "output_type": "stream",
     "text": [
      "10\n"
     ]
    }
   ],
   "source": [
    "def closest_mod_5(x):\n",
    "    if x % 5 == 0:\n",
    "        return x\n",
    "    return x + 5 - x % 5\n",
    "\n",
    "z = closest_mod_5(6)\n",
    "print(z)"
   ]
  },
  {
   "cell_type": "code",
   "execution_count": null,
   "metadata": {},
   "outputs": [],
   "source": [
    "def printab(a, b):\n",
    "    print(a)\n",
    "    print(b)\n",
    "    \n",
    "# CORRECT WAYS TO CALL A FUNCTION\n",
    "printab(10, 20)\n",
    "printab(a=10, b=20)\n",
    "\n",
    "# keyword arguments always after non-keyword agruments\n",
    "printab(10, b=20)\n",
    "\n",
    "lst = [10, 20]\n",
    "printab(*lst) # = printab(lst[0], lst[1])\n",
    "\n",
    "args = {'a':10, 'b':20}\n",
    "printab(**args) # = printab(key1=args[key1], key2=args[key2])"
   ]
  },
  {
   "cell_type": "code",
   "execution_count": null,
   "metadata": {},
   "outputs": [],
   "source": [
    "def printab(a, b, *args): # здесь * кладет все оставшиеся элементы в кортеж args\n",
    "    print(a)\n",
    "    print(b)\n",
    "    for arg in args:\n",
    "        print(arg)"
   ]
  },
  {
   "cell_type": "code",
   "execution_count": 19,
   "metadata": {},
   "outputs": [
    {
     "name": "stdout",
     "output_type": "stream",
     "text": [
      "10\n",
      "20\n",
      "c 30\n",
      "d 40\n",
      "jimmi 50\n"
     ]
    }
   ],
   "source": [
    "def printab(a, b, **kwargs):\n",
    "    print(a)\n",
    "    print(b)\n",
    "    for key in kwargs:\n",
    "        print(key, kwargs[key])\n",
    "        \n",
    "printab(10, 20, c=30, d=40, jimmi=50) # kwargs = {'c':30, 'd':40, 'jimmi':50}"
   ]
  },
  {
   "cell_type": "code",
   "execution_count": 22,
   "metadata": {},
   "outputs": [
    {
     "name": "stdout",
     "output_type": "stream",
     "text": [
      "15 10 10 15\n"
     ]
    }
   ],
   "source": [
    "# def function_name([ positional_args,\n",
    "#                   [ positional_args_with_default,\n",
    "#                   [ *pos_args_name,\n",
    "#                   [ keyword_only_args,\n",
    "#                   [ **kw_args_name]]]]])\n",
    "\n",
    "def printab(a, b=10, *args, c=10, d, **kwargs):\n",
    "    print(a, b, c, d)\n",
    "    \n",
    "printab(15, d=15)"
   ]
  },
  {
   "cell_type": "code",
   "execution_count": 24,
   "metadata": {},
   "outputs": [
    {
     "name": "stdout",
     "output_type": "stream",
     "text": [
      "3 2\n",
      "3\n"
     ]
    }
   ],
   "source": [
    "n, k = map(int, input().split())\n",
    "\n",
    "def c_n_k(n, k):\n",
    "    if k > n:\n",
    "        return 0\n",
    "    elif k == 0:\n",
    "        return 1\n",
    "    else:\n",
    "        return c_n_k(n-1, k) + c_n_k(n-1, k-1)\n",
    "    \n",
    "print(c_n_k(n, k))"
   ]
  },
  {
   "cell_type": "markdown",
   "metadata": {},
   "source": []
  }
 ],
 "metadata": {
  "kernelspec": {
   "display_name": "Python 3",
   "language": "python",
   "name": "python3"
  },
  "language_info": {
   "codemirror_mode": {
    "name": "ipython",
    "version": 3
   },
   "file_extension": ".py",
   "mimetype": "text/x-python",
   "name": "python",
   "nbconvert_exporter": "python",
   "pygments_lexer": "ipython3",
   "version": "3.7.4"
  }
 },
 "nbformat": 4,
 "nbformat_minor": 4
}
