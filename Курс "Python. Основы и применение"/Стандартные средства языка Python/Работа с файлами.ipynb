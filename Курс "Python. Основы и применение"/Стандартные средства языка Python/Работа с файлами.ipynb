{
 "cells": [
  {
   "cell_type": "markdown",
   "metadata": {},
   "source": [
    "### Запись строк файла в обратном порядке"
   ]
  },
  {
   "cell_type": "code",
   "execution_count": null,
   "metadata": {},
   "outputs": [],
   "source": [
    "lst = []\n",
    "with open('dataset_24465_4.txt', 'r') as f, open('output', 'w') as out:\n",
    "    for line in f:\n",
    "        lst.append(line)\n",
    "        \n",
    "    for l in lst[::-1]:\n",
    "        out.write(l)"
   ]
  },
  {
   "cell_type": "code",
   "execution_count": 2,
   "metadata": {},
   "outputs": [],
   "source": [
    "import os"
   ]
  },
  {
   "cell_type": "code",
   "execution_count": 7,
   "metadata": {},
   "outputs": [
    {
     "name": "stdout",
     "output_type": "stream",
     "text": [
      "['xmffa.txt', 'uvvuz', 'myjqk.py', 'qkseh', 'taivr', 'rpuyq.txt', 'oizxq.txt', 'qcdrm.py', 'tgwey', 'ksuvk', 'mwhci', 'lmrrz.txt', 'frtrl', 'sgeru.txt', 'aelpx.txt', 'kqgeg.txt', 'soldv.txt', 'rlvgd.txt', 'wvere.txt', 'yvgwm.py', 'nrlqk.py', 'ddiqo', 'ivdfa.txt', 'olmhl', 'yohuh.txt', 'lqbli', 'qhjmz.txt', 'zgwye.txt', 'wxhtw.py', 'sidxx.txt', 'vaxyw.txt', 'fjcnm.py', 'jrczb', 'wkwll', 'mdwam.txt', 'fpyfb.py', 'nelpv.py', 'ybebm', 'qdbhh.txt', 'ivcpr.txt', 'zduna', 'qbarq.txt', 'afkgv', 'hgyoc', 'lzccb.py', 'ivkih.txt', 'sitdc', 'mwgax.txt', 'iwohr.py', 'zyczx', 'iswbd.txt', 'dshyt.txt', 'jogpz.py', 'suvtu.py']\n",
      "True\n"
     ]
    }
   ],
   "source": [
    "print(os.listdir('main'))\n",
    "print(os.path.isdir('main/uvvuz'))"
   ]
  },
  {
   "cell_type": "code",
   "execution_count": null,
   "metadata": {},
   "outputs": [],
   "source": [
    "os.chdir('main')"
   ]
  },
  {
   "cell_type": "code",
   "execution_count": 10,
   "metadata": {},
   "outputs": [
    {
     "name": "stdout",
     "output_type": "stream",
     "text": [
      "/Users/nikolajkarasov/opt/miniconda3/bin/Курс \"Python. Основы и применение\"/Стандартные средства языка Python/main\n"
     ]
    }
   ],
   "source": [
    "print(os.getcwd())"
   ]
  },
  {
   "cell_type": "markdown",
   "metadata": {},
   "source": [
    "### Найдем все папки, в которых есть .py файлы"
   ]
  },
  {
   "cell_type": "code",
   "execution_count": 18,
   "metadata": {},
   "outputs": [
    {
     "name": "stdout",
     "output_type": "stream",
     "text": [
      "main\n",
      "main/afkgv\n",
      "main/frtrl\n",
      "main/hgyoc\n",
      "main/hgyoc/kwawh\n",
      "main/hgyoc/kwawh/hapry\n",
      "main/hgyoc/kwawh/rzgzv\n",
      "main/hgyoc/ycbxr/ivjta\n",
      "main/ksuvk/xjrqt\n",
      "main/ksuvk/xjrqt/qdbqt/hotgx\n",
      "main/ksuvk/xjrqt/qdbqt/hotgx/izwwv\n",
      "main/ksuvk/xjrqt/qdbqt/prkcp/dnyyv\n",
      "main/lqbli/otofk\n",
      "main/lqbli/otofk/armko\n",
      "main/mwhci\n",
      "main/olmhl/mmtsz\n",
      "main/olmhl/mmtsz/nujko/ywjka\n",
      "main/olmhl/mmtsz/nujko/ywjka/pxjip\n",
      "main/olmhl/mmtsz/nujko/ywjka/pxjip/wthmo\n",
      "main/olmhl/mmtsz/nujko/ywjka/pxjip/wthmo/rwwuw\n",
      "main/olmhl/mmtsz/nujko/ywjka/pxjip/wthmo/wtgrc\n",
      "main/olmhl/mmtsz/nujko/ywjka/pxjip/wthmo/wtgrc/grnfu\n",
      "main/olmhl/mmtsz/nujko/ywjka/pxjip/wthmo/wtgrc/juoxd\n",
      "main/olmhl/mmtsz/nujko/ywjka/pxjip/wthmo/wtgrc/kztxg/qwlrx\n",
      "main/olmhl/mmtsz/nujko/ywjka/pxjip/wthmo/wtgrc/kztxg/qwlrx/djozj\n",
      "main/olmhl/mmtsz/nujko/ywjka/pxjip/wthmo/wtgrc/kztxg/qwlrx/lirot\n",
      "main/olmhl/mmtsz/nujko/ywjka/pxjip/wthmo/wtgrc/kztxg/qwlrx/nfcxf\n",
      "main/olmhl/mmtsz/nujko/ywjka/pxjip/wthmo/wtgrc/mgplg/rbyav\n",
      "main/olmhl/mmtsz/nujko/ywjka/pxjip/wthmo/wtgrc/mgplg/rbyav/ppeir/subdi\n",
      "main/olmhl/mmtsz/nujko/ywjka/pxjip/wthmo/wtgrc/mgplg/rbyav/ppeir/subdi/afrqp/iaujh\n",
      "main/olmhl/mmtsz/nujko/ywjka/pxjip/wthmo/wtgrc/mgplg/rbyav/ppeir/subdi/afrqp/iaujh/jqjsg\n",
      "main/olmhl/mmtsz/nujko/ywjka/pxjip/wthmo/wtgrc/mgplg/rbyav/ppeir/subdi/afrqp/iaujh/jqjsg/xriod\n",
      "main/olmhl/mmtsz/nujko/ywjka/pxjip/wthmo/wtgrc/mgplg/rbyav/ppeir/subdi/afrqp/iaujh/jqnsz\n",
      "main/olmhl/mmtsz/nujko/ywjka/pxjip/wthmo/wtgrc/mgplg/rbyav/ppeir/subdi/zljoz\n",
      "main/olmhl/mmtsz/nujko/ywjka/pxjip/wthmo/wtgrc/mgplg/rbyav/ppeir/subdi/zljoz/kgdme\n",
      "main/olmhl/mmtsz/nujko/ywjka/pxjip/wthmo/wtgrc/mgplg/rbyav/ppeir/subdi/zljoz/kgdme/evnvn/axqur\n",
      "main/olmhl/mmtsz/nujko/ywjka/pxjip/wthmo/wtgrc/mgplg/rbyav/ppeir/subdi/zljoz/kgdme/evnvn/axqur/itkcz\n",
      "main/olmhl/mmtsz/nujko/ywjka/pxjip/wthmo/wtgrc/mgplg/rbyav/ppeir/subdi/zljoz/kgdme/jhhbu/dufxr\n",
      "main/olmhl/mmtsz/nujko/ywjka/pxjip/wthmo/wtgrc/mgplg/rbyav/ppeir/subdi/zljoz/kgdme/jhhbu/dufxr/hlgup\n",
      "main/olmhl/mmtsz/nujko/ywjka/pxjip/wthmo/wtgrc/mgplg/rbyav/ppeir/subdi/zljoz/kgdme/jhhbu/dufxr/hlgup/auqky\n",
      "main/olmhl/mmtsz/nujko/ywjka/pxjip/wthmo/wtgrc/mgplg/rbyav/ppeir/subdi/zljoz/kgdme/jhhbu/dufxr/sxojq\n",
      "main/olmhl/mmtsz/nujko/ywjka/pxjip/wthmo/wtgrc/mgplg/rbyav/ppeir/subdi/zljoz/kgdme/jhhbu/dufxr/xroxl\n",
      "main/olmhl/mmtsz/nujko/ywjka/pxjip/wthmo/wtgrc/mgplg/rbyav/ppeir/subdi/zljoz/kgdme/jhhbu/dufxr/xroxl/abslw\n",
      "main/olmhl/mmtsz/nujko/ywjka/pxjip/wthmo/wtgrc/mgplg/rbyav/ppeir/subdi/zljoz/kgdme/jhhbu/dufxr/xroxl/rgunj/bdcjg\n",
      "main/olmhl/mmtsz/nujko/ywjka/pxjip/wthmo/wtgrc/mgplg/rbyav/ppeir/subdi/zljoz/kgdme/jhhbu/dufxr/xroxl/rgunj/bdcjg/ktkfx\n",
      "main/olmhl/mmtsz/nujko/ywjka/pxjip/wthmo/wtgrc/mgplg/rbyav/ppeir/subdi/zljoz/kgdme/jhhbu/dufxr/xroxl/rgunj/bdcjg/vkntp\n",
      "main/olmhl/mmtsz/nujko/ywjka/pxjip/wthmo/wtgrc/mgplg/rbyav/ppeir/subdi/zljoz/kgdme/jhhbu/dufxr/xroxl/rgunj/bdcjg/vkntp/rjqjr\n",
      "main/olmhl/mmtsz/nujko/ywjka/pxjip/wthmo/wtgrc/mgplg/rbyav/ppeir/subdi/zljoz/kgdme/jhhbu/dufxr/xroxl/rgunj/bdcjg/xpmcm\n",
      "main/olmhl/mmtsz/nujko/ywjka/pxjip/wthmo/wtgrc/mgplg/rbyav/ppeir/subdi/zljoz/kgdme/jhhbu/rnqwd\n",
      "main/olmhl/mmtsz/nujko/ywjka/pxjip/wthmo/wtgrc/mgplg/rbyav/ppeir/subdi/zljoz/kgdme/jhhbu/rnqwd/purto\n",
      "main/olmhl/mmtsz/nujko/ywjka/pxjip/wthmo/wtgrc/mgplg/rbyav/ppeir/subdi/zljoz/kgdme/jhhbu/rnqwd/purto/bkfog\n",
      "main/olmhl/mmtsz/nujko/ywjka/pxjip/wthmo/wtgrc/mgplg/rbyav/ppeir/subdi/zljoz/kgdme/jhhbu/rnqwd/purto/bkfog/rvsfo\n",
      "main/olmhl/mmtsz/nujko/ywjka/pxjip/wthmo/wtgrc/mgplg/rbyav/ppeir/subdi/zljoz/kgdme/jhhbu/rnqwd/purto/bkfog/rvsfo/gvbnv\n",
      "main/olmhl/mmtsz/nujko/ywjka/pxjip/wthmo/wtgrc/mgplg/rbyav/ppeir/subdi/zljoz/kgdme/jhhbu/rnqwd/purto/bkfog/rvsfo/rpnzm\n",
      "main/olmhl/mmtsz/nujko/ywjka/pxjip/wthmo/wtgrc/mgplg/rbyav/ppeir/subdi/zljoz/kgdme/jhhbu/rnqwd/purto/bkfog/rvsfo/rpnzm/ilogc\n",
      "main/olmhl/mmtsz/nujko/ywjka/pxjip/wthmo/wtgrc/mgplg/rbyav/ppeir/subdi/zljoz/kgdme/jhhbu/rnqwd/purto/bkfog/rvsfo/rpnzm/ilogc/reshp\n",
      "main/olmhl/mmtsz/nujko/ywjka/pxjip/wthmo/wtgrc/mgplg/rbyav/ppeir/subdi/zljoz/kgdme/jhhbu/rnqwd/purto/bkfog/rvsfo/rpnzm/kafov\n",
      "main/olmhl/mmtsz/nujko/ywjka/pxjip/wthmo/wtgrc/mgplg/rbyav/ppeir/subdi/zljoz/kgdme/jhhbu/rnqwd/purto/bkfog/rvsfo/rpnzm/kafov/iites/ygtox/bpmhg\n",
      "main/olmhl/mmtsz/nujko/ywjka/pxjip/wthmo/wtgrc/mgplg/rbyav/ppeir/subdi/zljoz/kgdme/jhhbu/rnqwd/purto/bkfog/rvsfo/rpnzm/kafov/iites/ygtox/rhvqn\n",
      "main/olmhl/mmtsz/nujko/ywjka/pxjip/wthmo/wtgrc/mgplg/rbyav/ppeir/subdi/zljoz/kgdme/jhhbu/rnqwd/purto/bkfog/rvsfo/rpnzm/kafov/iites/ygtox/rhvqn/ggfcr\n",
      "main/olmhl/mmtsz/nujko/ywjka/pxjip/wthmo/wtgrc/mgplg/rbyav/ppeir/subdi/zljoz/kgdme/jhhbu/rnqwd/purto/bkfog/rvsfo/rpnzm/kafov/iites/ygtox/rhvqn/ggfcr/kxyxy/qrxwt\n",
      "main/olmhl/mmtsz/nujko/ywjka/pxjip/wthmo/wtgrc/mgplg/rbyav/ppeir/subdi/zljoz/kgdme/jhhbu/rnqwd/purto/bsgqc/ujtgh\n",
      "main/olmhl/mmtsz/nujko/ywjka/pxjip/wthmo/wtgrc/mgplg/rbyav/ppeir/subdi/zljoz/kgdme/jhhbu/rnqwd/purto/bsgqc/ujtgh/tyapv\n",
      "main/olmhl/mmtsz/nujko/ywjka/pxjip/wthmo/wtgrc/mgplg/rbyav/ppeir/subdi/zljoz/kgdme/jhhbu/rnqwd/purto/hmnro/jtmnb\n",
      "main/olmhl/mmtsz/nujko/ywjka/pxjip/wthmo/wtgrc/mgplg/rbyav/ppeir/subdi/zljoz/sgmoj\n",
      "main/olmhl/mmtsz/nujko/ywjka/pxjip/wthmo/wtgrc/mgplg/rbyav/ppeir/subdi/zljoz/xrvnu\n",
      "main/olmhl/mmtsz/nujko/ywjka/pxjip/wthmo/wtgrc/mgplg/rbyav/qosgw\n",
      "main/olmhl/mmtsz/nujko/ywjka/pxjip/wthmo/wtgrc/mgplg/rbyav/uaodv\n",
      "main/olmhl/mmtsz/nujko/ywjka/pxjip/wthmo/wtgrc/zfukg\n",
      "main/olmhl/mmtsz/nujko/ywjka/pxjip/wthmo/wtgrc/zfukg/cazio\n",
      "main/olmhl/mmtsz/nujko/ywjka/pxjip/wthmo/wtgrc/zfukg/cazio/sosdj\n",
      "main/olmhl/mmtsz/nujko/ywjka/pxjip/wthmo/wtgrc/zfukg/cazio/sosdj/rcsvd\n",
      "main/olmhl/mmtsz/nujko/ywjka/pxjip/wthmo/wtgrc/zfukg/cazio/sosdj/uuyrs\n",
      "main/olmhl/mmtsz/nujko/ywjka/pxjip/wthmo/wtgrc/zfukg/cazio/sosdj/yujjk\n",
      "main/olmhl/mmtsz/nujko/ywjka/pxjip/wthmo/wtgrc/zfukg/jvmme\n",
      "main/olmhl/mmtsz/nujko/ywjka/pxjip/wthmo/wtgrc/zfukg/jvmme/eayzq/isyki\n",
      "main/olmhl/mmtsz/nujko/ywjka/pxjip/wthmo/wtgrc/zfukg/jvmme/eayzq/nuiwj\n",
      "main/olmhl/mmtsz/nujko/ywjka/pxjip/wthmo/wtgrc/zfukg/jvmme/eayzq/tixoq/lldpv\n",
      "main/olmhl/mmtsz/nujko/ywjka/pxjip/wthmo/wtgrc/zfukg/jvmme/eayzq/wfnda\n",
      "main/olmhl/mmtsz/nujko/ywjka/pxjip/wthmo/wtgrc/zfukg/jvmme/kehsm\n",
      "main/olmhl/mmtsz/nujko/ywjka/pxjip/wthmo/wtgrc/zfukg/jvmme/vynzv\n",
      "main/olmhl/mmtsz/nujko/ywjka/pxjip/wthmo/wtgrc/zfukg/jvmme/wvwva\n",
      "main/olmhl/mmtsz/nujko/ywjka/pxjip/wthmo/wtgrc/zfukg/jvmme/wvwva/jebnq/kjmeo\n",
      "main/olmhl/mmtsz/nujko/ywjka/pxjip/wthmo/wtgrc/zfukg/jvmme/wvwva/jebnq/phcud\n",
      "main/olmhl/mmtsz/nujko/ywjka/pxjip/wthmo/wtgrc/zfukg/vydse\n",
      "main/olmhl/mmtsz/nujko/ywjxy\n",
      "main/olmhl/mmtsz/phcap\n",
      "main/qkseh\n",
      "main/sitdc\n",
      "main/taivr\n",
      "main/taivr/bcsow\n",
      "main/taivr/yptwa/xsbzr\n",
      "main/taivr/yptwa/xsbzr/hcasz/ilitr/joejy\n",
      "main/taivr/yptwa/xsbzr/hcasz/ilitr/urguw/sjmeg/ddnaa\n",
      "main/taivr/yptwa/xsbzr/hcasz/ilitr/urguw/sjmeg/ddnaa/ckaab\n",
      "main/taivr/yptwa/xsbzr/hcasz/ilitr/urguw/sjmeg/ddnaa/jxhbl/lradw\n",
      "main/taivr/yptwa/xsbzr/hcasz/ilitr/urguw/sjmeg/ddnaa/jxhbl/lradw/iglcm\n",
      "main/taivr/yptwa/xsbzr/hcasz/ilitr/urguw/sjmeg/ddnaa/jxhbl/tpdvr\n",
      "main/taivr/yptwa/xsbzr/hcasz/ilitr/urguw/sjmeg/ddnaa/lszec\n",
      "main/taivr/yptwa/xsbzr/hcasz/ilitr/urguw/sjmeg/ddnaa/lszec/wdftb/mhqps\n",
      "main/uvvuz\n",
      "main/uvvuz/ksnof\n",
      "main/zduna/ywucw\n",
      "main/zyczx\n"
     ]
    }
   ],
   "source": [
    "s = set()\n",
    "for current_dir, dirs, files in os.walk('.'):\n",
    "    for file in files:\n",
    "        if file[-3:] == '.py':\n",
    "            s.add('main' + current_dir[1:])\n",
    "            continue\n",
    "for e in sorted(s):\n",
    "    print(e)"
   ]
  },
  {
   "cell_type": "code",
   "execution_count": null,
   "metadata": {},
   "outputs": [],
   "source": []
  }
 ],
 "metadata": {
  "kernelspec": {
   "display_name": "Python 3",
   "language": "python",
   "name": "python3"
  },
  "language_info": {
   "codemirror_mode": {
    "name": "ipython",
    "version": 3
   },
   "file_extension": ".py",
   "mimetype": "text/x-python",
   "name": "python",
   "nbconvert_exporter": "python",
   "pygments_lexer": "ipython3",
   "version": "3.7.4"
  }
 },
 "nbformat": 4,
 "nbformat_minor": 4
}
