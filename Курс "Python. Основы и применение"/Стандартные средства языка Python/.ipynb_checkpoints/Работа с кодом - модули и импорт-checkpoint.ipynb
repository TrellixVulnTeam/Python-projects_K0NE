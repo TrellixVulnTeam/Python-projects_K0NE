{
 "cells": [
  {
   "cell_type": "markdown",
   "metadata": {},
   "source": [
    "если модуль уже есть в sys.modules (это обычный словарь), то используем его, иначе подгружаем"
   ]
  },
  {
   "cell_type": "markdown",
   "metadata": {},
   "source": [
    "## Задача\n",
    "В первой строке дано три числа, соответствующие некоторой дате date -- год, месяц и день.\n",
    "Во второй строке дано одно число days -- число дней.\n",
    "\n",
    "Вычислите и выведите год, месяц и день даты, которая наступит, когда с момента исходной даты date пройдет число дней, равное days."
   ]
  },
  {
   "cell_type": "code",
   "execution_count": 12,
   "metadata": {},
   "outputs": [
    {
     "name": "stdout",
     "output_type": "stream",
     "text": [
      "2017 2 2\n",
      "2\n",
      "2017 2 4\n"
     ]
    }
   ],
   "source": [
    "import datetime\n",
    "\n",
    "# year, month, day = [int(i) for i in input().split()]\n",
    "\n",
    "date = datetime.date(*[int(i) for i in input().split()])\n",
    "\n",
    "days = datetime.timedelta(days=int(input()))\n",
    "\n",
    "new_date = date + days\n",
    "\n",
    "print(new_date.year, new_date.month, new_date.day)"
   ]
  },
  {
   "cell_type": "markdown",
   "metadata": {},
   "source": [
    "можно импортировать только то, что надо: from module import Name\n",
    "\n",
    "еще давать новое имя - as MyName\n",
    "\n",
    "чтобы импортировать все - from _ import *\n",
    "\n",
    "в импортируемом модуле можно задать те имена, которые будут импортироваться при звездочке - \\__all__ = ['a1', 'a2'], либо начать с нижнего подчеркивания"
   ]
  },
  {
   "cell_type": "code",
   "execution_count": null,
   "metadata": {},
   "outputs": [],
   "source": []
  }
 ],
 "metadata": {
  "kernelspec": {
   "display_name": "Python 3",
   "language": "python",
   "name": "python3"
  },
  "language_info": {
   "codemirror_mode": {
    "name": "ipython",
    "version": 3
   },
   "file_extension": ".py",
   "mimetype": "text/x-python",
   "name": "python",
   "nbconvert_exporter": "python",
   "pygments_lexer": "ipython3",
   "version": "3.7.4"
  }
 },
 "nbformat": 4,
 "nbformat_minor": 4
}
