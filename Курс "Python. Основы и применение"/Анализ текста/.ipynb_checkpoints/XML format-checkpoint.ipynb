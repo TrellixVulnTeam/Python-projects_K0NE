{
 "cells": [
  {
   "cell_type": "markdown",
   "metadata": {},
   "source": [
    "### Задача\n",
    "Вам дано описание пирамиды из кубиков в формате XML.\n",
    "\n",
    "Кубики могут быть трех цветов: красный (red), зеленый (green) и синий (blue).\n",
    "\n",
    "Для каждого кубика известны его цвет, и известны кубики, расположенные прямо под ним.\n",
    "\n",
    "Введем понятие ценности для кубиков. Самый верхний кубик, соответствующий корню XML документа имеет ценность 1. Кубики, расположенные прямо под ним, имеют ценность 2. Кубики, расположенные прямо под нижележащими кубиками, имеют ценность 3. И т. д.\n",
    "\n",
    "Ценность цвета равна сумме ценностей всех кубиков этого цвета.\n",
    "\n",
    "Выведите через пробел три числа: ценности красного, зеленого и синего цветов."
   ]
  },
  {
   "cell_type": "code",
   "execution_count": null,
   "metadata": {},
   "outputs": [],
   "source": [
    "from xml.etree import ElementTree\n",
    "\n",
    "d = {'red': 0, 'green': 0, 'blue': 0}\n",
    "\n",
    "xml = input().strip()\n",
    "root = ElementTree.fromstring(xml)\n",
    "if root.tag == 'cube' and root.attrib['color'] in d:\n",
    "    d[root.attrib['color']] += 1\n",
    "\n",
    "for col in d:\n",
    "    cnt = 2\n",
    "    al = root.findall('.//cube[@color=\\'' + col + '\\']')\n",
    "    n = len(al)\n",
    "    s = './cube[@color=\\'' + col + '\\']'\n",
    "    while n > 0:\n",
    "        ch = root.findall(s)\n",
    "        if len(ch) > 0:\n",
    "            d[col] += cnt * len(ch)\n",
    "            n -= len(ch)\n",
    "        cnt += 1\n",
    "        s = s.replace('.', './cube')"
   ]
  },
  {
   "cell_type": "code",
   "execution_count": null,
   "metadata": {},
   "outputs": [],
   "source": [
    "import xml.etree.ElementTree as ET\n",
    "\n",
    "tree = ET.fromstring(input())\n",
    "ans = {\"red\": 0, \"green\": 0, \"blue\": 0}\n",
    "\n",
    "def dfs(cube, res, depth):\n",
    "    res[cube.attrib[\"color\"]] += depth\n",
    "    for i in cube.findall(\"cube\"):\n",
    "        dfs(i, res, depth + 1)\n",
    "\n",
    "dfs(tree, ans, 1)\n",
    "print(ans[\"red\"], ans[\"green\"], ans[\"blue\"])"
   ]
  },
  {
   "cell_type": "code",
   "execution_count": null,
   "metadata": {},
   "outputs": [],
   "source": [
    "from xml.etree import ElementTree\n",
    "\n",
    "root = ElementTree.fromstring(input())\n",
    "colors = {\"red\": 0, \"green\": 0, \"blue\": 0}\n",
    "\n",
    "def getcubes(root, value):\n",
    "    colors[root.attrib['color']] += value\n",
    "    for child in root:\n",
    "        getcubes(child, value+1)\n",
    "\n",
    "getcubes(root,1)\n",
    "print(colors[\"red\"], colors[\"green\"], colors[\"blue\"])"
   ]
  }
 ],
 "metadata": {
  "kernelspec": {
   "display_name": "Python 3",
   "language": "python",
   "name": "python3"
  },
  "language_info": {
   "codemirror_mode": {
    "name": "ipython",
    "version": 3
   },
   "file_extension": ".py",
   "mimetype": "text/x-python",
   "name": "python",
   "nbconvert_exporter": "python",
   "pygments_lexer": "ipython3",
   "version": "3.7.4"
  }
 },
 "nbformat": 4,
 "nbformat_minor": 4
}
