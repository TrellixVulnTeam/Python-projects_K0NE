{
 "cells": [
  {
   "cell_type": "markdown",
   "metadata": {},
   "source": [
    "### http протокол\n",
    "2 стороны участвуют в общении:\n",
    "   - клиент (мы)\n",
    "   - сервер\n",
    "   \n",
    "URL - \"единообразный локатор ресурсов\""
   ]
  },
  {
   "cell_type": "code",
   "execution_count": 1,
   "metadata": {},
   "outputs": [],
   "source": [
    "import requests"
   ]
  },
  {
   "cell_type": "code",
   "execution_count": 2,
   "metadata": {},
   "outputs": [
    {
     "name": "stdout",
     "output_type": "stream",
     "text": [
      "200\n",
      "text/html\n"
     ]
    }
   ],
   "source": [
    "res = requests.get('https://docs.python.org/3.5/')\n",
    "print(res.status_code)\n",
    "print(res.headers['Content-Type'])"
   ]
  },
  {
   "cell_type": "code",
   "execution_count": 5,
   "metadata": {},
   "outputs": [],
   "source": [
    "#print(res.content)\n",
    "#print(res.text)"
   ]
  },
  {
   "cell_type": "code",
   "execution_count": 7,
   "metadata": {},
   "outputs": [
    {
     "name": "stdout",
     "output_type": "stream",
     "text": [
      "200\n",
      "text/html; charset=utf-8\n",
      "https://yandex.ru/search/?text=Stepic&lr=35&redircnt=1585161654.1\n"
     ]
    }
   ],
   "source": [
    "res = requests.get('https://yandex.ru/search', params={'text' : 'Stepic'})\n",
    "print(res.status_code)\n",
    "print(res.headers['Content-Type'])\n",
    "print(res.url)\n",
    "#print(res.text)"
   ]
  },
  {
   "cell_type": "markdown",
   "metadata": {},
   "source": [
    "### Задача\n",
    "\n",
    "- Рассмотрим два HTML-документа A и B.\n",
    "\n",
    "\n",
    "- Из A можно перейти в B за один переход, если в A есть ссылка на B, т. е. внутри A есть тег < a href=\"B\">, возможно с дополнительными параметрами внутри тега.\n",
    "- Из A можно перейти в B за два перехода если существует такой документ C, что из A в C можно перейти за один переход и из C в B можно перейти за один переход.\n",
    "\n",
    "Вашей программе на вход подаются две строки, содержащие url двух документов A и B.\n",
    "Выведите Yes, если из A в B можно перейти за два перехода, иначе выведите No."
   ]
  },
  {
   "cell_type": "markdown",
   "metadata": {},
   "source": [
    "### Первая попытка"
   ]
  },
  {
   "cell_type": "code",
   "execution_count": 30,
   "metadata": {},
   "outputs": [
    {
     "name": "stdout",
     "output_type": "stream",
     "text": [
      "https://stepic.org/media/attachments/lesson/24472/sample0.html\n",
      "https://stepic.org/media/attachments/lesson/24472/sample2.html\n",
      "Yes\n"
     ]
    }
   ],
   "source": [
    "import re \n",
    "\n",
    "A, B = input(), input()\n",
    "\n",
    "res_A = requests.get(A)\n",
    "res_B = requests.get(B)\n",
    "\n",
    "def find_url_lst(res):\n",
    "    s = r'<a href=\".*\">'\n",
    "    links = re.findall(s, res.text)\n",
    "    return links\n",
    "\n",
    "def find_url(url_input):\n",
    "    s = r'\".*\"'\n",
    "    url = re.findall(s, url_input)\n",
    "    return url\n",
    "    \n",
    "flag = False\n",
    "if res_A.status_code == 200 and res_B.status_code == 200:\n",
    "    links = find_url_lst(res_A)\n",
    "    \n",
    "    for l in links:\n",
    "        u = find_url(l)\n",
    "        res_new = requests.get(u[0][1:-1])\n",
    "        if res_new.status_code == 200:\n",
    "                s = r'<a href=\"{}\">'.format(B)\n",
    "                links = re.findall(s, res_new.text)\n",
    "                if len(links) > 0:\n",
    "                    flag = True\n",
    "                    break\n",
    "if flag:\n",
    "    print('Yes')\n",
    "else:\n",
    "    print('No')\n",
    "        "
   ]
  },
  {
   "cell_type": "markdown",
   "metadata": {},
   "source": [
    "### Вторая попытка"
   ]
  },
  {
   "cell_type": "code",
   "execution_count": 33,
   "metadata": {},
   "outputs": [
    {
     "name": "stdout",
     "output_type": "stream",
     "text": [
      "https://stepic.org/media/attachments/lesson/24472/sample0.html\n",
      "https://stepic.org/media/attachments/lesson/24472/sample2.html\n",
      "Yes\n",
      "Yes\n"
     ]
    }
   ],
   "source": [
    "import re \n",
    "import requests\n",
    "\n",
    "A, B = input(), input()\n",
    "\n",
    "res_A = requests.get(A)\n",
    "res_B = requests.get(B)\n",
    "\n",
    "def find_url_lst(res):\n",
    "    s = r'<a href=\".*\">'\n",
    "    links = re.findall(s, res.text)\n",
    "    upd_links = [l[9:-2] for l in links]\n",
    "    return upd_links\n",
    "\n",
    "def get_result():\n",
    "    if res_A.status_code == 200 and res_B.status_code == 200:\n",
    "        url_in_A = find_url_lst(res_A)\n",
    "        for l in url_in_A:\n",
    "            res_C = requests.get(l)\n",
    "            if res_C.status_code == 200:\n",
    "                s = r'<a href=\"{}\">'.format(B)\n",
    "                if re.search(s, res_C.text):\n",
    "                    return True\n",
    "    return False\n",
    "\n",
    "if get_result():\n",
    "    print('Yes')\n",
    "else:\n",
    "    print('No')"
   ]
  },
  {
   "cell_type": "markdown",
   "metadata": {},
   "source": [
    "### Попытка №3 - лучшее решение"
   ]
  },
  {
   "cell_type": "code",
   "execution_count": null,
   "metadata": {},
   "outputs": [],
   "source": [
    "import re\n",
    "import requests\n",
    "\n",
    "start_url = input()\n",
    "end_url = input()\n",
    "\n",
    "found = False\n",
    "\n",
    "link_pattern = re.compile(r'<a[^>]*?href=\"(.*?)\"[^>]*?>')\n",
    "\n",
    "resp = requests.get(start_url).text\n",
    "for url in link_pattern.findall(resp):\n",
    "    cur_resp = requests.get(url).text\n",
    "    if end_url in link_pattern.findall(cur_resp):\n",
    "        found = True\n",
    "        break\n",
    "\n",
    "print(\"Yes\" if found else \"No\")\n",
    "\n",
    "\n",
    "### ИЛИ\n",
    "\n",
    "import requests, re\n",
    "\n",
    "urls = [input() for cmd in range(2)]\n",
    "p = 'No'\n",
    "\n",
    "for i in re.findall(r'<a.*href=\"(.*)\">', requests.get(urls[0]).text):\n",
    "    if urls[1] in re.findall(r'<a.*href=\"(.*)\">', requests.get(i).text):\n",
    "        p = 'Yes'\n",
    "        break\n",
    "\n",
    "print(p)"
   ]
  },
  {
   "cell_type": "code",
   "execution_count": null,
   "metadata": {},
   "outputs": [],
   "source": []
  }
 ],
 "metadata": {
  "kernelspec": {
   "display_name": "Python 3",
   "language": "python",
   "name": "python3"
  },
  "language_info": {
   "codemirror_mode": {
    "name": "ipython",
    "version": 3
   },
   "file_extension": ".py",
   "mimetype": "text/x-python",
   "name": "python",
   "nbconvert_exporter": "python",
   "pygments_lexer": "ipython3",
   "version": "3.7.4"
  }
 },
 "nbformat": 4,
 "nbformat_minor": 4
}
