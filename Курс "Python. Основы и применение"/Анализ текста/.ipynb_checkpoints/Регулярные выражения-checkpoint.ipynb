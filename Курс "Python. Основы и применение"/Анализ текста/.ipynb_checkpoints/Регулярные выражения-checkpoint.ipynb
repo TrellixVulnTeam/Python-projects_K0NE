{
 "cells": [
  {
   "cell_type": "markdown",
   "metadata": {},
   "source": [
    "### Сырые строки - raw"
   ]
  },
  {
   "cell_type": "code",
   "execution_count": 1,
   "metadata": {},
   "outputs": [
    {
     "name": "stdout",
     "output_type": "stream",
     "text": [
      "hello\n",
      "world\n"
     ]
    }
   ],
   "source": [
    "x = 'hello\\nworld'\n",
    "print(x)"
   ]
  },
  {
   "cell_type": "code",
   "execution_count": 2,
   "metadata": {},
   "outputs": [
    {
     "name": "stdout",
     "output_type": "stream",
     "text": [
      "hello\\nworld\n"
     ]
    }
   ],
   "source": [
    "x = r'hello\\nworld'\n",
    "print(x)"
   ]
  },
  {
   "cell_type": "code",
   "execution_count": 3,
   "metadata": {},
   "outputs": [],
   "source": [
    "import re"
   ]
  },
  {
   "cell_type": "code",
   "execution_count": 4,
   "metadata": {},
   "outputs": [
    {
     "name": "stdout",
     "output_type": "stream",
     "text": [
      "<function match at 0x106289ef0>\n",
      "<function search at 0x10629d3b0>\n",
      "<function findall at 0x1062d1710>\n",
      "<function sub at 0x1062d1560>\n"
     ]
    }
   ],
   "source": [
    "print(re.match)\n",
    "print(re.search)\n",
    "print(re.findall)\n",
    "print(re.sub)"
   ]
  },
  {
   "cell_type": "code",
   "execution_count": 8,
   "metadata": {},
   "outputs": [
    {
     "name": "stdout",
     "output_type": "stream",
     "text": [
      "None\n"
     ]
    }
   ],
   "source": [
    "pattern = r'abc'\n",
    "string = 'accd'\n",
    "match_object = re.match(pattern, string)\n",
    "print(match_object)"
   ]
  },
  {
   "cell_type": "code",
   "execution_count": 10,
   "metadata": {},
   "outputs": [
    {
     "name": "stdout",
     "output_type": "stream",
     "text": [
      "<re.Match object; span=(1, 4), match='abc'>\n"
     ]
    }
   ],
   "source": [
    "pattern = r'abc'\n",
    "string = 'babc'\n",
    "match_object = re.search(pattern, string)\n",
    "print(match_object)"
   ]
  },
  {
   "cell_type": "code",
   "execution_count": 11,
   "metadata": {},
   "outputs": [
    {
     "name": "stdout",
     "output_type": "stream",
     "text": [
      "<re.Match object; span=(0, 3), match='afc'>\n"
     ]
    }
   ],
   "source": [
    "pattern = r'a[badf]c'\n",
    "string = 'afc'\n",
    "match_object = re.match(pattern, string)\n",
    "print(match_object)"
   ]
  },
  {
   "cell_type": "code",
   "execution_count": 12,
   "metadata": {},
   "outputs": [
    {
     "name": "stdout",
     "output_type": "stream",
     "text": [
      "['abc', 'aac']\n"
     ]
    }
   ],
   "source": [
    "string = 'abc, acc, aac'\n",
    "all_inclusions = re.findall(pattern, string)\n",
    "print(all_inclusions)"
   ]
  },
  {
   "cell_type": "code",
   "execution_count": 13,
   "metadata": {},
   "outputs": [
    {
     "name": "stdout",
     "output_type": "stream",
     "text": [
      "<re.Match object; span=(12, 20), match=' english'>\n"
     ]
    }
   ],
   "source": [
    "pattern = r\" english?\"\n",
    "string = \"Do you speak english?\"\n",
    "match = re.search(pattern, string)\n",
    "print(match)"
   ]
  },
  {
   "cell_type": "markdown",
   "metadata": {},
   "source": [
    "### Знак вопроса является метасимволом"
   ]
  },
  {
   "cell_type": "code",
   "execution_count": 14,
   "metadata": {},
   "outputs": [
    {
     "name": "stdout",
     "output_type": "stream",
     "text": [
      "<re.Match object; span=(12, 21), match=' english?'>\n"
     ]
    }
   ],
   "source": [
    "pattern = r\" english\\?\"\n",
    "string = \"Do you speak english?\"\n",
    "match = re.search(pattern, string)\n",
    "print(match)"
   ]
  },
  {
   "cell_type": "code",
   "execution_count": 15,
   "metadata": {},
   "outputs": [],
   "source": [
    "# [] -- можно указать множество подходящих символов\n",
    "# . ^ $  * + ? { } [ ] \\ | ( ) -- метасимволы"
   ]
  },
  {
   "cell_type": "code",
   "execution_count": 19,
   "metadata": {},
   "outputs": [
    {
     "name": "stdout",
     "output_type": "stream",
     "text": [
      "<re.Match object; span=(0, 3), match='acc'>\n"
     ]
    }
   ],
   "source": [
    "pattern = r\"a[a-c]c\"\n",
    "string = 'acc'\n",
    "match_object = re.match(pattern, string)\n",
    "print(match_object)"
   ]
  },
  {
   "cell_type": "markdown",
   "metadata": {},
   "source": [
    "- ^ - карет, обозначает либо начало строки, либо инвертирование группы символов. (например: \"^[^0-9]\" — не-цифра в начале строки).\n",
    "\n",
    "- \\d ~ [0-9] — цифры\n",
    "\n",
    "- \\D ~ [^0-9]\n",
    "\n",
    "- \\s ~ [ \\t\\n\\r\\f\\v] — пробельные символы\n",
    "\n",
    "- \\S ~ [^ \\t\\n\\r\\f\\v]\n",
    "\n",
    "- \\w ~ [a-zA-Z0-9_] — буквы + цифры + _\n",
    "\n",
    "- \\W ~ [^a-zA-Z0-9_]"
   ]
  },
  {
   "cell_type": "code",
   "execution_count": 20,
   "metadata": {},
   "outputs": [
    {
     "name": "stdout",
     "output_type": "stream",
     "text": [
      "['aa', 'aba', 'abba']\n"
     ]
    }
   ],
   "source": [
    "pattern = r\"ab*a\"\n",
    "string = \"aa, aba, abba\"\n",
    "all_inclusions = re.findall(pattern, string)\n",
    "print(all_inclusions)"
   ]
  },
  {
   "cell_type": "code",
   "execution_count": 21,
   "metadata": {},
   "outputs": [
    {
     "name": "stdout",
     "output_type": "stream",
     "text": [
      "<re.Match object; span=(0, 4), match='test'>\n"
     ]
    }
   ],
   "source": [
    "pattern = r\"(test)*\"\n",
    "string = 'test'\n",
    "match_object = re.match(pattern, string)\n",
    "print(match_object)"
   ]
  },
  {
   "cell_type": "code",
   "execution_count": 22,
   "metadata": {},
   "outputs": [
    {
     "name": "stdout",
     "output_type": "stream",
     "text": [
      "<re.Match object; span=(0, 8), match='testtext'>\n"
     ]
    }
   ],
   "source": [
    "pattern = r\"(test|text)*\"\n",
    "string = 'testtext'\n",
    "match_object = re.match(pattern, string)\n",
    "print(match_object)"
   ]
  },
  {
   "cell_type": "markdown",
   "metadata": {},
   "source": [
    "### https://habr.com/ru/post/349860/"
   ]
  },
  {
   "cell_type": "markdown",
   "metadata": {},
   "source": [
    "### Задача\n",
    "Вам дана последовательность строк.\n",
    "Выведите строки, содержащие \"cat\" в качестве подстроки хотя бы два раза."
   ]
  },
  {
   "cell_type": "code",
   "execution_count": 36,
   "metadata": {},
   "outputs": [
    {
     "name": "stdout",
     "output_type": "stream",
     "text": [
      "catcat\n",
      "cat and cat\n"
     ]
    }
   ],
   "source": [
    "lst = ['catcat', 'cat and cat', 'catac', 'cat', 'ccaatt']\n",
    "\n",
    "for line in lst:\n",
    "    line = line.rstrip()\n",
    "    if len(re.findall(r'cat', line)) >= 2:\n",
    "        print(line)"
   ]
  },
  {
   "cell_type": "code",
   "execution_count": 50,
   "metadata": {},
   "outputs": [
    {
     "name": "stdout",
     "output_type": "stream",
     "text": [
      "catcat\n",
      "cat and cat\n"
     ]
    }
   ],
   "source": [
    "for line in lst:\n",
    "    line = line.strip()\n",
    "    if re.search(r\"cat.*cat\", line):\n",
    "        print(line)"
   ]
  },
  {
   "cell_type": "markdown",
   "metadata": {},
   "source": [
    "### Задача\n",
    "Вам дана последовательность строк.\n",
    "Выведите строки, содержащие \"cat\" в качестве слова.\n"
   ]
  },
  {
   "cell_type": "code",
   "execution_count": 53,
   "metadata": {},
   "outputs": [
    {
     "name": "stdout",
     "output_type": "stream",
     "text": [
      "cat and cat\n",
      "cat\n"
     ]
    }
   ],
   "source": [
    "for line in lst:\n",
    "    line = line.strip()\n",
    "    pattern = r\"\\bcat\\b\"\n",
    "    if len(re.findall(pattern, line)) > 0:\n",
    "        print(line)\n",
    "    "
   ]
  },
  {
   "cell_type": "code",
   "execution_count": 54,
   "metadata": {},
   "outputs": [],
   "source": [
    "for line in sys.stdin:\n",
    "    line = line.rstrip()\n",
    "    if re.search(r\"\\bcat\\b\", line):\n",
    "        print(line)"
   ]
  },
  {
   "cell_type": "markdown",
   "metadata": {},
   "source": [
    "### Задача\n",
    "Вам дана последовательность строк.\n",
    "Выведите строки, содержащие две буквы \"z﻿\", между которыми ровно три символа."
   ]
  },
  {
   "cell_type": "code",
   "execution_count": 56,
   "metadata": {},
   "outputs": [
    {
     "name": "stdout",
     "output_type": "stream",
     "text": [
      "zabcz\n"
     ]
    }
   ],
   "source": [
    "lst_z = ['zabcz', 'zzz'] \n",
    "for line in lst_z:\n",
    "    line = line.strip()\n",
    "    pattern = r\"z...z\"\n",
    "    if len(re.findall(pattern, line)) > 0:\n",
    "        print(line)"
   ]
  },
  {
   "cell_type": "markdown",
   "metadata": {},
   "source": [
    "### Задача\n",
    "Вам дана последовательность строк.\n",
    "Выведите строки, содержащие обратный слеш \"\\﻿\"."
   ]
  },
  {
   "cell_type": "code",
   "execution_count": 57,
   "metadata": {},
   "outputs": [
    {
     "name": "stdout",
     "output_type": "stream",
     "text": [
      "\\zabcz\n"
     ]
    }
   ],
   "source": [
    "lst_z = ['\\zabcz', 'zzz'] \n",
    "for line in lst_z:\n",
    "    line = line.strip()\n",
    "    if '\\\\' in line:\n",
    "        print(line)"
   ]
  },
  {
   "cell_type": "code",
   "execution_count": null,
   "metadata": {},
   "outputs": [],
   "source": [
    "for line in sys.stdin:\n",
    "    line = line.rstrip()\n",
    "    if re.search(r\"\\\\\", line):\n",
    "        print(line)"
   ]
  },
  {
   "cell_type": "markdown",
   "metadata": {},
   "source": [
    "### Задача\n",
    "Вам дана последовательность строк.\n",
    "Выведите строки, содержащие слово, состоящее из двух одинаковых частей (тандемный повтор)."
   ]
  },
  {
   "cell_type": "code",
   "execution_count": 89,
   "metadata": {},
   "outputs": [
    {
     "name": "stdout",
     "output_type": "stream",
     "text": [
      "blabla is a tandem repetition\n",
      "123123 is good too\n"
     ]
    }
   ],
   "source": [
    "lst_tandem = ['blabla is a tandem repetition', '123123 is good too', 'go go', 'aaa']\n",
    "for line in lst_tandem:\n",
    "    line = line.strip()\n",
    "    if re.search(r\"\\b(\\w+)(\\1)\\b\", line):\n",
    "        print(line)"
   ]
  },
  {
   "cell_type": "markdown",
   "metadata": {},
   "source": [
    "### Задача\n",
    "Вам дана последовательность строк.\n",
    "В каждой строке замените все вхождения подстроки \"human\" на подстроку \"computer\"﻿ и выведите полученные строки."
   ]
  },
  {
   "cell_type": "code",
   "execution_count": 94,
   "metadata": {},
   "outputs": [
    {
     "name": "stdout",
     "output_type": "stream",
     "text": [
      "I need to understand the computer mind\n",
      "computerity\n"
     ]
    }
   ],
   "source": [
    "lst_2 = ['I need to understand the human mind', 'humanity']\n",
    "for line in lst_2:\n",
    "    line = line.strip()\n",
    "    print(re.sub(r'human', r'computer', line))"
   ]
  },
  {
   "cell_type": "markdown",
   "metadata": {},
   "source": [
    "### Задача\n",
    "Вам дана последовательность строк.\n",
    "В каждой строке замените первое вхождение слова, состоящего только из латинских букв \"a\" (регистр не важен), на слово \"argh\"."
   ]
  },
  {
   "cell_type": "code",
   "execution_count": 96,
   "metadata": {},
   "outputs": [
    {
     "name": "stdout",
     "output_type": "stream",
     "text": [
      "There’ll be no more argh\n",
      "argh AaAaAaA\n"
     ]
    }
   ],
   "source": [
    "lst_3 = ['There’ll be no more Aaaaaaaaaaaaaaa', 'AaAaAaA AaAaAaA']\n",
    "\n",
    "for line in lst_3:\n",
    "    line = line.strip()\n",
    "    print(re.sub(r'\\b[a|A]+\\b', r'argh', line, 1))"
   ]
  },
  {
   "cell_type": "markdown",
   "metadata": {},
   "source": [
    "### Задача\n",
    "Вам дана последовательность строк.\n",
    "В каждой строке поменяйте местами две первых буквы в каждом слове, состоящем хотя бы из двух букв.\n",
    "Буквой считается символ из группы \\w."
   ]
  },
  {
   "cell_type": "code",
   "execution_count": 113,
   "metadata": {},
   "outputs": [
    {
     "name": "stdout",
     "output_type": "stream",
     "text": [
      "htis si a etxt\n",
      "htis !si. ?1nce,\n"
     ]
    }
   ],
   "source": [
    "lst_4 = ['this is a text', 'this !is. ?n1ce,']\n",
    "for line in lst_4:\n",
    "    line = line.strip()\n",
    "    print(re.sub(r'\\b(\\w)(\\w)', r'\\2\\1', line))"
   ]
  },
  {
   "cell_type": "markdown",
   "metadata": {},
   "source": [
    "### Задача\n",
    "Вам дана последовательность строк.\n",
    "В каждой строке замените все вхождения нескольких одинаковых букв на одну букву.\n",
    "Буквой считается символ из группы \\w."
   ]
  },
  {
   "cell_type": "code",
   "execution_count": 120,
   "metadata": {},
   "outputs": [
    {
     "name": "stdout",
     "output_type": "stream",
     "text": [
      "atraction\n",
      "buz\n"
     ]
    }
   ],
   "source": [
    "lst_5 = ['attraction', 'buzzzz']\n",
    "\n",
    "for line in lst_5:\n",
    "    line = line.strip()\n",
    "    print(re.sub(r'(\\w)\\1+', r'\\1', line))"
   ]
  },
  {
   "cell_type": "markdown",
   "metadata": {},
   "source": [
    "### Задача\n",
    "Вам дана последовательность строк.\n",
    "Выведите строки, содержащие двоичную запись числа, кратного 3."
   ]
  },
  {
   "cell_type": "code",
   "execution_count": 123,
   "metadata": {},
   "outputs": [
    {
     "name": "stdout",
     "output_type": "stream",
     "text": [
      "0\n",
      "10010\n",
      "01001\n"
     ]
    }
   ],
   "source": [
    "lst_6 = ['0', '10010', '00101', '01001', 'Not a number', '1 1', '0 0']\n",
    "\n",
    "for line in lst_6:\n",
    "    try:\n",
    "        a = int(line, 2)\n",
    "        if a % 3 == 0:\n",
    "            line = line.strip()\n",
    "            print(line)\n",
    "    except:\n",
    "        continue"
   ]
  },
  {
   "cell_type": "markdown",
   "metadata": {},
   "source": [
    "### Решение с помощью регулярных выражений\n",
    "\n",
    "- Идея решения идёт от построения конечного автомата, допускающее состояние которого -- числа делящиеся на три.\n",
    "\n",
    "- Затем по данному автомату можно построить регулярное выражение.\n",
    "\n",
    "- Также стоит быть аккуратными с описанием самого регулярного выражения -- не всё будет работать быстро.\n",
    "\n",
    "http://stackoverflow.com/questions/844867/check-if-a-number-is-divisible-by-3/3253053#3253053"
   ]
  },
  {
   "cell_type": "code",
   "execution_count": 124,
   "metadata": {},
   "outputs": [],
   "source": [
    "pattern = \"^(0|(1(01*0)*1))*$\"\n",
    "pattern = re.compile(pattern)\n",
    "for line in sys.stdin:\n",
    "    line = line.rstrip()\n",
    "    if pattern.match(line):\n",
    "        print(line)"
   ]
  },
  {
   "cell_type": "code",
   "execution_count": null,
   "metadata": {},
   "outputs": [],
   "source": []
  }
 ],
 "metadata": {
  "kernelspec": {
   "display_name": "Python 3",
   "language": "python",
   "name": "python3"
  },
  "language_info": {
   "codemirror_mode": {
    "name": "ipython",
    "version": 3
   },
   "file_extension": ".py",
   "mimetype": "text/x-python",
   "name": "python",
   "nbconvert_exporter": "python",
   "pygments_lexer": "ipython3",
   "version": "3.7.4"
  }
 },
 "nbformat": 4,
 "nbformat_minor": 4
}
