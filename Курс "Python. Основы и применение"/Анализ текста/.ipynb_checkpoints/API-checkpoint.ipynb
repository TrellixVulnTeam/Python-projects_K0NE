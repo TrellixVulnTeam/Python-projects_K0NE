{
 "cells": [
  {
   "cell_type": "markdown",
   "metadata": {},
   "source": [
    "### Open Weather Map API"
   ]
  },
  {
   "cell_type": "code",
   "execution_count": 1,
   "metadata": {},
   "outputs": [],
   "source": [
    "import requests"
   ]
  },
  {
   "cell_type": "code",
   "execution_count": 14,
   "metadata": {},
   "outputs": [],
   "source": [
    "api_url = \"http://api.openweathermap.org/data/2.5/weather\""
   ]
  },
  {
   "cell_type": "code",
   "execution_count": 22,
   "metadata": {},
   "outputs": [],
   "source": [
    "params = {\n",
    "    'q' : 'Saint Petersburg',\n",
    "    'appid' : '11c0d3dc6093f7442898ee49d2430d20',\n",
    "    'units' : 'metric'\n",
    "}"
   ]
  },
  {
   "cell_type": "code",
   "execution_count": 23,
   "metadata": {},
   "outputs": [
    {
     "name": "stdout",
     "output_type": "stream",
     "text": [
      "200\n",
      "application/json; charset=utf-8\n"
     ]
    }
   ],
   "source": [
    "res = requests.get(api_url, params=params)\n",
    "print(res.status_code)\n",
    "print(res.headers['Content-Type'])"
   ]
  },
  {
   "cell_type": "code",
   "execution_count": 24,
   "metadata": {},
   "outputs": [
    {
     "name": "stdout",
     "output_type": "stream",
     "text": [
      "{'coord': {'lon': 30.26, 'lat': 59.89}, 'weather': [{'id': 802, 'main': 'Clouds', 'description': 'scattered clouds', 'icon': '03d'}], 'base': 'stations', 'main': {'temp': 8, 'feels_like': 4.44, 'temp_min': 8, 'temp_max': 8, 'pressure': 1030, 'humidity': 52}, 'visibility': 10000, 'wind': {'speed': 2, 'deg': 350}, 'clouds': {'all': 40}, 'dt': 1585235281, 'sys': {'type': 1, 'id': 8926, 'country': 'RU', 'sunrise': 1585194093, 'sunset': 1585240041}, 'timezone': 10800, 'id': 498817, 'name': 'Saint Petersburg', 'cod': 200}\n"
     ]
    }
   ],
   "source": [
    "print(res.json())"
   ]
  },
  {
   "cell_type": "code",
   "execution_count": 25,
   "metadata": {},
   "outputs": [],
   "source": [
    "data = res.json()"
   ]
  },
  {
   "cell_type": "code",
   "execution_count": 26,
   "metadata": {},
   "outputs": [
    {
     "name": "stdout",
     "output_type": "stream",
     "text": [
      "8\n"
     ]
    }
   ],
   "source": [
    "print(data['main']['temp'])"
   ]
  },
  {
   "cell_type": "markdown",
   "metadata": {},
   "source": [
    "### Artsy API"
   ]
  },
  {
   "cell_type": "code",
   "execution_count": 30,
   "metadata": {},
   "outputs": [
    {
     "name": "stdout",
     "output_type": "stream",
     "text": [
      "<generator object <genexpr> at 0x10bcae850>\n"
     ]
    }
   ],
   "source": [
    "import json\n",
    "client_id = 'f2737d5f2486e80e4aa2'\n",
    "client_secret = '88b5a503c6923fa36a04ec164fe961f7'\n",
    "\n",
    "# инициируем запрос на получение токена\n",
    "r = requests.post(\"https://api.artsy.net/api/tokens/xapp_token\",\n",
    "                  data={\n",
    "                      \"client_id\": client_id,\n",
    "                      \"client_secret\": client_secret\n",
    "                  })\n",
    "\n",
    "# разбираем ответ сервера\n",
    "j = json.loads(r.text)\n",
    "\n",
    "# достаем токен\n",
    "token = j[\"token\"]\n",
    "\n",
    "# создаем заголовок, содержащий наш токен\n",
    "headers = {\"X-Xapp-Token\" : token}\n",
    "\n",
    "lst = []\n",
    "\n",
    "with open('dataset_24476_4-3.txt', 'r') as f:\n",
    "    for line in f:\n",
    "        line = line.strip()\n",
    "        r = requests.get(\"https://api.artsy.net/api/artists/\" + line, headers=headers)\n",
    "        \n",
    "        j = json.loads(r.text)\n",
    "        \n",
    "        lst.append((j['sortable_name'], j['birthday']))\n",
    "\n",
    "\n",
    "lst.sort(key = lambda x: (x[1], x[0]))\n",
    "\n",
    "\n",
    "for i in lst:\n",
    "    print(i[0])\n",
    "    \n",
    "# инициируем запрос с заголовком\n",
    "# r = requests.get(\"https://api.artsy.net/api/artists/4d8b92b34eb68a1b2c0003f4\", headers=headers)\n",
    "\n",
    "# # разбираем ответ сервера\n",
    "# j = json.loads(r.text)\n",
    "\n",
    "# print(j['name'])"
   ]
  },
  {
   "cell_type": "markdown",
   "metadata": {},
   "source": [
    "В этой задаче вам необходимо воспользоваться API сайта numbersapi.com\n",
    "\n",
    "Вам дается набор чисел. Для каждого из чисел необходимо узнать, существует ли интересный математический факт об этом числе.\n",
    "\n",
    "Для каждого числа выведите Interesting, если для числа существует интересный факт, и Boring иначе.\n",
    "Выводите информацию об интересности чисел в таком же порядке, в каком следуют числа во входном файле.\n",
    "\n",
    "Если не заработает, можно воспользоваться https://repl.it/"
   ]
  },
  {
   "cell_type": "code",
   "execution_count": null,
   "metadata": {},
   "outputs": [],
   "source": [
    "import requests\n",
    "\n",
    "numb = [930, 933, 901, 999, 934, 937, 906, 970, 941, 977, 916, 922, 988, 958, 991]\n",
    "\n",
    "for el in numb:\n",
    "    api_url = \"http://numbersapi.com/\" + str(el) + \"/math?json=true\"\n",
    "\n",
    "\n",
    "    res = requests.get(api_url,  headers={'Content-Type': 'application/json'})\n",
    "\n",
    "      \n",
    "    if res.json()['found']:\n",
    "        print('Interesting')\n",
    "    else:\n",
    "        print('Boring')"
   ]
  }
 ],
 "metadata": {
  "kernelspec": {
   "display_name": "Python 3",
   "language": "python",
   "name": "python3"
  },
  "language_info": {
   "codemirror_mode": {
    "name": "ipython",
    "version": 3
   },
   "file_extension": ".py",
   "mimetype": "text/x-python",
   "name": "python",
   "nbconvert_exporter": "python",
   "pygments_lexer": "ipython3",
   "version": "3.7.4"
  }
 },
 "nbformat": 4,
 "nbformat_minor": 4
}
