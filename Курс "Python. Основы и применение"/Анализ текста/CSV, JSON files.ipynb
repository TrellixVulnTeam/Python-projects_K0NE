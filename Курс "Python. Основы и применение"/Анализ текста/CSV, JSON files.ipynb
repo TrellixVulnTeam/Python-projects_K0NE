{
 "cells": [
  {
   "cell_type": "code",
   "execution_count": 1,
   "metadata": {},
   "outputs": [],
   "source": [
    "import csv"
   ]
  },
  {
   "cell_type": "code",
   "execution_count": 10,
   "metadata": {},
   "outputs": [
    {
     "name": "stdout",
     "output_type": "stream",
     "text": [
      "{'NARCOTICS': 253, 'BATTERY': 472, 'CRIMINAL DAMAGE': 296, 'ASSAULT': 174, 'DECEPTIVE PRACTICE': 139, 'THEFT': 595, 'ROBBERY': 87, 'INTERFERENCE WITH PUBLIC OFFICER': 12, 'PROSTITUTION': 13, 'CRIMINAL TRESPASS': 63, 'BURGLARY': 131, 'OTHER OFFENSE': 178, 'PUBLIC PEACE VIOLATION': 27, 'MOTOR VEHICLE THEFT': 122, 'OFFENSE INVOLVING CHILDREN': 17, 'WEAPONS VIOLATION': 27, 'CRIM SEXUAL ASSAULT': 16, 'INTIMIDATION': 1, 'SEX OFFENSE': 8, 'KIDNAPPING': 1, 'STALKING': 1, 'GAMBLING': 1, 'LIQUOR LAW VIOLATION': 3, 'ARSON': 2, 'HOMICIDE': 4}\n"
     ]
    }
   ],
   "source": [
    "with open('Crimes.csv', 'r') as f:\n",
    "    d = {}\n",
    "    reader = csv.reader(f)\n",
    "    flag = True\n",
    "    for row in reader:\n",
    "        if flag:\n",
    "            flag = False\n",
    "            continue\n",
    "        if int(row[2][6:10]) == 2015:\n",
    "            if d.get(row[5]) == None:\n",
    "                d[row[5]] = 0\n",
    "            else:\n",
    "                d[row[5]] += 1\n",
    "    print(d)"
   ]
  },
  {
   "cell_type": "code",
   "execution_count": 11,
   "metadata": {},
   "outputs": [
    {
     "name": "stdout",
     "output_type": "stream",
     "text": [
      "THEFT\n"
     ]
    }
   ],
   "source": [
    "import csv\n",
    "crimes = [row[5] for row in csv.reader(open(\"Crimes.csv\"))]\n",
    "print(max(set(crimes), key=lambda x: crimes.count(x)))"
   ]
  },
  {
   "cell_type": "markdown",
   "metadata": {},
   "source": [
    "### Задача\n",
    "Вам дано описание наследования классов в формате JSON. \n",
    "Описание представляет из себя массив JSON-объектов, которые соответствуют классам. У каждого JSON-объекта есть поле name, которое содержит имя класса, и поле parents, которое содержит список имен прямых предков.\n",
    "\n",
    "Пример:\n",
    "[{\"name\": \"A\", \"parents\": []}, {\"name\": \"B\", \"parents\": [\"A\", \"C\"]}, {\"name\": \"C\", \"parents\": [\"A\"]}]\n",
    "\n",
    "Гарантируется, что никакой класс не наследуется от себя явно или косвенно, и что никакой класс не наследуется явно от одного класса более одного раза.\n",
    "\n",
    "Для каждого класса вычислите предком скольких классов он является и выведите эту информацию в следующем формате.\n",
    "\n",
    "<имя класса> : <количество потомков>\n",
    "\n",
    "Выводить классы следует в лексикографическом порядке.\n",
    "\n",
    "https://eddmann.com/posts/depth-first-search-and-breadth-first-search-in-python/"
   ]
  },
  {
   "cell_type": "code",
   "execution_count": 13,
   "metadata": {},
   "outputs": [],
   "source": [
    "import json"
   ]
  },
  {
   "cell_type": "code",
   "execution_count": 52,
   "metadata": {},
   "outputs": [
    {
     "name": "stdout",
     "output_type": "stream",
     "text": [
      "[{\"name\": \"B\", \"parents\": [\"A\", \"C\"]}, {\"name\": \"C\", \"parents\": [\"A\"]}, {\"name\": \"A\", \"parents\": []}, {\"name\": \"D\", \"parents\":[\"C\", \"F\"]}, {\"name\": \"E\", \"parents\":[\"D\"]}, {\"name\": \"F\", \"parents\":[]}]\n",
      "A : 5\n",
      "B : 1\n",
      "C : 4\n",
      "D : 2\n",
      "E : 1\n",
      "F : 3\n"
     ]
    }
   ],
   "source": [
    "data = json.loads(input())\n",
    "\n",
    "d = {}\n",
    "\n",
    "for el in data:\n",
    "    \n",
    "    if d.get(el['name']) == None:\n",
    "        d[el['name']] = set()\n",
    "    \n",
    "    for p in el['parents']:\n",
    "        if d.get(p) == None:\n",
    "            d[p] = set()\n",
    "            d[p].add(el['name'])\n",
    "        else:\n",
    "            d[p].add(el['name'])\n",
    "            \n",
    "def bfs(graph, start):\n",
    "    visited, queue = set(), [start]\n",
    "    while queue:\n",
    "        vertex = queue.pop(0)\n",
    "        if vertex not in visited:\n",
    "            visited.add(vertex)\n",
    "            queue.extend(graph[vertex] - visited)\n",
    "    return visited\n",
    "\n",
    "#print(bfs(d, 'A'))\n",
    "\n",
    "for k in sorted(d):\n",
    "    print(k, ':', len(bfs(d,k)))"
   ]
  }
 ],
 "metadata": {
  "kernelspec": {
   "display_name": "Python 3",
   "language": "python",
   "name": "python3"
  },
  "language_info": {
   "codemirror_mode": {
    "name": "ipython",
    "version": 3
   },
   "file_extension": ".py",
   "mimetype": "text/x-python",
   "name": "python",
   "nbconvert_exporter": "python",
   "pygments_lexer": "ipython3",
   "version": "3.7.4"
  }
 },
 "nbformat": 4,
 "nbformat_minor": 4
}
