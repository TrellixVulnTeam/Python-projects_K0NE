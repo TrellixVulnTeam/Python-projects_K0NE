{
 "cells": [
  {
   "cell_type": "markdown",
   "metadata": {},
   "source": [
    "# Циклы. Строки. Списки"
   ]
  },
  {
   "cell_type": "markdown",
   "metadata": {},
   "source": [
    "## Цикл while"
   ]
  },
  {
   "cell_type": "code",
   "execution_count": 6,
   "metadata": {},
   "outputs": [
    {
     "name": "stdout",
     "output_type": "stream",
     "text": [
      "7 6 "
     ]
    }
   ],
   "source": [
    "a = 7\n",
    "while a > 5:\n",
    "    print(a, end=' ')\n",
    "    a -= 1"
   ]
  },
  {
   "cell_type": "markdown",
   "metadata": {},
   "source": [
    "## Операторы break, continue"
   ]
  },
  {
   "cell_type": "code",
   "execution_count": 8,
   "metadata": {},
   "outputs": [
    {
     "name": "stdout",
     "output_type": "stream",
     "text": [
      "1\n",
      "1\n",
      "1\n",
      "1\n",
      "1\n",
      "1\n",
      "1\n",
      "1\n",
      "0\n"
     ]
    }
   ],
   "source": [
    "i = 0\n",
    "while i < 5:\n",
    "    a = int(input())\n",
    "    if a == 0:\n",
    "        break\n",
    "    if a == 1:\n",
    "        continue\n",
    "    i = i + 1"
   ]
  },
  {
   "cell_type": "markdown",
   "metadata": {},
   "source": [
    "## Цикл for"
   ]
  },
  {
   "cell_type": "code",
   "execution_count": 10,
   "metadata": {},
   "outputs": [
    {
     "name": "stdout",
     "output_type": "stream",
     "text": [
      "2 3 5 "
     ]
    }
   ],
   "source": [
    "for i in 2, 3, 5:\n",
    "    print(i, end=' ')"
   ]
  },
  {
   "cell_type": "code",
   "execution_count": 11,
   "metadata": {},
   "outputs": [
    {
     "name": "stdout",
     "output_type": "stream",
     "text": [
      "0 1 2 3 4 5 6 7 8 9 "
     ]
    }
   ],
   "source": [
    "for i in range(10):\n",
    "    print(i, end=' ')"
   ]
  },
  {
   "cell_type": "code",
   "execution_count": 14,
   "metadata": {},
   "outputs": [
    {
     "name": "stdout",
     "output_type": "stream",
     "text": [
      "2 6 10 "
     ]
    }
   ],
   "source": [
    "for i in range(2, 13, 4):\n",
    "    print(i, end=' ')"
   ]
  },
  {
   "cell_type": "code",
   "execution_count": 17,
   "metadata": {},
   "outputs": [
    {
     "name": "stdout",
     "output_type": "stream",
     "text": [
      "1 2\n",
      "1 2\n"
     ]
    }
   ],
   "source": [
    "a, b = (int(i) for i in input().split())\n",
    "print(a, b)"
   ]
  },
  {
   "cell_type": "markdown",
   "metadata": {},
   "source": [
    "## Строки и символы"
   ]
  },
  {
   "cell_type": "code",
   "execution_count": 26,
   "metadata": {},
   "outputs": [
    {
     "name": "stdout",
     "output_type": "stream",
     "text": [
      "A C A TGC ATG AG CGTA "
     ]
    }
   ],
   "source": [
    "genome = 'ATGC'\n",
    "# slicing\n",
    "print(genome[0], end=' ')\n",
    "print(genome[-1], end=' ')\n",
    "print(genome[-4], end=' ')\n",
    "print(genome[1:], end=' ')\n",
    "print(genome[:3], end=' ')\n",
    "print(genome[::2], end=' ')\n",
    "print(genome[::-1])"
   ]
  },
  {
   "cell_type": "code",
   "execution_count": 29,
   "metadata": {},
   "outputs": [
    {
     "name": "stdout",
     "output_type": "stream",
     "text": [
      "A T G C "
     ]
    }
   ],
   "source": [
    "for c in genome:\n",
    "    print(c, end=' ')"
   ]
  },
  {
   "cell_type": "code",
   "execution_count": 30,
   "metadata": {},
   "outputs": [
    {
     "name": "stdout",
     "output_type": "stream",
     "text": [
      "1\n"
     ]
    }
   ],
   "source": [
    "print(genome.count('C'))"
   ]
  },
  {
   "cell_type": "markdown",
   "metadata": {},
   "source": [
    "### Некоторые методы строк"
   ]
  },
  {
   "cell_type": "code",
   "execution_count": 37,
   "metadata": {},
   "outputs": [
    {
     "name": "stdout",
     "output_type": "stream",
     "text": [
      "atgc\n",
      "3\n",
      "ATGD\n"
     ]
    }
   ],
   "source": [
    "print(genome.lower()) #upper()\n",
    "# find - первое вхождение или -1\n",
    "print(genome.find('C'))\n",
    "# replace - заменяет все вхождения\n",
    "print(genome.replace('C', 'D'))\n",
    "# сама строка остается неизменной"
   ]
  },
  {
   "cell_type": "code",
   "execution_count": 38,
   "metadata": {},
   "outputs": [
    {
     "name": "stdout",
     "output_type": "stream",
     "text": [
      "aaaaabbbccdd\n",
      "a5b3c2d2"
     ]
    }
   ],
   "source": [
    "genome = input()+' '\n",
    "s = 0\n",
    "n=genome[0]\n",
    "for i in genome:       \n",
    "    if n!=i:\n",
    "        print(n + str(s), end = '')\n",
    "        s=0\n",
    "        n=i\n",
    "    s+=1"
   ]
  },
  {
   "cell_type": "markdown",
   "metadata": {},
   "source": [
    "## Списки"
   ]
  },
  {
   "cell_type": "code",
   "execution_count": 17,
   "metadata": {},
   "outputs": [
    {
     "name": "stdout",
     "output_type": "stream",
     "text": [
      "Ivan\n",
      "Masha\n",
      "Rita\n"
     ]
    }
   ],
   "source": [
    "students = ['Ivan', 'Masha', 'Rita']\n",
    "for st in students:\n",
    "    print(st)"
   ]
  },
  {
   "cell_type": "code",
   "execution_count": 18,
   "metadata": {},
   "outputs": [
    {
     "data": {
      "text/plain": [
       "3"
      ]
     },
     "execution_count": 18,
     "metadata": {},
     "output_type": "execute_result"
    }
   ],
   "source": [
    "len(students)"
   ]
  },
  {
   "cell_type": "code",
   "execution_count": 19,
   "metadata": {},
   "outputs": [
    {
     "data": {
      "text/plain": [
       "['Ivan']"
      ]
     },
     "execution_count": 19,
     "metadata": {},
     "output_type": "execute_result"
    }
   ],
   "source": [
    "students[0:1]"
   ]
  },
  {
   "cell_type": "code",
   "execution_count": 20,
   "metadata": {},
   "outputs": [
    {
     "data": {
      "text/plain": [
       "['Ivan', 'Masha', 'Rita', 'Gosha']"
      ]
     },
     "execution_count": 20,
     "metadata": {},
     "output_type": "execute_result"
    }
   ],
   "source": [
    "students + ['Gosha']"
   ]
  },
  {
   "cell_type": "code",
   "execution_count": 21,
   "metadata": {},
   "outputs": [
    {
     "data": {
      "text/plain": [
       "['Ivan',\n",
       " 'Masha',\n",
       " 'Rita',\n",
       " 'Ivan',\n",
       " 'Masha',\n",
       " 'Rita',\n",
       " 'Ivan',\n",
       " 'Masha',\n",
       " 'Rita',\n",
       " 'Ivan',\n",
       " 'Masha',\n",
       " 'Rita']"
      ]
     },
     "execution_count": 21,
     "metadata": {},
     "output_type": "execute_result"
    }
   ],
   "source": [
    "students * 4"
   ]
  },
  {
   "cell_type": "code",
   "execution_count": 22,
   "metadata": {},
   "outputs": [],
   "source": [
    "# Списки являются изменяемыми\n",
    "students[1] = 'Rita'"
   ]
  },
  {
   "cell_type": "code",
   "execution_count": 23,
   "metadata": {},
   "outputs": [],
   "source": [
    "students.append('Nick')"
   ]
  },
  {
   "cell_type": "code",
   "execution_count": 24,
   "metadata": {},
   "outputs": [
    {
     "data": {
      "text/plain": [
       "['Ivan', 'Rita', 'Rita', 'Nick']"
      ]
     },
     "execution_count": 24,
     "metadata": {},
     "output_type": "execute_result"
    }
   ],
   "source": [
    "students"
   ]
  },
  {
   "cell_type": "code",
   "execution_count": 25,
   "metadata": {},
   "outputs": [
    {
     "data": {
      "text/plain": [
       "['Pavel', 'Ivan', 'Rita', 'Rita', 'Nick']"
      ]
     },
     "execution_count": 25,
     "metadata": {},
     "output_type": "execute_result"
    }
   ],
   "source": [
    "students.insert(0, 'Pavel')\n",
    "students"
   ]
  },
  {
   "cell_type": "code",
   "execution_count": 26,
   "metadata": {},
   "outputs": [
    {
     "data": {
      "text/plain": [
       "['Pavel', 'Ivan', 'Rita', 'Nick']"
      ]
     },
     "execution_count": 26,
     "metadata": {},
     "output_type": "execute_result"
    }
   ],
   "source": [
    "students.remove('Rita') # удаляет первое вхождение\n",
    "students"
   ]
  },
  {
   "cell_type": "code",
   "execution_count": 27,
   "metadata": {},
   "outputs": [
    {
     "name": "stdout",
     "output_type": "stream",
     "text": [
      "Yes\n"
     ]
    }
   ],
   "source": [
    "if 'Rita' in students:\n",
    "    print('Yes')"
   ]
  },
  {
   "cell_type": "code",
   "execution_count": 29,
   "metadata": {},
   "outputs": [
    {
     "data": {
      "text/plain": [
       "2"
      ]
     },
     "execution_count": 29,
     "metadata": {},
     "output_type": "execute_result"
    }
   ],
   "source": [
    "ind = students.index('Rita')\n",
    "ind"
   ]
  },
  {
   "cell_type": "code",
   "execution_count": 30,
   "metadata": {},
   "outputs": [
    {
     "data": {
      "text/plain": [
       "['Ivan', 'Nick', 'Pavel', 'Rita']"
      ]
     },
     "execution_count": 30,
     "metadata": {},
     "output_type": "execute_result"
    }
   ],
   "source": [
    "sorted(students) # изначальный список не меняется"
   ]
  },
  {
   "cell_type": "code",
   "execution_count": 34,
   "metadata": {},
   "outputs": [
    {
     "data": {
      "text/plain": [
       "['Ivan', 'Nick', 'Pavel', 'Rita']"
      ]
     },
     "execution_count": 34,
     "metadata": {},
     "output_type": "execute_result"
    }
   ],
   "source": [
    "students.sort()\n",
    "students"
   ]
  },
  {
   "cell_type": "code",
   "execution_count": 36,
   "metadata": {},
   "outputs": [
    {
     "data": {
      "text/plain": [
       "'Ivan'"
      ]
     },
     "execution_count": 36,
     "metadata": {},
     "output_type": "execute_result"
    }
   ],
   "source": [
    "min(students)"
   ]
  },
  {
   "cell_type": "code",
   "execution_count": 39,
   "metadata": {},
   "outputs": [
    {
     "data": {
      "text/plain": [
       "['Rita', 'Pavel', 'Nick', 'Ivan']"
      ]
     },
     "execution_count": 39,
     "metadata": {},
     "output_type": "execute_result"
    }
   ],
   "source": [
    "students.reverse() # reversed()\n",
    "students"
   ]
  },
  {
   "cell_type": "code",
   "execution_count": 42,
   "metadata": {},
   "outputs": [
    {
     "name": "stdout",
     "output_type": "stream",
     "text": [
      "[1, 2, 3] [1, 2, 3]\n",
      "['A', 2, 3]\n",
      "['A', 2, 3]\n",
      "['A', 'B', 3]\n",
      "['A', 'B', 3]\n",
      "['A', 'B', 3]\n",
      "['A', 'B', 3]\n",
      "['A', 'B', 'C']\n"
     ]
    }
   ],
   "source": [
    "a = [1, 2, 3]\n",
    "b = a\n",
    "print(a, end=' ')\n",
    "print(b)\n",
    "a[0] = 'A'\n",
    "print(a)\n",
    "print(b)\n",
    "b[1] = 'B'\n",
    "print(a)\n",
    "print(b)\n",
    "c = [] + b\n",
    "c[2] = 'C'\n",
    "print(a)\n",
    "print(b)\n",
    "print(c)"
   ]
  },
  {
   "cell_type": "code",
   "execution_count": 43,
   "metadata": {},
   "outputs": [
    {
     "data": {
      "text/plain": [
       "5"
      ]
     },
     "execution_count": 43,
     "metadata": {},
     "output_type": "execute_result"
    }
   ],
   "source": [
    "a = [[1 ,2 ,3], [4, 5, 6]]\n",
    "a[1][1]"
   ]
  },
  {
   "cell_type": "code",
   "execution_count": 45,
   "metadata": {},
   "outputs": [
    {
     "data": {
      "text/plain": [
       "[[0, 0, 0, 0, 0],\n",
       " [0, 0, 0, 0, 0],\n",
       " [0, 0, 0, 0, 0],\n",
       " [0, 0, 0, 0, 0],\n",
       " [0, 0, 0, 0, 0]]"
      ]
     },
     "execution_count": 45,
     "metadata": {},
     "output_type": "execute_result"
    }
   ],
   "source": [
    "a = [[0] * 5] * 5 \n",
    "a"
   ]
  },
  {
   "cell_type": "code",
   "execution_count": 47,
   "metadata": {},
   "outputs": [
    {
     "data": {
      "text/plain": [
       "[[5, 0, 0, 0, 0],\n",
       " [5, 0, 0, 0, 0],\n",
       " [5, 0, 0, 0, 0],\n",
       " [5, 0, 0, 0, 0],\n",
       " [5, 0, 0, 0, 0]]"
      ]
     },
     "execution_count": 47,
     "metadata": {},
     "output_type": "execute_result"
    }
   ],
   "source": [
    "a[0][0] = 5\n",
    "a"
   ]
  },
  {
   "cell_type": "code",
   "execution_count": 49,
   "metadata": {},
   "outputs": [
    {
     "data": {
      "text/plain": [
       "[[0, 0, 0, 0, 0],\n",
       " [0, 0, 0, 0, 0],\n",
       " [0, 0, 0, 0, 0],\n",
       " [0, 0, 0, 0, 0],\n",
       " [0, 0, 0, 0, 0]]"
      ]
     },
     "execution_count": 49,
     "metadata": {},
     "output_type": "execute_result"
    }
   ],
   "source": [
    "b = [[0] * 5 for i in range(5)]\n",
    "b"
   ]
  },
  {
   "cell_type": "code",
   "execution_count": 50,
   "metadata": {},
   "outputs": [
    {
     "data": {
      "text/plain": [
       "[[5, 0, 0, 0, 0],\n",
       " [0, 0, 0, 0, 0],\n",
       " [0, 0, 0, 0, 0],\n",
       " [0, 0, 0, 0, 0],\n",
       " [0, 0, 0, 0, 0]]"
      ]
     },
     "execution_count": 50,
     "metadata": {},
     "output_type": "execute_result"
    }
   ],
   "source": [
    "b[0][0] = 5\n",
    "b"
   ]
  },
  {
   "cell_type": "markdown",
   "metadata": {},
   "source": [
    "## Задачи"
   ]
  },
  {
   "cell_type": "markdown",
   "metadata": {},
   "source": [
    "### Задача 1\n",
    "Напишите программу, на вход которой подаётся прямоугольная матрица в виде последовательности строк, заканчивающихся строкой, содержащей только строку \"end\" (без кавычек)\n",
    "\n",
    "Программа должна вывести матрицу того же размера, у которой каждый элемент в позиции i, j равен сумме элементов первой матрицы на позициях (i-1, j), (i+1, j), (i, j-1), (i, j+1). У крайних символов соседний элемент находится с противоположной стороны матрицы.\n",
    "\n",
    "В случае одной строки/столбца элемент сам себе является соседом по соответствующему направлению."
   ]
  },
  {
   "cell_type": "raw",
   "metadata": {},
   "source": [
    "Sample Input 1:\n",
    "9 5 3\n",
    "0 7 -1\n",
    "-5 2 9\n",
    "end\n",
    "Sample Output 1:\n",
    "3 21 22\n",
    "10 6 19\n",
    "20 16 -1\n",
    "Sample Input 2:\n",
    "1\n",
    "end\n",
    "Sample Output 2:\n",
    "4"
   ]
  },
  {
   "cell_type": "code",
   "execution_count": 15,
   "metadata": {},
   "outputs": [
    {
     "name": "stdout",
     "output_type": "stream",
     "text": [
      "1 2\n",
      "3 4\n",
      "end\n",
      "10 10 \n",
      "10 10 \n"
     ]
    }
   ],
   "source": [
    "b = []\n",
    "a = input()\n",
    "while a != 'end':\n",
    "    b.append([int(i) for i in a.split()])\n",
    "    a = input()\n",
    "\n",
    "n, m = len(b), len(b[0])\n",
    "\n",
    "for i in range(n):\n",
    "    for j in range(m):\n",
    "        x = b[i][j-1] + b[i][j+1-m] + b[i-1][j] + b[i+1-n][j]\n",
    "        print(x, end=' ')\n",
    "    print()"
   ]
  },
  {
   "cell_type": "markdown",
   "metadata": {},
   "source": [
    "### Задача 2\n",
    "Выведите таблицу размером $n \\times n$, заполненную числами от 1 до $n^2$ по спирали, выходящей из левого верхнего угла и закрученной по часовой стрелке, как показано в примере (здесь n= 5)."
   ]
  },
  {
   "cell_type": "raw",
   "metadata": {},
   "source": [
    "Sample Input:\n",
    "5\n",
    "Sample Output:\n",
    "1 2 3 4 5\n",
    "16 17 18 19 6\n",
    "15 24 25 20 7\n",
    "14 23 22 21 8\n",
    "13 12 11 10 9"
   ]
  },
  {
   "cell_type": "code",
   "execution_count": 48,
   "metadata": {},
   "outputs": [
    {
     "name": "stdout",
     "output_type": "stream",
     "text": [
      "4\n",
      "1 2 3 4\n",
      "12 13 14 5\n",
      "11 16 15 6\n",
      "10 9 8 7\n"
     ]
    }
   ],
   "source": [
    "n = int(input())\n",
    "\n",
    "b = [[0 for i in range(n)] for j in range(n)]\n",
    "\n",
    "i, j = 0, 0\n",
    "\n",
    "left_i, left_j = 0, 0\n",
    "right_i, right_j = n - 1, n - 1 \n",
    "\n",
    "cur = 1\n",
    "\n",
    "while cur != n*n + 1:\n",
    "    for j in range(left_j, right_j+1):\n",
    "        b[i][j] = cur\n",
    "        cur += 1\n",
    "    \n",
    "    j = right_j\n",
    "    \n",
    "    right_j -= 1\n",
    "    left_i += 1\n",
    "      \n",
    "    for i in range(left_i, right_i+1):\n",
    "        b[i][j] = cur\n",
    "        cur += 1\n",
    "            \n",
    "    i = right_i\n",
    "    right_i -= 1\n",
    "    \n",
    "    \n",
    "    for j in range(right_j, left_j - 1, -1):\n",
    "        b[i][j] = cur\n",
    "        cur += 1\n",
    "        \n",
    "    j = left_j\n",
    "    left_j += 1\n",
    "    \n",
    "    for i in range(right_i, left_i - 1, -1):\n",
    "        b[i][j] = cur\n",
    "        cur += 1\n",
    "\n",
    "    i = left_i\n",
    "    \n",
    "\n",
    "for i in b: print(*i)"
   ]
  },
  {
   "cell_type": "code",
   "execution_count": 47,
   "metadata": {},
   "outputs": [
    {
     "name": "stdout",
     "output_type": "stream",
     "text": [
      "3\n",
      "1 2 3\n",
      "8 9 4\n",
      "7 6 5\n"
     ]
    }
   ],
   "source": [
    "n = int(input())\n",
    "x, y, dx, dy, m = 0,0,0,1, [[0]*n for i in range(n)]\n",
    "\n",
    "for i in range(n*n):\n",
    "    m[x][y] = i+1\n",
    "    \n",
    "    if x+dx>=n or x+dx<0 or y+dy>=n or y+dy<0 or m[x+dx][y+dy]:\n",
    "        dx, dy = dy,-dx\n",
    "        \n",
    "    x,y = x+dx, y+dy\n",
    "    \n",
    "for i in m: print(*i)"
   ]
  },
  {
   "cell_type": "code",
   "execution_count": null,
   "metadata": {},
   "outputs": [],
   "source": []
  }
 ],
 "metadata": {
  "kernelspec": {
   "display_name": "Python 3",
   "language": "python",
   "name": "python3"
  },
  "language_info": {
   "codemirror_mode": {
    "name": "ipython",
    "version": 3
   },
   "file_extension": ".py",
   "mimetype": "text/x-python",
   "name": "python",
   "nbconvert_exporter": "python",
   "pygments_lexer": "ipython3",
   "version": "3.7.4"
  }
 },
 "nbformat": 4,
 "nbformat_minor": 4
}
