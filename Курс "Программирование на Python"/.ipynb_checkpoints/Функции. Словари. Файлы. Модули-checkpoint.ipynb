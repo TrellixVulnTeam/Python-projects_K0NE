{
 "cells": [
  {
   "cell_type": "markdown",
   "metadata": {},
   "source": [
    "# Функции. Словари. Файлы. Модули"
   ]
  },
  {
   "cell_type": "markdown",
   "metadata": {},
   "source": [
    "## Функции"
   ]
  },
  {
   "cell_type": "code",
   "execution_count": 2,
   "metadata": {},
   "outputs": [
    {
     "data": {
      "text/plain": [
       "1"
      ]
     },
     "execution_count": 2,
     "metadata": {},
     "output_type": "execute_result"
    }
   ],
   "source": [
    "def min2(a, b):\n",
    "    if a < b:\n",
    "        return a\n",
    "    return b\n",
    "\n",
    "min2(1, 3)"
   ]
  },
  {
   "cell_type": "code",
   "execution_count": 3,
   "metadata": {},
   "outputs": [
    {
     "data": {
      "text/plain": [
       "10555"
      ]
     },
     "execution_count": 3,
     "metadata": {},
     "output_type": "execute_result"
    }
   ],
   "source": [
    "def f(n):\n",
    "    return n * 10 + 5\n",
    "\n",
    "f(f(f(10)))"
   ]
  },
  {
   "cell_type": "markdown",
   "metadata": {},
   "source": [
    "Про звезды - https://tirinox.ru/stars-in-python/"
   ]
  },
  {
   "cell_type": "markdown",
   "metadata": {},
   "source": [
    "Значения параметров по умолчанию"
   ]
  },
  {
   "cell_type": "code",
   "execution_count": 4,
   "metadata": {},
   "outputs": [
    {
     "data": {
      "text/plain": [
       "15"
      ]
     },
     "execution_count": 4,
     "metadata": {},
     "output_type": "execute_result"
    }
   ],
   "source": [
    "def f2(n=5, g=3):\n",
    "    return n * g\n",
    "f2()"
   ]
  },
  {
   "cell_type": "code",
   "execution_count": 5,
   "metadata": {},
   "outputs": [
    {
     "name": "stdout",
     "output_type": "stream",
     "text": [
      "[0]\n"
     ]
    }
   ],
   "source": [
    "def append_zero(xs):\n",
    "    xs.append(0)\n",
    "    xs = [100]\n",
    "    \n",
    "a = []\n",
    "append_zero(a)\n",
    "print(a) # [0]"
   ]
  },
  {
   "cell_type": "markdown",
   "metadata": {},
   "source": [
    "Напишите функцию modify_list(l), которая принимает на вход список целых чисел, удаляет из него все нечётные значения, а чётные нацело делит на два. Функция не должна ничего возвращать, требуется только изменение переданного списка, например:"
   ]
  },
  {
   "cell_type": "code",
   "execution_count": 16,
   "metadata": {},
   "outputs": [],
   "source": [
    "def modify_list(l):\n",
    "    k = 0\n",
    "    for i in range(len(l)):\n",
    "        if l[i - k] % 2 == 1:\n",
    "            l.remove(l[i - k])\n",
    "            k += 1\n",
    "        else:\n",
    "            l[i - k] = l[i - k] // 2"
   ]
  },
  {
   "cell_type": "code",
   "execution_count": 17,
   "metadata": {},
   "outputs": [
    {
     "name": "stdout",
     "output_type": "stream",
     "text": [
      "None\n",
      "[1, 2, 3]\n",
      "[1]\n"
     ]
    }
   ],
   "source": [
    "lst = [1, 2, 3, 4, 5, 6]\n",
    "print(modify_list(lst))  # None\n",
    "print(lst)               # [1, 2, 3]\n",
    "modify_list(lst)\n",
    "print(lst)   "
   ]
  },
  {
   "cell_type": "markdown",
   "metadata": {},
   "source": [
    "## Множества"
   ]
  },
  {
   "cell_type": "code",
   "execution_count": 19,
   "metadata": {},
   "outputs": [
    {
     "name": "stdout",
     "output_type": "stream",
     "text": [
      "True\n"
     ]
    }
   ],
   "source": [
    "s = set() # создание пустого множества\n",
    "basket = {'apple', 'banana', 'apple'}\n",
    "print('apple' in basket)"
   ]
  },
  {
   "cell_type": "code",
   "execution_count": 25,
   "metadata": {},
   "outputs": [
    {
     "data": {
      "text/plain": [
       "1"
      ]
     },
     "execution_count": 25,
     "metadata": {},
     "output_type": "execute_result"
    }
   ],
   "source": [
    "s.add(1)\n",
    "s.add('1')\n",
    "s.remove('1')\n",
    "s.discard('1') # не кинет ошибку, если элемента нет\n",
    "len(s)"
   ]
  },
  {
   "cell_type": "code",
   "execution_count": 26,
   "metadata": {},
   "outputs": [
    {
     "name": "stdout",
     "output_type": "stream",
     "text": [
      "banana\n",
      "apple\n"
     ]
    }
   ],
   "source": [
    "for x in basket:\n",
    "    print(x)"
   ]
  },
  {
   "cell_type": "markdown",
   "metadata": {},
   "source": [
    "## Словари"
   ]
  },
  {
   "cell_type": "markdown",
   "metadata": {},
   "source": [
    "Ключи - неизменяемы (числа, строки)\n",
    "\n",
    "Значениями могут быть списки"
   ]
  },
  {
   "cell_type": "code",
   "execution_count": 32,
   "metadata": {},
   "outputs": [
    {
     "name": "stdout",
     "output_type": "stream",
     "text": [
      "True\n",
      "a\n",
      "{'1': 'a'}\n"
     ]
    }
   ],
   "source": [
    "d = dict()\n",
    "d['1'] = 'a'\n",
    "print('1' in d)\n",
    "print(d.get('1')) # не кинет ошибку, если элемента нет, None\n",
    "d['2'] = 'b'\n",
    "del d['2']\n",
    "print(d)"
   ]
  },
  {
   "cell_type": "code",
   "execution_count": 38,
   "metadata": {},
   "outputs": [
    {
     "name": "stdout",
     "output_type": "stream",
     "text": [
      "1 \n",
      "a \n",
      "1 a\n"
     ]
    }
   ],
   "source": [
    "for key in d:\n",
    "    print(key, end=' ')\n",
    "    \n",
    "print()\n",
    "\n",
    "for value in d.values():\n",
    "    print(value, end=' ')\n",
    "    \n",
    "print()\n",
    "\n",
    "for k, v in d.items():\n",
    "    print(k, v)"
   ]
  },
  {
   "cell_type": "code",
   "execution_count": 39,
   "metadata": {},
   "outputs": [],
   "source": [
    "def update_dictionary(d, key, value):\n",
    "    if d.get(key) != None:\n",
    "        d[key].append(value)\n",
    "    elif d.get(2 * key) != None:\n",
    "        d[2 * key].append(value)\n",
    "    else:\n",
    "        d[2 * key] = [value]"
   ]
  },
  {
   "cell_type": "code",
   "execution_count": 40,
   "metadata": {},
   "outputs": [
    {
     "name": "stdout",
     "output_type": "stream",
     "text": [
      "None\n",
      "{2: [-1]}\n",
      "{2: [-1, -2]}\n",
      "{2: [-1, -2, -3]}\n"
     ]
    }
   ],
   "source": [
    "d = {}\n",
    "print(update_dictionary(d, 1, -1))  # None\n",
    "print(d)                            # {2: [-1]}\n",
    "update_dictionary(d, 2, -2)\n",
    "print(d)                            # {2: [-1, -2]}\n",
    "update_dictionary(d, 1, -3)\n",
    "print(d)                            # {2: [-1, -2, -3]}"
   ]
  },
  {
   "cell_type": "code",
   "execution_count": 43,
   "metadata": {},
   "outputs": [
    {
     "name": "stdout",
     "output_type": "stream",
     "text": [
      "a aa abC aa ac abc bcd a\n",
      "a 2\n",
      "aa 2\n",
      "abc 2\n",
      "ac 1\n",
      "bcd 1\n"
     ]
    }
   ],
   "source": [
    "s = [i.lower() for i in input().split()]\n",
    "\n",
    "def word_count(s):\n",
    "    d = dict()\n",
    "    for _s in s:\n",
    "        if d.get(_s) != None:\n",
    "            d[_s] += 1\n",
    "        else:\n",
    "            d[_s] = 1\n",
    "    for k, v in d.items():\n",
    "        print(k, v)\n",
    "        \n",
    "word_count(s)"
   ]
  },
  {
   "cell_type": "raw",
   "metadata": {},
   "source": [
    "Sample Input 1:\n",
    "a aa abC aa ac abc bcd a\n",
    "Sample Output 1:\n",
    "ac 1\n",
    "a 2\n",
    "abc 2\n",
    "bcd 1\n",
    "aa 2\n",
    "\n",
    "Sample Input 2:\n",
    "a A a\n",
    "Sample Output 2:\n",
    "a 3"
   ]
  },
  {
   "cell_type": "markdown",
   "metadata": {},
   "source": [
    "## Чтение из файла"
   ]
  },
  {
   "cell_type": "code",
   "execution_count": 3,
   "metadata": {},
   "outputs": [
    {
     "name": "stdout",
     "output_type": "stream",
     "text": [
      "1 2 3\n"
     ]
    }
   ],
   "source": [
    "inf = open('file.txt', 'r')\n",
    "s1 = inf.readline()\n",
    "inf.close()\n",
    "print(s1, end='')"
   ]
  },
  {
   "cell_type": "code",
   "execution_count": 4,
   "metadata": {},
   "outputs": [
    {
     "name": "stdout",
     "output_type": "stream",
     "text": [
      "1 2 3\n",
      "\n"
     ]
    }
   ],
   "source": [
    "with open('file.txt') as inf: # сама закроет файл\n",
    "    s1 = inf.readline()\n",
    "    \n",
    "print(s1, end='')"
   ]
  },
  {
   "cell_type": "code",
   "execution_count": 5,
   "metadata": {},
   "outputs": [
    {
     "name": "stdout",
     "output_type": "stream",
     "text": [
      "1 2 3"
     ]
    }
   ],
   "source": [
    "# strip() - убрать все служебные символы с краев\n",
    "with open('file.txt') as inf: # сама закроет файл\n",
    "    s1 = inf.readline().strip()\n",
    "    \n",
    "print(s1, end='')"
   ]
  },
  {
   "cell_type": "code",
   "execution_count": 6,
   "metadata": {},
   "outputs": [
    {
     "name": "stdout",
     "output_type": "stream",
     "text": [
      "1 2 3\n",
      "4 5 6\n"
     ]
    }
   ],
   "source": [
    "with open('file.txt') as inf: # сама закроет файл\n",
    "    for line in inf:\n",
    "        line = line.strip()\n",
    "        print(line)"
   ]
  },
  {
   "cell_type": "code",
   "execution_count": 7,
   "metadata": {},
   "outputs": [],
   "source": [
    "ouf = open('output.txt', 'w')\n",
    "ouf.write('ololo\\n')\n",
    "ouf.close()"
   ]
  },
  {
   "cell_type": "code",
   "execution_count": 8,
   "metadata": {},
   "outputs": [],
   "source": [
    "with open('output.txt', 'w') as ouf:\n",
    "    ouf.write('some text\\n')\n",
    "    "
   ]
  },
  {
   "cell_type": "markdown",
   "metadata": {},
   "source": [
    "## Задачи"
   ]
  },
  {
   "cell_type": "markdown",
   "metadata": {},
   "source": [
    "### Задача 1\n",
    "Декодировать строку при чтении из файла."
   ]
  },
  {
   "cell_type": "code",
   "execution_count": 20,
   "metadata": {},
   "outputs": [],
   "source": [
    "with open('dataset_3363_2.txt') as inf, open('file_out', 'w') as ouf:\n",
    "    l = ''\n",
    "    for line in inf:\n",
    "        line = line.strip()\n",
    "        cur_s = ''\n",
    "        cur_num = ''\n",
    "        for s in line:\n",
    "            if s.isdigit():\n",
    "                cur_num += s\n",
    "            else:\n",
    "                \n",
    "                if cur_num != '':\n",
    "                    l += cur_s * int(cur_num)\n",
    "                    cur_num = ''\n",
    "                cur_s = s\n",
    "        l += cur_s * int(cur_num)\n",
    "    ouf.write(l)  "
   ]
  },
  {
   "cell_type": "markdown",
   "metadata": {},
   "source": [
    "### Задача 2\n",
    "Напишите программу, которая считывает текст из файла (в файле может быть больше одной строки) и выводит самое частое слово в этом тексте и через пробел то, сколько раз оно встретилось. Если таких слов несколько, вывести лексикографически первое (можно использовать оператор < для строк)."
   ]
  },
  {
   "cell_type": "code",
   "execution_count": 7,
   "metadata": {},
   "outputs": [
    {
     "name": "stdout",
     "output_type": "stream",
     "text": [
      "['apbTpUZUT', 10]\n",
      "['apbTpUZUT']\n"
     ]
    }
   ],
   "source": [
    "# с учетом первого слова и сохранением его как ведущего\n",
    "with open('dataset_3363_3.txt') as inf:\n",
    "    d = dict()\n",
    "    \n",
    "    for line in inf:\n",
    "        line = line.strip()\n",
    "        words_in_line = line.split()\n",
    "        \n",
    "        for w in words_in_line:\n",
    "            if d.get(w.lower()) == None:\n",
    "                d[w.lower()] = []\n",
    "                d[w.lower()].append(w)\n",
    "                d[w.lower()].append(1)\n",
    "            else:\n",
    "                d[w.lower()][1] += 1\n",
    "    \n",
    "    v = d.values()\n",
    "    \n",
    "    n = 0\n",
    "    \n",
    "    for s in v:\n",
    "        if s[1] > n:\n",
    "            n = s[1]\n",
    "    \n",
    "    l = []\n",
    "    for s in v:\n",
    "        if s[1] == n:\n",
    "            print(s)\n",
    "            l.append(s[0])\n",
    "            \n",
    "    sorted(l)\n",
    "    print(l)"
   ]
  },
  {
   "cell_type": "code",
   "execution_count": 9,
   "metadata": {},
   "outputs": [
    {
     "name": "stdout",
     "output_type": "stream",
     "text": [
      "apbtpuzut 10\n"
     ]
    }
   ],
   "source": [
    "with open('dataset_3363_3.txt') as f: \n",
    "    s = f.read().strip().lower().split()\n",
    "    z = {i: s.count(i) for i in s}\n",
    "    a, b = 0, ''\n",
    "    for x in z.keys():\n",
    "        y = z[x]\n",
    "        if y > a:\n",
    "            a = y\n",
    "            b = x\n",
    "        elif a == y and x < b:\n",
    "            b = x\n",
    "    fin = str(b) + ' ' + str(a)\n",
    "    print(fin)"
   ]
  },
  {
   "cell_type": "markdown",
   "metadata": {},
   "source": [
    "### Задача 3"
   ]
  },
  {
   "cell_type": "markdown",
   "metadata": {},
   "source": [
    "Имеется файл с данными по успеваемости абитуриентов. Он представляет из себя набор строк, где в каждой строке записана следующая информация:\n",
    "\n",
    "Фамилия;Оценка_по_математике;Оценка_по_физике;Оценка_по_русскому_языку\n",
    "\n",
    "Поля внутри строки разделены точкой с запятой, оценки — целые числа.\n",
    "\n",
    "Напишите программу, которая считывает файл с подобной структурой и для каждого абитуриента выводит его среднюю оценку по этим трём предметам на отдельной строке, соответствующей этому абитуриенту.\n",
    "\n",
    "Также в конце файла, на отдельной строке, через пробел запишите средние баллы по математике, физике и русскому языку по всем абитуриентам."
   ]
  },
  {
   "cell_type": "code",
   "execution_count": 31,
   "metadata": {},
   "outputs": [],
   "source": [
    "with open('dataset_3363_4.txt') as inf, open('file_out_3', 'w') as ouf:\n",
    "    marks = [0, 0, 0]\n",
    "    count = 0\n",
    "    for line in inf:\n",
    "        marks_in_line = [int(i) for i in line.strip().split(';')[1:]]\n",
    "        marks = [marks[i] + marks_in_line[i] for i in range(3)]\n",
    "        average = sum(marks_in_line) / 3\n",
    "        ouf.write(str(average) + '\\n')\n",
    "        count += 1\n",
    "    \n",
    "    marks = [str(i / count) + ' ' for i in marks]\n",
    "    ouf.write(marks[0] + marks[1] + marks[2])"
   ]
  },
  {
   "cell_type": "markdown",
   "metadata": {},
   "source": [
    "## Модули"
   ]
  },
  {
   "cell_type": "markdown",
   "metadata": {},
   "source": [
    "https://docs.python.org/3/library/"
   ]
  },
  {
   "cell_type": "code",
   "execution_count": 1,
   "metadata": {},
   "outputs": [
    {
     "name": "stdout",
     "output_type": "stream",
     "text": [
      "3\n"
     ]
    }
   ],
   "source": [
    "import sys\n",
    "print(len(sys.argv))"
   ]
  },
  {
   "cell_type": "markdown",
   "metadata": {},
   "source": [
    "Модуль supprocess - запуск внешних процессов"
   ]
  },
  {
   "cell_type": "code",
   "execution_count": 4,
   "metadata": {},
   "outputs": [
    {
     "name": "stdout",
     "output_type": "stream",
     "text": [
      "3\n",
      "18.84955592153876\n"
     ]
    }
   ],
   "source": [
    "import math\n",
    "R = float(input())\n",
    "print(2 * R * math.pi)"
   ]
  },
  {
   "cell_type": "code",
   "execution_count": 7,
   "metadata": {},
   "outputs": [
    {
     "name": "stdout",
     "output_type": "stream",
     "text": [
      "-f /Users/nikolajkarasov/Library/Jupyter/runtime/kernel-785c22eb-e936-4f44-97bf-2faab11b26c8.json\n"
     ]
    }
   ],
   "source": [
    "print(*sys.argv[1:]) #печатает значения всех переданных аргументов на экран (имя скрипта выводить не нужно). "
   ]
  },
  {
   "cell_type": "code",
   "execution_count": 17,
   "metadata": {},
   "outputs": [
    {
     "data": {
      "text/plain": [
       "41"
      ]
     },
     "execution_count": 17,
     "metadata": {},
     "output_type": "execute_result"
    }
   ],
   "source": [
    "# вывод количества строк\n",
    "import requests\n",
    "r = requests.get('https://stepic.org/media/attachments/course67/3.6.2/747.txt')\n",
    "#print(r.text)\n",
    "len(r.text.splitlines())\n"
   ]
  },
  {
   "cell_type": "markdown",
   "metadata": {},
   "source": [
    "Имеется набор файлов, каждый из которых, кроме последнего, содержит имя следующего файла.\n",
    "Первое слово в тексте последнего файла: \"We\".\n",
    "    \n",
    "Найти содержимое последнего файла."
   ]
  },
  {
   "cell_type": "code",
   "execution_count": null,
   "metadata": {},
   "outputs": [],
   "source": [
    "name = '699991.txt'\n",
    "while True:\n",
    "    r = requests.get('https://stepic.org/media/attachments/course67/3.6.3/' + name)\n",
    "    name = r.text\n",
    "    if name.splitlines()[0].split()[0] == 'We':\n",
    "        print(r.text)\n",
    "        break"
   ]
  }
 ],
 "metadata": {
  "kernelspec": {
   "display_name": "Python 3",
   "language": "python",
   "name": "python3"
  },
  "language_info": {
   "codemirror_mode": {
    "name": "ipython",
    "version": 3
   },
   "file_extension": ".py",
   "mimetype": "text/x-python",
   "name": "python",
   "nbconvert_exporter": "python",
   "pygments_lexer": "ipython3",
   "version": "3.7.4"
  }
 },
 "nbformat": 4,
 "nbformat_minor": 4
}
