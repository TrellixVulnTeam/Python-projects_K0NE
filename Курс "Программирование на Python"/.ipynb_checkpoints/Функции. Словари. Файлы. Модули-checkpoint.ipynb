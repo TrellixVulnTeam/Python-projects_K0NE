{
 "cells": [
  {
   "cell_type": "markdown",
   "metadata": {},
   "source": [
    "# Функции. Словари. Файлы. Модули"
   ]
  },
  {
   "cell_type": "markdown",
   "metadata": {},
   "source": [
    "## Функции"
   ]
  },
  {
   "cell_type": "code",
   "execution_count": 2,
   "metadata": {},
   "outputs": [
    {
     "data": {
      "text/plain": [
       "1"
      ]
     },
     "execution_count": 2,
     "metadata": {},
     "output_type": "execute_result"
    }
   ],
   "source": [
    "def min2(a, b):\n",
    "    if a < b:\n",
    "        return a\n",
    "    return b\n",
    "\n",
    "min2(1, 3)"
   ]
  },
  {
   "cell_type": "code",
   "execution_count": 3,
   "metadata": {},
   "outputs": [
    {
     "data": {
      "text/plain": [
       "10555"
      ]
     },
     "execution_count": 3,
     "metadata": {},
     "output_type": "execute_result"
    }
   ],
   "source": [
    "def f(n):\n",
    "    return n * 10 + 5\n",
    "\n",
    "f(f(f(10)))"
   ]
  },
  {
   "cell_type": "markdown",
   "metadata": {},
   "source": [
    "Про звезды - https://tirinox.ru/stars-in-python/"
   ]
  },
  {
   "cell_type": "markdown",
   "metadata": {},
   "source": [
    "Значения параметров по умолчанию"
   ]
  },
  {
   "cell_type": "code",
   "execution_count": 4,
   "metadata": {},
   "outputs": [
    {
     "data": {
      "text/plain": [
       "15"
      ]
     },
     "execution_count": 4,
     "metadata": {},
     "output_type": "execute_result"
    }
   ],
   "source": [
    "def f2(n=5, g=3):\n",
    "    return n * g\n",
    "f2()"
   ]
  },
  {
   "cell_type": "code",
   "execution_count": 5,
   "metadata": {},
   "outputs": [
    {
     "name": "stdout",
     "output_type": "stream",
     "text": [
      "[0]\n"
     ]
    }
   ],
   "source": [
    "def append_zero(xs):\n",
    "    xs.append(0)\n",
    "    xs = [100]\n",
    "    \n",
    "a = []\n",
    "append_zero(a)\n",
    "print(a) # [0]"
   ]
  },
  {
   "cell_type": "markdown",
   "metadata": {},
   "source": [
    "Напишите функцию modify_list(l), которая принимает на вход список целых чисел, удаляет из него все нечётные значения, а чётные нацело делит на два. Функция не должна ничего возвращать, требуется только изменение переданного списка, например:"
   ]
  },
  {
   "cell_type": "code",
   "execution_count": 16,
   "metadata": {},
   "outputs": [],
   "source": [
    "def modify_list(l):\n",
    "    k = 0\n",
    "    for i in range(len(l)):\n",
    "        if l[i - k] % 2 == 1:\n",
    "            l.remove(l[i - k])\n",
    "            k += 1\n",
    "        else:\n",
    "            l[i - k] = l[i - k] // 2"
   ]
  },
  {
   "cell_type": "code",
   "execution_count": 17,
   "metadata": {},
   "outputs": [
    {
     "name": "stdout",
     "output_type": "stream",
     "text": [
      "None\n",
      "[1, 2, 3]\n",
      "[1]\n"
     ]
    }
   ],
   "source": [
    "lst = [1, 2, 3, 4, 5, 6]\n",
    "print(modify_list(lst))  # None\n",
    "print(lst)               # [1, 2, 3]\n",
    "modify_list(lst)\n",
    "print(lst)   "
   ]
  },
  {
   "cell_type": "markdown",
   "metadata": {},
   "source": [
    "## Множества"
   ]
  },
  {
   "cell_type": "code",
   "execution_count": 19,
   "metadata": {},
   "outputs": [
    {
     "name": "stdout",
     "output_type": "stream",
     "text": [
      "True\n"
     ]
    }
   ],
   "source": [
    "s = set() # создание пустого множества\n",
    "basket = {'apple', 'banana', 'apple'}\n",
    "print('apple' in basket)"
   ]
  },
  {
   "cell_type": "code",
   "execution_count": 25,
   "metadata": {},
   "outputs": [
    {
     "data": {
      "text/plain": [
       "1"
      ]
     },
     "execution_count": 25,
     "metadata": {},
     "output_type": "execute_result"
    }
   ],
   "source": [
    "s.add(1)\n",
    "s.add('1')\n",
    "s.remove('1')\n",
    "s.discard('1') # не кинет ошибку, если элемента нет\n",
    "len(s)"
   ]
  },
  {
   "cell_type": "code",
   "execution_count": 26,
   "metadata": {},
   "outputs": [
    {
     "name": "stdout",
     "output_type": "stream",
     "text": [
      "banana\n",
      "apple\n"
     ]
    }
   ],
   "source": [
    "for x in basket:\n",
    "    print(x)"
   ]
  },
  {
   "cell_type": "markdown",
   "metadata": {},
   "source": [
    "## Словари"
   ]
  },
  {
   "cell_type": "markdown",
   "metadata": {},
   "source": [
    "Ключи - неизменяемы (числа, строки)\n",
    "\n",
    "Значениями могут быть списки"
   ]
  },
  {
   "cell_type": "code",
   "execution_count": 32,
   "metadata": {},
   "outputs": [
    {
     "name": "stdout",
     "output_type": "stream",
     "text": [
      "True\n",
      "a\n",
      "{'1': 'a'}\n"
     ]
    }
   ],
   "source": [
    "d = dict()\n",
    "d['1'] = 'a'\n",
    "print('1' in d)\n",
    "print(d.get('1')) # не кинет ошибку, если элемента нет, None\n",
    "d['2'] = 'b'\n",
    "del d['2']\n",
    "print(d)"
   ]
  },
  {
   "cell_type": "code",
   "execution_count": 38,
   "metadata": {},
   "outputs": [
    {
     "name": "stdout",
     "output_type": "stream",
     "text": [
      "1 \n",
      "a \n",
      "1 a\n"
     ]
    }
   ],
   "source": [
    "for key in d:\n",
    "    print(key, end=' ')\n",
    "    \n",
    "print()\n",
    "\n",
    "for value in d.values():\n",
    "    print(value, end=' ')\n",
    "    \n",
    "print()\n",
    "\n",
    "for k, v in d.items():\n",
    "    print(k, v)"
   ]
  },
  {
   "cell_type": "code",
   "execution_count": 39,
   "metadata": {},
   "outputs": [],
   "source": [
    "def update_dictionary(d, key, value):\n",
    "    if d.get(key) != None:\n",
    "        d[key].append(value)\n",
    "    elif d.get(2 * key) != None:\n",
    "        d[2 * key].append(value)\n",
    "    else:\n",
    "        d[2 * key] = [value]"
   ]
  },
  {
   "cell_type": "code",
   "execution_count": 40,
   "metadata": {},
   "outputs": [
    {
     "name": "stdout",
     "output_type": "stream",
     "text": [
      "None\n",
      "{2: [-1]}\n",
      "{2: [-1, -2]}\n",
      "{2: [-1, -2, -3]}\n"
     ]
    }
   ],
   "source": [
    "d = {}\n",
    "print(update_dictionary(d, 1, -1))  # None\n",
    "print(d)                            # {2: [-1]}\n",
    "update_dictionary(d, 2, -2)\n",
    "print(d)                            # {2: [-1, -2]}\n",
    "update_dictionary(d, 1, -3)\n",
    "print(d)                            # {2: [-1, -2, -3]}"
   ]
  },
  {
   "cell_type": "code",
   "execution_count": 43,
   "metadata": {},
   "outputs": [
    {
     "name": "stdout",
     "output_type": "stream",
     "text": [
      "a aa abC aa ac abc bcd a\n",
      "a 2\n",
      "aa 2\n",
      "abc 2\n",
      "ac 1\n",
      "bcd 1\n"
     ]
    }
   ],
   "source": [
    "s = [i.lower() for i in input().split()]\n",
    "\n",
    "def word_count(s):\n",
    "    d = dict()\n",
    "    for _s in s:\n",
    "        if d.get(_s) != None:\n",
    "            d[_s] += 1\n",
    "        else:\n",
    "            d[_s] = 1\n",
    "    for k, v in d.items():\n",
    "        print(k, v)\n",
    "        \n",
    "word_count(s)"
   ]
  },
  {
   "cell_type": "raw",
   "metadata": {},
   "source": [
    "Sample Input 1:\n",
    "a aa abC aa ac abc bcd a\n",
    "Sample Output 1:\n",
    "ac 1\n",
    "a 2\n",
    "abc 2\n",
    "bcd 1\n",
    "aa 2\n",
    "\n",
    "Sample Input 2:\n",
    "a A a\n",
    "Sample Output 2:\n",
    "a 3"
   ]
  },
  {
   "cell_type": "markdown",
   "metadata": {},
   "source": [
    "## Чтение из файла"
   ]
  },
  {
   "cell_type": "code",
   "execution_count": 3,
   "metadata": {},
   "outputs": [
    {
     "name": "stdout",
     "output_type": "stream",
     "text": [
      "1 2 3\n"
     ]
    }
   ],
   "source": [
    "inf = open('file.txt', 'r')\n",
    "s1 = inf.readline()\n",
    "inf.close()\n",
    "print(s1, end='')"
   ]
  },
  {
   "cell_type": "code",
   "execution_count": 4,
   "metadata": {},
   "outputs": [
    {
     "name": "stdout",
     "output_type": "stream",
     "text": [
      "1 2 3\n",
      "\n"
     ]
    }
   ],
   "source": [
    "with open('file.txt') as inf: # сама закроет файл\n",
    "    s1 = inf.readline()\n",
    "    \n",
    "print(s1, end='')"
   ]
  },
  {
   "cell_type": "code",
   "execution_count": 5,
   "metadata": {},
   "outputs": [
    {
     "name": "stdout",
     "output_type": "stream",
     "text": [
      "1 2 3"
     ]
    }
   ],
   "source": [
    "# strip() - убрать все служебные символы с краев\n",
    "with open('file.txt') as inf: # сама закроет файл\n",
    "    s1 = inf.readline().strip()\n",
    "    \n",
    "print(s1, end='')"
   ]
  },
  {
   "cell_type": "code",
   "execution_count": 6,
   "metadata": {},
   "outputs": [
    {
     "name": "stdout",
     "output_type": "stream",
     "text": [
      "1 2 3\n",
      "4 5 6\n"
     ]
    }
   ],
   "source": [
    "with open('file.txt') as inf: # сама закроет файл\n",
    "    for line in inf:\n",
    "        line = line.strip()\n",
    "        print(line)"
   ]
  },
  {
   "cell_type": "code",
   "execution_count": 7,
   "metadata": {},
   "outputs": [],
   "source": [
    "ouf = open('output.txt', 'w')\n",
    "ouf.write('ololo\\n')\n",
    "ouf.close()"
   ]
  },
  {
   "cell_type": "code",
   "execution_count": 8,
   "metadata": {},
   "outputs": [],
   "source": [
    "with open('output.txt', 'w') as ouf:\n",
    "    ouf.write('some text\\n')\n",
    "    "
   ]
  },
  {
   "cell_type": "markdown",
   "metadata": {},
   "source": [
    "## Задачи"
   ]
  },
  {
   "cell_type": "markdown",
   "metadata": {},
   "source": [
    "### Задача 1\n",
    "Декодировать строку при чтении из файла."
   ]
  },
  {
   "cell_type": "code",
   "execution_count": 20,
   "metadata": {},
   "outputs": [],
   "source": [
    "with open('dataset_3363_2.txt') as inf, open('file_out', 'w') as ouf:\n",
    "    l = ''\n",
    "    for line in inf:\n",
    "        line = line.strip()\n",
    "        cur_s = ''\n",
    "        cur_num = ''\n",
    "        for s in line:\n",
    "            if s.isdigit():\n",
    "                cur_num += s\n",
    "            else:\n",
    "                \n",
    "                if cur_num != '':\n",
    "                    l += cur_s * int(cur_num)\n",
    "                    cur_num = ''\n",
    "                cur_s = s\n",
    "        l += cur_s * int(cur_num)\n",
    "    ouf.write(l)  "
   ]
  },
  {
   "cell_type": "markdown",
   "metadata": {},
   "source": [
    "### Задача 2\n",
    "Напишите программу, которая считывает текст из файла (в файле может быть больше одной строки) и выводит самое частое слово в этом тексте и через пробел то, сколько раз оно встретилось. Если таких слов несколько, вывести лексикографически первое (можно использовать оператор < для строк)."
   ]
  },
  {
   "cell_type": "code",
   "execution_count": 7,
   "metadata": {},
   "outputs": [
    {
     "name": "stdout",
     "output_type": "stream",
     "text": [
      "['apbTpUZUT', 10]\n",
      "['apbTpUZUT']\n"
     ]
    }
   ],
   "source": [
    "# с учетом первого слова и сохранением его как ведущего\n",
    "with open('dataset_3363_3.txt') as inf:\n",
    "    d = dict()\n",
    "    \n",
    "    for line in inf:\n",
    "        line = line.strip()\n",
    "        words_in_line = line.split()\n",
    "        \n",
    "        for w in words_in_line:\n",
    "            if d.get(w.lower()) == None:\n",
    "                d[w.lower()] = []\n",
    "                d[w.lower()].append(w)\n",
    "                d[w.lower()].append(1)\n",
    "            else:\n",
    "                d[w.lower()][1] += 1\n",
    "    \n",
    "    v = d.values()\n",
    "    \n",
    "    n = 0\n",
    "    \n",
    "    for s in v:\n",
    "        if s[1] > n:\n",
    "            n = s[1]\n",
    "    \n",
    "    l = []\n",
    "    for s in v:\n",
    "        if s[1] == n:\n",
    "            print(s)\n",
    "            l.append(s[0])\n",
    "            \n",
    "    sorted(l)\n",
    "    print(l)"
   ]
  },
  {
   "cell_type": "code",
   "execution_count": 9,
   "metadata": {},
   "outputs": [
    {
     "name": "stdout",
     "output_type": "stream",
     "text": [
      "apbtpuzut 10\n"
     ]
    }
   ],
   "source": [
    "with open('dataset_3363_3.txt') as f: \n",
    "    s = f.read().strip().lower().split()\n",
    "    z = {i: s.count(i) for i in s}\n",
    "    a, b = 0, ''\n",
    "    for x in z.keys():\n",
    "        y = z[x]\n",
    "        if y > a:\n",
    "            a = y\n",
    "            b = x\n",
    "        elif a == y and x < b:\n",
    "            b = x\n",
    "    fin = str(b) + ' ' + str(a)\n",
    "    print(fin)"
   ]
  },
  {
   "cell_type": "markdown",
   "metadata": {},
   "source": [
    "### Задача 3"
   ]
  },
  {
   "cell_type": "markdown",
   "metadata": {},
   "source": [
    "Имеется файл с данными по успеваемости абитуриентов. Он представляет из себя набор строк, где в каждой строке записана следующая информация:\n",
    "\n",
    "Фамилия;Оценка_по_математике;Оценка_по_физике;Оценка_по_русскому_языку\n",
    "\n",
    "Поля внутри строки разделены точкой с запятой, оценки — целые числа.\n",
    "\n",
    "Напишите программу, которая считывает файл с подобной структурой и для каждого абитуриента выводит его среднюю оценку по этим трём предметам на отдельной строке, соответствующей этому абитуриенту.\n",
    "\n",
    "Также в конце файла, на отдельной строке, через пробел запишите средние баллы по математике, физике и русскому языку по всем абитуриентам."
   ]
  },
  {
   "cell_type": "code",
   "execution_count": 31,
   "metadata": {},
   "outputs": [],
   "source": [
    "with open('dataset_3363_4.txt') as inf, open('file_out_3', 'w') as ouf:\n",
    "    marks = [0, 0, 0]\n",
    "    count = 0\n",
    "    for line in inf:\n",
    "        marks_in_line = [int(i) for i in line.strip().split(';')[1:]]\n",
    "        marks = [marks[i] + marks_in_line[i] for i in range(3)]\n",
    "        average = sum(marks_in_line) / 3\n",
    "        ouf.write(str(average) + '\\n')\n",
    "        count += 1\n",
    "    \n",
    "    marks = [str(i / count) + ' ' for i in marks]\n",
    "    ouf.write(marks[0] + marks[1] + marks[2])"
   ]
  },
  {
   "cell_type": "markdown",
   "metadata": {},
   "source": [
    "## Модули"
   ]
  },
  {
   "cell_type": "markdown",
   "metadata": {},
   "source": [
    "https://docs.python.org/3/library/"
   ]
  },
  {
   "cell_type": "code",
   "execution_count": 1,
   "metadata": {},
   "outputs": [
    {
     "name": "stdout",
     "output_type": "stream",
     "text": [
      "3\n"
     ]
    }
   ],
   "source": [
    "import sys\n",
    "print(len(sys.argv))"
   ]
  },
  {
   "cell_type": "markdown",
   "metadata": {},
   "source": [
    "Модуль supprocess - запуск внешних процессов"
   ]
  },
  {
   "cell_type": "code",
   "execution_count": 4,
   "metadata": {},
   "outputs": [
    {
     "name": "stdout",
     "output_type": "stream",
     "text": [
      "3\n",
      "18.84955592153876\n"
     ]
    }
   ],
   "source": [
    "import math\n",
    "R = float(input())\n",
    "print(2 * R * math.pi)"
   ]
  },
  {
   "cell_type": "code",
   "execution_count": 7,
   "metadata": {},
   "outputs": [
    {
     "name": "stdout",
     "output_type": "stream",
     "text": [
      "-f /Users/nikolajkarasov/Library/Jupyter/runtime/kernel-785c22eb-e936-4f44-97bf-2faab11b26c8.json\n"
     ]
    }
   ],
   "source": [
    "print(*sys.argv[1:]) #печатает значения всех переданных аргументов на экран (имя скрипта выводить не нужно). "
   ]
  },
  {
   "cell_type": "code",
   "execution_count": 17,
   "metadata": {},
   "outputs": [
    {
     "data": {
      "text/plain": [
       "41"
      ]
     },
     "execution_count": 17,
     "metadata": {},
     "output_type": "execute_result"
    }
   ],
   "source": [
    "# вывод количества строк\n",
    "import requests\n",
    "r = requests.get('https://stepic.org/media/attachments/course67/3.6.2/747.txt')\n",
    "#print(r.text)\n",
    "len(r.text.splitlines())\n"
   ]
  },
  {
   "cell_type": "markdown",
   "metadata": {},
   "source": [
    "Имеется набор файлов, каждый из которых, кроме последнего, содержит имя следующего файла.\n",
    "Первое слово в тексте последнего файла: \"We\".\n",
    "    \n",
    "Найти содержимое последнего файла."
   ]
  },
  {
   "cell_type": "code",
   "execution_count": null,
   "metadata": {},
   "outputs": [],
   "source": [
    "name = '699991.txt'\n",
    "while True:\n",
    "    r = requests.get('https://stepic.org/media/attachments/course67/3.6.3/' + name)\n",
    "    name = r.text\n",
    "    if name.splitlines()[0].split()[0] == 'We':\n",
    "        print(r.text)\n",
    "        break"
   ]
  },
  {
   "cell_type": "markdown",
   "metadata": {},
   "source": [
    "## Задачи"
   ]
  },
  {
   "cell_type": "markdown",
   "metadata": {},
   "source": [
    "### Задача 1"
   ]
  },
  {
   "cell_type": "markdown",
   "metadata": {},
   "source": [
    "Напишите программу, которая принимает на стандартный вход список игр футбольных команд с результатом матча и выводит на стандартный вывод сводную таблицу результатов всех матчей.\n",
    "\n",
    "За победу команде начисляется 3 очка, за поражение — 0, за ничью — 1.\n",
    "\n",
    "Формат ввода следующий:\n",
    "В первой строке указано целое число n — количество завершенных игр.\n",
    "После этого идет n строк, в которых записаны результаты игры в следующем формате:\n",
    "Первая_команда;Забито_первой_командой;Вторая_команда;Забито_второй_командой\n",
    "\n",
    "Вывод программы необходимо оформить следующим образом:\n",
    "Команда:Всего_игр Побед Ничьих Поражений Всего_очков"
   ]
  },
  {
   "cell_type": "code",
   "execution_count": 8,
   "metadata": {},
   "outputs": [
    {
     "name": "stdout",
     "output_type": "stream",
     "text": [
      "3\n",
      "ЦСКА;0;Зенит;2\n",
      "Зенит;3;Спартак;1\n",
      "Спартак;1;ЦСКА;1\n",
      "ЦСКА:2 0 1 1 1\n",
      "Зенит:2 2 0 0 6\n",
      "Спартак:2 0 1 1 1\n"
     ]
    }
   ],
   "source": [
    "n = int(input())\n",
    "d = dict()\n",
    "\n",
    "for i in range(n):\n",
    "    l = input().split(';')\n",
    "    if d.get(l[0]) == None:\n",
    "        d[l[0]] = [0, 0, 0, 0, 0]\n",
    "    if d.get(l[2]) == None:\n",
    "        d[l[2]] = [0, 0, 0, 0, 0]\n",
    "        \n",
    "    if int(l[1]) < int(l[3]): \n",
    "        d[l[0]][3] += 1\n",
    "        d[l[2]][4] += 3\n",
    "        d[l[2]][1] += 1\n",
    "    elif int(l[1]) == int(l[3]):\n",
    "        d[l[0]][2] += 1\n",
    "        d[l[2]][2] += 1\n",
    "        d[l[0]][4] += 1\n",
    "        d[l[2]][4] += 1\n",
    "    else:\n",
    "        d[l[0]][1] += 1\n",
    "        d[l[0]][4] += 3\n",
    "        d[l[2]][3] += 1\n",
    "    \n",
    "    d[l[0]][0] += 1\n",
    "    d[l[2]][0] += 1\n",
    "    \n",
    "for k, v in d.items():\n",
    "    print(k, end=':')\n",
    "    print(*v)"
   ]
  },
  {
   "cell_type": "markdown",
   "metadata": {},
   "source": [
    "### Задача 2"
   ]
  },
  {
   "cell_type": "markdown",
   "metadata": {},
   "source": [
    "Напишите программу, которая умеет шифровать и расшифровывать шифр подстановки. Программа принимает на вход две строки одинаковой длины, на первой строке записаны символы исходного алфавита, на второй строке — символы конечного алфавита, после чего идёт строка, которую нужно зашифровать переданным ключом, и ещё одна строка, которую нужно расшифровать."
   ]
  },
  {
   "cell_type": "code",
   "execution_count": 3,
   "metadata": {},
   "outputs": [
    {
     "name": "stdout",
     "output_type": "stream",
     "text": [
      "abcd\n",
      "*d%#\n",
      "abacabadaba\n",
      "*d*%*d*#*d*\n"
     ]
    }
   ],
   "source": [
    "# решение на словарях\n",
    "alphabet = [i for i in input()]\n",
    "code = [j for j in input()]\n",
    "\n",
    "encodepairs_1 = {alphabet[i]: code[i] for i in range(len(code))}\n",
    "encodepairs_2 = {code[i]: alphabet[i] for i in range(len(code))}\n",
    "\n",
    "code_str = input()\n",
    "code_str_res = ''\n",
    "for s in code_str:\n",
    "    code_str_res += encodepairs_1.get(s)\n",
    "print(code_str_res)\n",
    "\n",
    "decode_str = input()\n",
    "decode_str_res = ''\n",
    "for s in decode_str:\n",
    "    decode_str_res += encodepairs_2.get(s)\n",
    "print(decode_str_res)"
   ]
  },
  {
   "cell_type": "code",
   "execution_count": null,
   "metadata": {},
   "outputs": [],
   "source": [
    "# Считываем 4 строки в цикле\n",
    "original, coding, first_string, second_string = (input() for i in range(4))\n",
    "\n",
    "# По индексу символа из оригинала берём символ на замену из кодировки,\n",
    "# для каждого символа из строки, которую нужно закодировать\n",
    "print(*[coding[original.find(symbol)] for symbol in first_string], sep='')\n",
    "# Аналогично, только наоборот\n",
    "print(*[original[coding.find(symbol)] for symbol in second_string], sep='')"
   ]
  },
  {
   "cell_type": "markdown",
   "metadata": {},
   "source": [
    "### Задача 3"
   ]
  },
  {
   "cell_type": "markdown",
   "metadata": {},
   "source": [
    "На вход программе первой строкой передаётся количество d известных нам слов, после чего на d строках указываются эти слова. Затем передаётся количество l строк текста для проверки, после чего l строк текста.\n",
    "\n",
    "Выведите уникальные \"ошибки\" в произвольном порядке. Работу производите без учёта регистра."
   ]
  },
  {
   "cell_type": "code",
   "execution_count": 16,
   "metadata": {},
   "outputs": [
    {
     "name": "stdout",
     "output_type": "stream",
     "text": [
      "2\n",
      "a s\n",
      "d c\n",
      "2\n",
      "d c\n",
      "g h\n",
      "g\n",
      "h\n"
     ]
    }
   ],
   "source": [
    "d = set()\n",
    "for i in range(int(input())):\n",
    "    [d.add(s.lower()) for s in input().split()]\n",
    "\n",
    "new_set = set()\n",
    "for i in range(int(input())):\n",
    "       [new_set.add(s) for s in input().split() if s.lower() not in d and s.lower() not in new_set]\n",
    "        \n",
    "print(*new_set, sep='\\n')"
   ]
  },
  {
   "cell_type": "markdown",
   "metadata": {},
   "source": [
    "### Задача 4"
   ]
  },
  {
   "cell_type": "code",
   "execution_count": 20,
   "metadata": {},
   "outputs": [
    {
     "name": "stdout",
     "output_type": "stream",
     "text": [
      "1\n",
      "север 10 \n",
      "0 10\n"
     ]
    }
   ],
   "source": [
    "commands = {'восток':[0, 1], 'запад':[0,-1], 'север':[1,1], 'юг':[1,-1]}\n",
    "pos = [0, 0]\n",
    "for i in range(int(input())):\n",
    "    line = input().split()\n",
    "    pos[commands.get(line[0])[0]] += commands.get(line[0])[1] * int(line[1])\n",
    "print(*pos)"
   ]
  },
  {
   "cell_type": "markdown",
   "metadata": {},
   "source": [
    "### Задача 5"
   ]
  },
  {
   "cell_type": "markdown",
   "metadata": {},
   "source": [
    "Дан файл с таблицей в формате TSV с информацией о росте школьников разных классов.\n",
    "\n",
    "Напишите программу, которая прочитает этот файл и подсчитает для каждого класса средний рост учащегося.\n",
    "\n",
    "Файл состоит из набора строк, каждая из которых представляет собой три поля:\n",
    "Класс Фамилия Рост\n",
    "\n",
    "Класс обозначается только числом. Буквенные модификаторы не используются. Номер класса может быть от 1 до 11 включительно. В фамилии нет пробелов, а в качестве роста используется натуральное число, но при подсчёте среднего требуется вычислить значение в виде вещественного числа.\n",
    "\n",
    "Выводить информацию о среднем росте следует в порядке возрастания номера класса (для классов с первого по одиннадцатый). Если про какой-то класс нет информации, необходимо вывести напротив него прочерк, например:"
   ]
  },
  {
   "cell_type": "code",
   "execution_count": 25,
   "metadata": {},
   "outputs": [
    {
     "name": "stdout",
     "output_type": "stream",
     "text": [
      "1 125.0\n",
      "2 130.0\n",
      "3 133.6153846153846\n",
      "4 139.2941176470588\n",
      "5 144.75\n",
      "6 155.45454545454547\n",
      "7 160.0\n",
      "8 166.1\n",
      "9 172.0\n",
      "10 169.16666666666666\n",
      "11 173.5\n"
     ]
    }
   ],
   "source": [
    "d = {i:[0, 0] for i in range(1, 12)}\n",
    "with open('dataset_3380_5.txt') as inf:\n",
    "    for line in inf:\n",
    "        line = line.strip().split('\\t')\n",
    "        d[int(line[0])][0] += int(line[2])\n",
    "        d[int(line[0])][1] += 1\n",
    "\n",
    "for k in sorted(d):\n",
    "    if d[k][1] == 0:\n",
    "        print(k, '-')\n",
    "    else:\n",
    "        print(k, d[k][0] / d[k][1])"
   ]
  },
  {
   "cell_type": "markdown",
   "metadata": {},
   "source": [
    "## NumPy"
   ]
  },
  {
   "cell_type": "code",
   "execution_count": 3,
   "metadata": {},
   "outputs": [
    {
     "name": "stdout",
     "output_type": "stream",
     "text": [
      "[2 3 4]\n"
     ]
    },
    {
     "data": {
      "text/plain": [
       "array([2, 3, 4])"
      ]
     },
     "execution_count": 3,
     "metadata": {},
     "output_type": "execute_result"
    }
   ],
   "source": [
    "from numpy import *\n",
    "a = array([2,3,4])\n",
    "print(a)\n",
    "a"
   ]
  },
  {
   "cell_type": "code",
   "execution_count": 4,
   "metadata": {},
   "outputs": [
    {
     "data": {
      "text/plain": [
       "1"
      ]
     },
     "execution_count": 4,
     "metadata": {},
     "output_type": "execute_result"
    }
   ],
   "source": [
    "a.ndim # размерность массива (одномерный, двумерный)"
   ]
  },
  {
   "cell_type": "code",
   "execution_count": 5,
   "metadata": {},
   "outputs": [
    {
     "data": {
      "text/plain": [
       "(3,)"
      ]
     },
     "execution_count": 5,
     "metadata": {},
     "output_type": "execute_result"
    }
   ],
   "source": [
    "a.shape # размеры массива (число строк, столбцов)"
   ]
  },
  {
   "cell_type": "code",
   "execution_count": 7,
   "metadata": {},
   "outputs": [
    {
     "name": "stdout",
     "output_type": "stream",
     "text": [
      "[[1 2]\n",
      " [3 4]]\n"
     ]
    }
   ],
   "source": [
    "b = array([(1, 2), (3, 4)])\n",
    "print(b)"
   ]
  },
  {
   "cell_type": "code",
   "execution_count": 8,
   "metadata": {},
   "outputs": [
    {
     "data": {
      "text/plain": [
       "array([[0., 0.],\n",
       "       [0., 0.],\n",
       "       [0., 0.]])"
      ]
     },
     "execution_count": 8,
     "metadata": {},
     "output_type": "execute_result"
    }
   ],
   "source": [
    "z = zeros((3, 2))\n",
    "z"
   ]
  },
  {
   "cell_type": "code",
   "execution_count": 10,
   "metadata": {},
   "outputs": [
    {
     "data": {
      "text/plain": [
       "array([10, 15, 20, 25])"
      ]
     },
     "execution_count": 10,
     "metadata": {},
     "output_type": "execute_result"
    }
   ],
   "source": [
    "arange(10, 30, 5)"
   ]
  },
  {
   "cell_type": "code",
   "execution_count": 11,
   "metadata": {},
   "outputs": [
    {
     "data": {
      "text/plain": [
       "array([0.  , 0.25, 0.5 , 0.75, 1.  , 1.25, 1.5 , 1.75, 2.  ])"
      ]
     },
     "execution_count": 11,
     "metadata": {},
     "output_type": "execute_result"
    }
   ],
   "source": [
    "linspace(0, 2, 9)"
   ]
  },
  {
   "cell_type": "code",
   "execution_count": 12,
   "metadata": {},
   "outputs": [
    {
     "data": {
      "text/plain": [
       "array([[ 0.84147098,  0.90929743],\n",
       "       [ 0.14112001, -0.7568025 ]])"
      ]
     },
     "execution_count": 12,
     "metadata": {},
     "output_type": "execute_result"
    }
   ],
   "source": [
    "sin(b)"
   ]
  },
  {
   "cell_type": "code",
   "execution_count": 13,
   "metadata": {},
   "outputs": [
    {
     "data": {
      "text/plain": [
       "array([[2, 4],\n",
       "       [6, 8]])"
      ]
     },
     "execution_count": 13,
     "metadata": {},
     "output_type": "execute_result"
    }
   ],
   "source": [
    "b + b"
   ]
  },
  {
   "cell_type": "code",
   "execution_count": 14,
   "metadata": {},
   "outputs": [
    {
     "data": {
      "text/plain": [
       "array([[ 1,  4],\n",
       "       [ 9, 16]])"
      ]
     },
     "execution_count": 14,
     "metadata": {},
     "output_type": "execute_result"
    }
   ],
   "source": [
    "b ** 2"
   ]
  },
  {
   "cell_type": "code",
   "execution_count": 15,
   "metadata": {},
   "outputs": [
    {
     "data": {
      "text/plain": [
       "array([[ True,  True],\n",
       "       [ True, False]])"
      ]
     },
     "execution_count": 15,
     "metadata": {},
     "output_type": "execute_result"
    }
   ],
   "source": [
    "b < 4"
   ]
  },
  {
   "cell_type": "markdown",
   "metadata": {},
   "source": [
    "## Matplotlib"
   ]
  },
  {
   "cell_type": "code",
   "execution_count": 19,
   "metadata": {},
   "outputs": [
    {
     "data": {
      "text/plain": [
       "Text(0.5, 1.0, 'title')"
      ]
     },
     "execution_count": 19,
     "metadata": {},
     "output_type": "execute_result"
    },
    {
     "data": {
      "image/png": "[encoded data removed]",
      "text/plain": [
       "<Figure size 432x288 with 1 Axes>"
      ]
     },
     "metadata": {
      "needs_background": "light"
     },
     "output_type": "display_data"
    }
   ],
   "source": [
    "from pylab import *\n",
    "x, y = arange(10), arange(10)\n",
    "fig = plt.figure()\n",
    "axes = fig.add_axes([0.1, 0.1, 0.8, 0.8])\n",
    "axes.plot(x, y, 'r')\n",
    "axes.set_title('title')"
   ]
  },
  {
   "cell_type": "code",
   "execution_count": 22,
   "metadata": {},
   "outputs": [],
   "source": [
    "%matplotlib inline"
   ]
  },
  {
   "cell_type": "code",
   "execution_count": 23,
   "metadata": {},
   "outputs": [
    {
     "data": {
      "text/plain": [
       "Text(0.5, 1.0, 'title 2')"
      ]
     },
     "execution_count": 23,
     "metadata": {},
     "output_type": "execute_result"
    },
    {
     "data": {
      "image/png": "[encoded data removed]",
      "text/plain": [
       "<Figure size 432x288 with 2 Axes>"
      ]
     },
     "metadata": {
      "needs_background": "light"
     },
     "output_type": "display_data"
    }
   ],
   "source": [
    "x, y = arange(10), arange(10)\n",
    "fig = plt.figure()\n",
    "axes1 = fig.add_axes([0.1, 0.1, 0.8, 0.8])\n",
    "axes2 = fig.add_axes([0.2, 0.5, 0.4, 0.3])\n",
    "axes1.plot(x, y, 'r')\n",
    "axes1.set_title('title 1')\n",
    "axes2.plot(x, -y, 'r')\n",
    "axes2.set_title('title 2')"
   ]
  },
  {
   "cell_type": "code",
   "execution_count": 27,
   "metadata": {},
   "outputs": [
    {
     "data": {
      "text/plain": [
       "(-5.12441682205355, 4.636721049912267)"
      ]
     },
     "execution_count": 27,
     "metadata": {},
     "output_type": "execute_result"
    },
    {
     "data": {
      "image/png": "[encoded data removed]",
      "text/plain": [
       "<Figure size 864x288 with 2 Axes>"
      ]
     },
     "metadata": {
      "needs_background": "light"
     },
     "output_type": "display_data"
    }
   ],
   "source": [
    "from numpy import *\n",
    "n = random.randn(1000000)\n",
    "fig, axes = plt.subplots(1, 2, figsize=(12,4))\n",
    "\n",
    "axes[0].hist(n)\n",
    "axes[0].set_xlim(min(n), max(n))\n",
    "\n",
    "axes[1].hist(n, cumulative=True, bins=50)\n",
    "axes[1].set_xlim(min(n), max(n))"
   ]
  },
  {
   "cell_type": "code",
   "execution_count": null,
   "metadata": {},
   "outputs": [],
   "source": []
  }
 ],
 "metadata": {
  "kernelspec": {
   "display_name": "Python 3",
   "language": "python",
   "name": "python3"
  },
  "language_info": {
   "codemirror_mode": {
    "name": "ipython",
    "version": 3
   },
   "file_extension": ".py",
   "mimetype": "text/x-python",
   "name": "python",
   "nbconvert_exporter": "python",
   "pygments_lexer": "ipython3",
   "version": "3.7.4"
  }
 },
 "nbformat": 4,
 "nbformat_minor": 4
}
