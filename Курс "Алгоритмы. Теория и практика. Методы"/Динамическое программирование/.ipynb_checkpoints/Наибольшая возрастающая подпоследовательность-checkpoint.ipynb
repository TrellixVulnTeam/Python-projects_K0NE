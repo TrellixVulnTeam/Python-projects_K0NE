{
 "cells": [
  {
   "cell_type": "markdown",
   "metadata": {},
   "source": [
    "# Наибольшая возрастающая подпоследовательность"
   ]
  },
  {
   "cell_type": "markdown",
   "metadata": {},
   "source": [
    "Хотим найти возрастающую подпоследовательность максимальной длины."
   ]
  },
  {
   "cell_type": "markdown",
   "metadata": {},
   "source": [
    "## Подзадачи"
   ]
  },
  {
   "cell_type": "markdown",
   "metadata": {},
   "source": [
    "- Рассмотрим НВП и два ее соседних элемента $z$ и $x$.\n",
    "\n",
    "- Ясно, что $z < x$.\n",
    "\n",
    "- Более того, префикс НВП, заканчивающийся в $z$ должен быть оптимален, поскольку в противном случае НВП не была бы оптимальной.\n",
    "\n",
    "- Оптимальность для подзадач методом \"вырезать и вставить\"."
   ]
  },
  {
   "cell_type": "markdown",
   "metadata": {},
   "source": [
    "## Подзадачи и рекуррентное соотношение"
   ]
  },
  {
   "cell_type": "markdown",
   "metadata": {},
   "source": [
    "- Пусть $D[i]$ - длина НВП, заканчивающейся в $A[i]$.\n",
    "\n",
    "- Тогда \n",
    "\n",
    "$$D[i] = 1 + \\max \\{D[j]: j < i, A[j] < A[i]\\}.$$\n",
    "\n",
    "- Таким образом, вместо решения исходной задачи мы будем решать множество подзадач того же типа."
   ]
  },
  {
   "cell_type": "code",
   "execution_count": 1,
   "metadata": {},
   "outputs": [
    {
     "data": {
      "text/plain": [
       "4"
      ]
     },
     "execution_count": 1,
     "metadata": {},
     "output_type": "execute_result"
    }
   ],
   "source": [
    "def lis_bottom_up(a):\n",
    "    d = [1] * len(a)\n",
    "    for i in range(len(a)):\n",
    "        for j in range(i):\n",
    "            if a[j] < a[i] and d[j] + 1 > d[i]:\n",
    "                d[i] = d[j] + 1\n",
    "    return max(d)\n",
    "    \n",
    "lis_bottom_up([6, 7, 8, 9])"
   ]
  },
  {
   "cell_type": "markdown",
   "metadata": {},
   "source": [
    "## Время работы"
   ]
  },
  {
   "cell_type": "markdown",
   "metadata": {},
   "source": [
    "Время работы алгоритма квадратично, поскольку он перебирает все пары $(i, j)$, где $0 \\leq j < i < n$. Количество таких пар равно \n",
    "\n",
    "$$\\frac{n(n-1)}{2} = \\Theta(n^2).$$"
   ]
  },
  {
   "cell_type": "code",
   "execution_count": null,
   "metadata": {},
   "outputs": [],
   "source": []
  }
 ],
 "metadata": {
  "kernelspec": {
   "display_name": "Python 3",
   "language": "python",
   "name": "python3"
  },
  "language_info": {
   "codemirror_mode": {
    "name": "ipython",
    "version": 3
   },
   "file_extension": ".py",
   "mimetype": "text/x-python",
   "name": "python",
   "nbconvert_exporter": "python",
   "pygments_lexer": "ipython3",
   "version": "3.7.4"
  }
 },
 "nbformat": 4,
 "nbformat_minor": 4
}
