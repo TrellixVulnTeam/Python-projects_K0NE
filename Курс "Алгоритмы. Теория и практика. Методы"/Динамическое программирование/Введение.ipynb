{
 "cells": [
  {
   "cell_type": "markdown",
   "metadata": {},
   "source": [
    "# Числа Фибоначчи"
   ]
  },
  {
   "cell_type": "markdown",
   "metadata": {},
   "source": [
    "*Определение*\n",
    "\n",
    "\\begin{equation*}\n",
    "F_n = \n",
    " \\begin{cases}\n",
    "   0, n = 0 \n",
    "   \\\\\n",
    "   1, n = 1,\n",
    "   \\\\\n",
    "   F_{n-1} + F_{n-2}, n > 1.\n",
    " \\end{cases}\n",
    "\\end{equation*}"
   ]
  },
  {
   "cell_type": "code",
   "execution_count": 2,
   "metadata": {},
   "outputs": [
    {
     "data": {
      "text/plain": [
       "21"
      ]
     },
     "execution_count": 2,
     "metadata": {},
     "output_type": "execute_result"
    }
   ],
   "source": [
    "def fib_recursive(n):\n",
    "    if n <= 1:\n",
    "        return n\n",
    "    return fib_recursive(n - 1) + fib_recursive(n - 2)\n",
    "\n",
    "fib_recursive(8)"
   ]
  },
  {
   "cell_type": "markdown",
   "metadata": {},
   "source": [
    "__Рекурсивный алгоритм__ работает долго, так как много раз вычисляет одно и то же. Дерево рекурсии растет очень быстро."
   ]
  },
  {
   "cell_type": "markdown",
   "metadata": {},
   "source": [
    "# Динамическое программирование назад"
   ]
  },
  {
   "cell_type": "code",
   "execution_count": 5,
   "metadata": {},
   "outputs": [
    {
     "data": {
      "text/plain": [
       "21"
      ]
     },
     "execution_count": 5,
     "metadata": {},
     "output_type": "execute_result"
    }
   ],
   "source": [
    "n = 8\n",
    "f = [-1] * (n + 1)\n",
    "\n",
    "def fib_td(n):\n",
    "    if f[n] == -1:\n",
    "        if n <= 1:\n",
    "            f[n] = n\n",
    "        else:\n",
    "            f[n] = fib_td(n - 1) + fib_td(n - 2)\n",
    "            \n",
    "    return f[n]\n",
    "\n",
    "fib_td(8)"
   ]
  },
  {
   "cell_type": "markdown",
   "metadata": {},
   "source": [
    "Время работы $O(n^2).$"
   ]
  },
  {
   "cell_type": "markdown",
   "metadata": {},
   "source": [
    "# Динамическое программирование вперед"
   ]
  },
  {
   "cell_type": "code",
   "execution_count": 4,
   "metadata": {},
   "outputs": [
    {
     "data": {
      "text/plain": [
       "21"
      ]
     },
     "execution_count": 4,
     "metadata": {},
     "output_type": "execute_result"
    }
   ],
   "source": [
    "def fib_bu(n):\n",
    "    f = [-1] * (n + 1)\n",
    "    f[0], f[1] = 0, 1\n",
    "    for i in range(2, n + 1):\n",
    "        f[i] = f[i - 1] + f[i - 2]\n",
    "    \n",
    "    return f[n]\n",
    "\n",
    "fib_bu(8)"
   ]
  },
  {
   "cell_type": "markdown",
   "metadata": {},
   "source": [
    "Время работы $O(n^2).$"
   ]
  },
  {
   "cell_type": "markdown",
   "metadata": {},
   "source": [
    "# Уменьшение памяти"
   ]
  },
  {
   "cell_type": "markdown",
   "metadata": {},
   "source": [
    "Массив в предыдущем примере не так уж и нужен."
   ]
  },
  {
   "cell_type": "code",
   "execution_count": 9,
   "metadata": {},
   "outputs": [
    {
     "data": {
      "text/plain": [
       "21"
      ]
     },
     "execution_count": 9,
     "metadata": {},
     "output_type": "execute_result"
    }
   ],
   "source": [
    "def fib_bu_improved(n):\n",
    "    if n <= 1:\n",
    "        return n\n",
    "    prev, curr = 0, 1\n",
    "    while n != 1:\n",
    "        next_ = prev + curr\n",
    "        prev, curr = curr, next_\n",
    "        n -= 1\n",
    "    return curr\n",
    "\n",
    "fib_bu_improved(8)"
   ]
  },
  {
   "cell_type": "markdown",
   "metadata": {},
   "source": [
    "Время работы $O(n^2).$"
   ]
  },
  {
   "cell_type": "markdown",
   "metadata": {},
   "source": [
    "# Заключение"
   ]
  },
  {
   "cell_type": "markdown",
   "metadata": {},
   "source": [
    "- Основная идея динамического программирования: вместо исходной задачи решается множество перекрывающихся подзадач. Ответы для подзадач хранятся в таблице.\n",
    "\n",
    "- Динамическое программирование назад (или сверху вниз): рекурсивно от больших задач к меньшим.\n",
    "\n",
    "- Динамическое программирование вперед (или снизу вверх): итеративно от меньших задач к большим.\n",
    "\n",
    "- Для некоторых задач можно уменьшить память, проанализировав структуру таблицы."
   ]
  }
 ],
 "metadata": {
  "kernelspec": {
   "display_name": "Python 3",
   "language": "python",
   "name": "python3"
  },
  "language_info": {
   "codemirror_mode": {
    "name": "ipython",
    "version": 3
   },
   "file_extension": ".py",
   "mimetype": "text/x-python",
   "name": "python",
   "nbconvert_exporter": "python",
   "pygments_lexer": "ipython3",
   "version": "3.7.4"
  }
 },
 "nbformat": 4,
 "nbformat_minor": 4
}
