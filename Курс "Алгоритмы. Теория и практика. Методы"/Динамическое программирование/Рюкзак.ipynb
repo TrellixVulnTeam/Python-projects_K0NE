{
 "cells": [
  {
   "cell_type": "markdown",
   "metadata": {},
   "source": [
    "# Задача о рюкзаке"
   ]
  },
  {
   "cell_type": "markdown",
   "metadata": {},
   "source": [
    "- __Вход:__ веса $w_1, \\ldots, w_n \\in \\mathbb{N}$ и стоимости $c_1, \\ldots, c_n \\in \\mathbb{N}$ данных $n$ предметов; вместимость рюкзака $W \\in \\mathbb{N}$.\n",
    "\n",
    "- __Выход:__ максимальная стоимость предметов суммарного веса не более $W$.\n",
    "\n",
    "__Варианты__\n",
    "- Рюкзак с повторениями: неограниченное количество каждого из предметов.\n",
    "\n",
    "- Рюкзак без повторений: единственный экземпляр каждого предмета."
   ]
  },
  {
   "cell_type": "markdown",
   "metadata": {},
   "source": [
    "## Рюкзак с повторениями: подзадачи"
   ]
  },
  {
   "cell_type": "markdown",
   "metadata": {},
   "source": [
    "- Рассмотрим оптимальное решение и предмет $i$ в нём.\n",
    "\n",
    "- Если вытащить данный предмет из рюкзака, то мы получим оптимальное заполнение рюкзака вместимости $W−w_i$ (\"вырезать и вставить\").\n",
    "\n",
    "- Подзадачи:\n",
    "\n",
    " - $D[w] =$ макс. стоимость рюкзака вместимости $w$.\n",
    " \n",
    "- Тогда\n",
    "\n",
    "$$D[w] = \\max_{i:w_i \\leq w}\\{D[w−w_i] +c_i\\}.$$ "
   ]
  },
  {
   "cell_type": "markdown",
   "metadata": {},
   "source": [
    "## Дин. прог. снизу вверх"
   ]
  },
  {
   "cell_type": "code",
   "execution_count": 1,
   "metadata": {},
   "outputs": [
    {
     "name": "stdout",
     "output_type": "stream",
     "text": [
      "48\n"
     ]
    }
   ],
   "source": [
    "def knapsack_with_reps_bu(W, w_s, c_s):\n",
    "    d = [0] * (W + 1)\n",
    "    for w in range(1, W + 1):\n",
    "        for i in range(len(c_s)):\n",
    "            if w_s[i] <= w:\n",
    "                d[w] = max(d[w], d[w - w_s[i]] + c_s[i])\n",
    "    return d[W]\n",
    "\n",
    "\n",
    "W = 10\n",
    "w_s = [6, 3, 4, 2]\n",
    "c_s = [30, 14, 16, 9]\n",
    "\n",
    "print(knapsack_with_reps_bu(W, w_s, c_s))"
   ]
  },
  {
   "cell_type": "markdown",
   "metadata": {},
   "source": [
    "Время работы $O(nW)$."
   ]
  },
  {
   "cell_type": "markdown",
   "metadata": {},
   "source": [
    "## Рюкзак без повторений"
   ]
  },
  {
   "cell_type": "markdown",
   "metadata": {},
   "source": [
    "- Что если повторения запрещены?\n",
    "\n",
    "- Знание оптимальных стоимостей для $D[w−w_i]$ не поможет для вычисления $D[w]$, поскольку оптимальное решение для рюкзака вместимости $w−w_i$ уже может содержать $i$-й предмет (и тогда к этому решению нельзя будет просто добавить предмет $i$, чтобы получить решение для рюкзака вместимости $w$).\n",
    "\n",
    "- Новые подзадачи: для $0 \\leq w \\leq W$ и $0 \\leq i \\leq n$, $D[w,i]$ — максимальная стоимость рюкзака вместимости $w$, если разрешено использовать только предметы $1, \\ldots, i$.\n",
    "\n",
    "- Предмет $i$ либо используется, либо нет:\n",
    "\n",
    "$$D[w,i] = \\max \\{D[w−w_i, i−1] +c_i,D[w,i−1]\\}.$$\n"
   ]
  },
  {
   "cell_type": "code",
   "execution_count": 21,
   "metadata": {},
   "outputs": [
    {
     "name": "stdout",
     "output_type": "stream",
     "text": [
      "46\n"
     ]
    }
   ],
   "source": [
    "def knapsack_without_reps_bu(W, w_s, c_s):\n",
    "    d = [[0] * (len(c_s) + 1) for i in range(W + 1)]\n",
    "    \n",
    "    for w in range(W + 1):\n",
    "        d[w][0] = 0\n",
    "    for i in range(len(c_s) + 1):\n",
    "        d[0][i] = 0\n",
    "        \n",
    "    for i in range(1, len(c_s) + 1):\n",
    "        for w in range(1, W + 1):\n",
    "            d[w][i] = d[w][i - 1]\n",
    "            if w_s[i - 1] <= w:\n",
    "                d[w][i] = max(d[w][i], d[w - w_s[i - 1]][i - 1] + c_s[i - 1])\n",
    "                \n",
    "    return d[W][len(c_s)]\n",
    "\n",
    "\n",
    "W = 10\n",
    "w_s = [6, 3, 4, 2]\n",
    "c_s = [30, 14, 16, 9]\n",
    "\n",
    "print(knapsack_without_reps_bu(W, w_s, c_s))"
   ]
  },
  {
   "cell_type": "markdown",
   "metadata": {},
   "source": [
    "Время работы $O(nW)$."
   ]
  },
  {
   "cell_type": "markdown",
   "metadata": {},
   "source": [
    "## Сверху вниз или снизу вверх?"
   ]
  },
  {
   "cell_type": "markdown",
   "metadata": {},
   "source": [
    "- Рассмотренные алгоритмы заполняют таблицу снизу вверх: от более простых задач к более сложным.\n",
    "\n",
    "- Алгоритм, заполняющий таблицу сверху вниз, делает рекурсивные вызовы для подзадач, но до того, как решать подзадачу, проверят, не сохранён ли уже ответ для неё в таблице.\n",
    "\n",
    "- Если все подзадачи должны быть решены, то подход снизу вверх обычно работает быстрее, поскольку не имеет накладных расходов на рекурсию.\n",
    "\n",
    "- Есть, однако, ситуации, когда не нужно решать все подзадачи (чтобы решить исходную задачу): например, если $W$ и все $w_i$ делятся на $100$, то нас не интересуют решения для подзадач $D[w]$ при $w$, не делящемся на $100$."
   ]
  },
  {
   "cell_type": "markdown",
   "metadata": {},
   "source": [
    "## Дин. прог. сверху вниз для рюкзака с повторениями"
   ]
  },
  {
   "cell_type": "code",
   "execution_count": 16,
   "metadata": {},
   "outputs": [
    {
     "name": "stdout",
     "output_type": "stream",
     "text": [
      "48\n"
     ]
    }
   ],
   "source": [
    "H = dict()\n",
    "W = 10\n",
    "w_s = [6, 3, 4, 2]\n",
    "c_s = [30, 14, 16, 9]\n",
    "\n",
    "def knapsack_td(w):\n",
    "    global H, w_s, c_s\n",
    "    \n",
    "    if w not in H:\n",
    "        v = 0\n",
    "        for i in range(len(w_s)):\n",
    "            if w_s[i] <= w:\n",
    "                v = max(v, knapsack_td(w - w_s[i]) + c_s[i])\n",
    "        H[w] = v\n",
    "        \n",
    "    return H[w]\n",
    "\n",
    "\n",
    "print(knapsack_td(W))"
   ]
  },
  {
   "cell_type": "markdown",
   "metadata": {},
   "source": [
    "## Время работы"
   ]
  },
  {
   "cell_type": "markdown",
   "metadata": {},
   "source": [
    "- Время работы $O(nW)$ не является полиномиальным, потому что длина входа пропорциональная $\\log W$, а не $W$. \n",
    "\n",
    "- Другими словами, время работы есть $O(n2^{\\log W})$.\n",
    "\n",
    "- Например, для $W=71 345 970 345 617 824 751$ (всего двадцать цифр!) алгоритму потребуется около $10^20$ базовых операций."
   ]
  },
  {
   "cell_type": "markdown",
   "metadata": {},
   "source": [
    "# Задача на программирование: рюкзак"
   ]
  },
  {
   "cell_type": "markdown",
   "metadata": {},
   "source": [
    "Первая строка входа содержит целые числа $1 \\leq W \\leq 10^4$ и $1\\leq n\\leq 300$ — вместимость рюкзака и число золотых слитков. Следующая строка содержит $n$ целых чисел $0 \\leq w_1, \\ldots, w_n \\leq 10^5$, задающих веса слитков. Найдите максимальный вес золота, который можно унести в рюкзаке."
   ]
  },
  {
   "cell_type": "code",
   "execution_count": 39,
   "metadata": {},
   "outputs": [
    {
     "name": "stdout",
     "output_type": "stream",
     "text": [
      "10 3\n",
      "1 4 8\n",
      "9\n"
     ]
    }
   ],
   "source": [
    "W, n = map(int, input().split())\n",
    "\n",
    "w_s = [int(i) for i in input().split()]\n",
    "\n",
    "c_s = [w_s[i] for i in range(n)]  # стоимость пропорциональна весу\n",
    "\n",
    "def knapsack_without_reps_bu_2(W, w_s, c_s, n):\n",
    "    d = [[0] * (W + 1) for i in range(n + 1)]\n",
    "    \n",
    "    for w in range(W + 1):\n",
    "        d[0][w] = 0\n",
    "    for i in range(n + 1):\n",
    "        d[i][0] = 0\n",
    "        \n",
    "    for i in range(1, n + 1):\n",
    "        for w in range(1, W + 1):\n",
    "            d[i][w] = d[i - 1][w]\n",
    "            if w_s[i - 1] <= w:\n",
    "                d[i][w] = max(d[i][w], d[i-1][w - w_s[i - 1]] + c_s[i - 1])\n",
    "        \n",
    "#  посмотрим на получившуюся матрицу        \n",
    "                \n",
    "#     for i in range(n + 1):\n",
    "#         print(d[i])\n",
    "\n",
    "    el_s = [0] * n\n",
    "    \n",
    "    weight = 0\n",
    "        \n",
    "    for i in range(n - 1, -1, -1):\n",
    "\n",
    "        if W - w_s[i] >= 0 and d[i][W] < d[i][W - w_s[i]] + c_s[i]:\n",
    "            el_s[i] = 1\n",
    "            W -= w_s[i]\n",
    "            weight += w_s[i]\n",
    "            \n",
    "#     print(el_s)\n",
    "\n",
    "    return weight\n",
    "\n",
    "\n",
    "print(knapsack_without_reps_bu_2(W, w_s, c_s, n))"
   ]
  }
 ],
 "metadata": {
  "kernelspec": {
   "display_name": "Python 3",
   "language": "python",
   "name": "python3"
  },
  "language_info": {
   "codemirror_mode": {
    "name": "ipython",
    "version": 3
   },
   "file_extension": ".py",
   "mimetype": "text/x-python",
   "name": "python",
   "nbconvert_exporter": "python",
   "pygments_lexer": "ipython3",
   "version": "3.7.4"
  }
 },
 "nbformat": 4,
 "nbformat_minor": 4
}
