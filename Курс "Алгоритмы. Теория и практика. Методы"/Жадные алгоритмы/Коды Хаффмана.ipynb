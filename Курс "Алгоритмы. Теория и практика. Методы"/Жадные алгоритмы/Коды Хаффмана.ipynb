{
 "cells": [
  {
   "cell_type": "markdown",
   "metadata": {},
   "source": [
    "# Жадные алгоритмы: кодирование Хаффмана"
   ]
  },
  {
   "cell_type": "markdown",
   "metadata": {},
   "source": [
    "## Сжатие данных\n",
    "- Вход: строка $s$.\n",
    "- Выход: бинарный код символов строки s, обеспечивающий кратчайшее представление s."
   ]
  },
  {
   "cell_type": "markdown",
   "metadata": {},
   "source": [
    "## Пример\n",
    "$s = abacabad$\n",
    "\n",
    "коды символов: $a:00, b:01, c:10, d:11$\n",
    "\n",
    "закодированная строка: 0001001000010011 (16 битов)"
   ]
  },
  {
   "cell_type": "markdown",
   "metadata": {},
   "source": [
    "## Коды переменной длины\n",
    "$s = abacabad$\n",
    "\n",
    "коды символов: $a:0, b:10, c:110, d:111$\n",
    "\n",
    "закодированная строка: 01001100100111 (14 битов)\n",
    "\n",
    "код называется *беспрефиксным*, если никакой код символа не является префиксом другого кода символа."
   ]
  },
  {
   "cell_type": "markdown",
   "metadata": {},
   "source": [
    "## Можно кодировать двоичным деревом, все символы в листьях"
   ]
  },
  {
   "cell_type": "markdown",
   "metadata": {},
   "source": [
    "## Код Хаффмана\n",
    "- Вход: частоты символов $f_1, \\ldots, f_n \\in \\mathbb{N}$\n",
    "- Выход: строго двоичное дерево (у каждой вершины либо ноль, либо два сына), листья которого помечены частотами $f_1,\\ldots, f_n$, минимизирующее $$\\sum_{i=1}^{n}f_i \\cdot (глубина\\ листа f_i).$$"
   ]
  },
  {
   "cell_type": "markdown",
   "metadata": {},
   "source": [
    "## Частоты для внутренних вершин\n",
    "\n",
    "Частотой (некорневой) вершины назовем количество раз, которое вершина будет посещена в процессе кодировки/декодировки."
   ]
  },
  {
   "cell_type": "markdown",
   "metadata": {},
   "source": [
    "## Надежный шаг\n",
    "Таким образом, мы ищем строго двоичное дерево с минимальной суммой пометок в вершинах, в котором листья помечены входными частотами, а внутренние вершины - суммами пометок их детей.\n",
    "\n",
    "Двумя наименьшими частотами помечены листья на нижнем уровне.\n",
    "\n",
    "*Надежный жадный шаг*: выбрать две минимальные частоты $f_i$ и $f_j$, сделать их детьми новой вершины с пометкой $f_i + f_j$; выкинуть частоты $f_i$ и $f_j$, добавить $f_i + f_j$."
   ]
  },
  {
   "cell_type": "markdown",
   "metadata": {},
   "source": [
    "# Очередь с приоритетами\n",
    "\n",
    "Insert($p$) добавляет новый элемент с приоритетом $p$.\n",
    "\n",
    "ExtractMin() извлекает из очереди элемент с минимальным приоритетом."
   ]
  },
  {
   "cell_type": "markdown",
   "metadata": {},
   "source": [
    "### Процедура Huffman(F[1...n])"
   ]
  },
  {
   "cell_type": "raw",
   "metadata": {},
   "source": [
    "H = очередь с приоритетами\n",
    "для i от 1 до n:\n",
    "    Insert(H, (i, F[i]))\n",
    "для k от n+1 до 2n-1:\n",
    "    (i, F[i]) = ExtractMin(H)\n",
    "    (j, F[j]) = ExtractMin(H)\n",
    "    создать вершину k с детьми i, j\n",
    "    F[k] = F[i] + F[j]\n",
    "    Insert(H, (k, F[k]))"
   ]
  },
  {
   "cell_type": "markdown",
   "metadata": {},
   "source": [
    "## Время работы \n",
    "$O(n^2)$ если очередь с приоритетами реализована на базе массива, $O(n\\log n)$ если на базе кучи."
   ]
  },
  {
   "cell_type": "markdown",
   "metadata": {},
   "source": [
    "# Задачи"
   ]
  },
  {
   "cell_type": "markdown",
   "metadata": {},
   "source": [
    "### Задача №1 - кодирование Хаффмана\n",
    "По данной непустой строке $s$ длины не более $10^4$, состоящей из строчных букв латинского алфавита, постройте оптимальный беспрефиксный код. В первой строке выведите количество различных букв $k$, встречающихся в строке, и размер получившейся закодированной строки. В следующих $k$ строках запишите коды букв в формате \"letter: code\". В последней строке выведите закодированную строку."
   ]
  },
  {
   "cell_type": "code",
   "execution_count": 9,
   "metadata": {},
   "outputs": [
    {
     "name": "stdout",
     "output_type": "stream",
     "text": [
      "a\n",
      "1 1\n",
      "a: 0\n",
      "0\n"
     ]
    }
   ],
   "source": [
    "import heapq\n",
    "from collections import Counter, namedtuple\n",
    "\n",
    "class Node(namedtuple('Node', ['left', 'right'])):\n",
    "    def walk(self, code, acc):\n",
    "        self.left.walk(code, acc + '0')\n",
    "        self.right.walk(code, acc + '1')\n",
    "        \n",
    "class Leaf(namedtuple('Leaf', ['char'])):\n",
    "    def walk(self, code, acc):\n",
    "        code[self.char] = acc or '0'\n",
    "\n",
    "def huffman_encode(s):\n",
    "    h = []\n",
    "    for ch, freq in Counter(s).items():\n",
    "        h.append((freq, len(h), Leaf(ch)))\n",
    "        \n",
    "#     h = [(freq, Leaf(ch)) for ch, freq in Counter(s).items()] - будет ошибка, когда при сравнении пар,\n",
    "#                                                                           будет сравнение строки и листа\n",
    "    heapq.heapify(h)\n",
    "    \n",
    "    count = len(h)\n",
    "    while len(h) > 1:\n",
    "        freq1, _count1, left = heapq.heappop(h)\n",
    "        freq2, _count2, right = heapq.heappop(h)\n",
    "        heapq.heappush(h, (freq1 + freq2, count, Node(left, right)))\n",
    "        count += 1\n",
    "    \n",
    "    code = {}\n",
    "    if h:\n",
    "        [(_freq, _count, root)] = h  \n",
    "        root.walk(code, '')\n",
    "    return code\n",
    "\n",
    "\n",
    "def main():\n",
    "    s = input()\n",
    "    code = huffman_encode(s)\n",
    "    encoded = ''.join(code[ch] for ch in s)\n",
    "    print(len(code), len(encoded))\n",
    "    for ch in code:\n",
    "        print('{}: {}'.format(ch, code[ch]))\n",
    "    print(encoded)\n",
    "    \n",
    "main()"
   ]
  },
  {
   "cell_type": "code",
   "execution_count": null,
   "metadata": {},
   "outputs": [],
   "source": []
  }
 ],
 "metadata": {
  "kernelspec": {
   "display_name": "Python 3",
   "language": "python",
   "name": "python3"
  },
  "language_info": {
   "codemirror_mode": {
    "name": "ipython",
    "version": 3
   },
   "file_extension": ".py",
   "mimetype": "text/x-python",
   "name": "python",
   "nbconvert_exporter": "python",
   "pygments_lexer": "ipython3",
   "version": "3.7.4"
  }
 },
 "nbformat": 4,
 "nbformat_minor": 4
}
