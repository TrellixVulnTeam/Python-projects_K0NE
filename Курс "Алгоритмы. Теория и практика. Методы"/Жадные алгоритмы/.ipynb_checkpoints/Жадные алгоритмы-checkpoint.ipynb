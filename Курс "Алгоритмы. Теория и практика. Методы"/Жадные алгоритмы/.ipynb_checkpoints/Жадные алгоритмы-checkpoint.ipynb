{
 "cells": [
  {
   "cell_type": "markdown",
   "metadata": {},
   "source": [
    "# Покрытие точек отрезками"
   ]
  },
  {
   "cell_type": "markdown",
   "metadata": {},
   "source": [
    "- Вход: множество $n$ точек на прямой $x_1,\\ldots,x_n \\in \\mathbb{R}$.\n",
    "- Выход: минимальное количество отрезков единичной длины, которыми можно покрыть все точки."
   ]
  },
  {
   "cell_type": "markdown",
   "metadata": {},
   "source": [
    "## Надежный шаг\n",
    "Существует оптимальное покрытие, в котором самая левая точка покрыта левым концом отрезка.\n",
    "\n",
    "Поэтому можно сразу добавить в решение отрезок, левый конец которого совпадает с самой левой точкой."
   ]
  },
  {
   "cell_type": "markdown",
   "metadata": {},
   "source": [
    "### Функция PointsCover($x_1,\\ldots,x_n$)"
   ]
  },
  {
   "cell_type": "raw",
   "metadata": {},
   "source": [
    "S = {x_1,...,x_n}\n",
    "пока S не пусто:\n",
    "    x_m = минимальная точка S\n",
    "    добавить к решению отрезок [l, r] = [x_m, x_m + 1]\n",
    "    выкинуть из S точки, покрытые отрезком [l, r]\n",
    "вернуть построенное решение"
   ]
  },
  {
   "cell_type": "markdown",
   "metadata": {},
   "source": [
    "### Время работы - $O(n^2)$\n",
    "$\\leq n$ раз идем по S, 1-ый и 3-ий шаги в цикле за $O(n)$"
   ]
  },
  {
   "cell_type": "markdown",
   "metadata": {},
   "source": [
    "### Улучшенный алгоритм"
   ]
  },
  {
   "cell_type": "markdown",
   "metadata": {},
   "source": [
    "### Функция PointsCover($x_1,\\ldots,x_n$)"
   ]
  },
  {
   "cell_type": "raw",
   "metadata": {},
   "source": [
    "x_1,...,x_n = Sort(x_1,...,x_n)\n",
    "i = 1\n",
    "пока i <= n:\n",
    "    добавить к решению отрезок [l, r] = [x_i, x_i + 1]\n",
    "    i = i + 1\n",
    "    пока i <= n и x_i <= r:\n",
    "        i = i + 1\n",
    "вернуть построенное решение"
   ]
  },
  {
   "cell_type": "markdown",
   "metadata": {},
   "source": [
    "### Время работы - $T(Sort) + O(n) = O(n\\log n)$"
   ]
  },
  {
   "cell_type": "markdown",
   "metadata": {},
   "source": [
    "# Задача о выборе заявок"
   ]
  },
  {
   "cell_type": "markdown",
   "metadata": {},
   "source": [
    "- Вход: множество $n$ отрезков на прямой.\n",
    "- Выход: максимальное количество попарно не пересекающихся отрезков."
   ]
  },
  {
   "cell_type": "markdown",
   "metadata": {},
   "source": [
    "## Замечание\n",
    "Выбирая в первую очередь более короткие отрезки, можно получить неоптимальное решение."
   ]
  },
  {
   "cell_type": "markdown",
   "metadata": {},
   "source": [
    "## Надежный шаг\n",
    "Существует оптимальное решение, содержащее отрезок, правый конец которого минимален. \n",
    "\n",
    "Можно сразу добавить в решение отрезок, правый конец которого минимален."
   ]
  },
  {
   "cell_type": "markdown",
   "metadata": {},
   "source": [
    "### Функция ActCel($l_1, r_1, \\ldots, l_n, r_n$)"
   ]
  },
  {
   "cell_type": "raw",
   "metadata": {},
   "source": [
    "S = {[l_1, r_1],...,[l_n, r_n]}\n",
    "пока S не пусто:\n",
    "    [l_m, r_m] = отрезок из S с мин. правым концом\n",
    "    добавить [l_m, r_m] к решению\n",
    "    выкинуть из S все отрезки, пересекающиеся с [l_m, r_m]\n",
    "вернуть построенное решение"
   ]
  },
  {
   "cell_type": "markdown",
   "metadata": {},
   "source": [
    "### Время работы - $O(n^2)$\n",
    "$\\leq n$ раз идем по S, 1-ый и 3-ий шаги в цикле за $O(n)$"
   ]
  },
  {
   "cell_type": "markdown",
   "metadata": {},
   "source": [
    "### Улучшенный алгоритм"
   ]
  },
  {
   "cell_type": "markdown",
   "metadata": {},
   "source": [
    "### Функция ActCel($l_1, r_1, \\ldots, l_n, r_n$)"
   ]
  },
  {
   "cell_type": "raw",
   "metadata": {},
   "source": [
    "отсортировать n отрезков по правым концам\n",
    "для всех отрезков в полученном порядке:\n",
    "    если текущий отрезок не пересекает последний добавленный:\n",
    "        взять его в решение\n",
    "вернуть полученное решение"
   ]
  },
  {
   "cell_type": "markdown",
   "metadata": {},
   "source": [
    "### Время работы - $T(Sort) + O(n) = O(n\\log n)$"
   ]
  },
  {
   "cell_type": "markdown",
   "metadata": {},
   "source": [
    "# Планирование вечеринки в компании"
   ]
  },
  {
   "cell_type": "markdown",
   "metadata": {},
   "source": [
    "- Вход: дерево.\n",
    "- Выход: независимое множество (множество не соединенных друг с другом вершин) максимального размера.\n",
    "\n",
    "Человек счастлив, если в его группе нет его начальника."
   ]
  },
  {
   "cell_type": "markdown",
   "metadata": {},
   "source": [
    "## Надежный шаг\n",
    "Существует оптимальное решение, содержащее каждый лист дерева.\n",
    "\n",
    "Можно взять в решение все листья."
   ]
  },
  {
   "cell_type": "markdown",
   "metadata": {},
   "source": [
    "### Функция MaxIndependentSet(T)"
   ]
  },
  {
   "cell_type": "raw",
   "metadata": {},
   "source": [
    "пока T не пусто:\n",
    "    взять в решение все листья\n",
    "    выкинуть их и их родителей из T\n",
    "вернуть построенное решение"
   ]
  },
  {
   "cell_type": "markdown",
   "metadata": {},
   "source": [
    "### Время работы O(|T|)"
   ]
  },
  {
   "cell_type": "markdown",
   "metadata": {},
   "source": [
    "# Непрерывный рюкзак"
   ]
  },
  {
   "cell_type": "markdown",
   "metadata": {},
   "source": [
    "- Вход: веса $w_1, \\ldots, w_n$ и стоимости $c_1, \\ldots, c_n$ данных $n$ предметов; вместимость рюкзака $W$.\n",
    "- Выход: максимальная стоимость частей предметов суммарного веса не более $W$."
   ]
  },
  {
   "cell_type": "markdown",
   "metadata": {},
   "source": [
    "## Надежный шаг\n",
    "Существует оптимальное решение, содержащее максимально возможную часть предмета, стоимость которого за килограмм максимальна."
   ]
  },
  {
   "cell_type": "markdown",
   "metadata": {},
   "source": [
    "### Функция Knapsack($w_1,c_1,\\ldots,w_n,c_n$)"
   ]
  },
  {
   "cell_type": "raw",
   "metadata": {},
   "source": [
    "отсортировать предметы по убыванию c/w\n",
    "для всех предметов в полученном порядке:\n",
    "    взять по максимуму текущего предмета \n",
    "вернуть построенное решение"
   ]
  },
  {
   "cell_type": "markdown",
   "metadata": {},
   "source": [
    "### Время работы - $T(Sort) + O(n) = O(n\\log n)$"
   ]
  },
  {
   "cell_type": "markdown",
   "metadata": {},
   "source": [
    "# Основные идеи жадных алгоритмов\n",
    "\n",
    "## Надежный шаг:\n",
    "Существует оптимальное решение, согласованное с локальным жадным шагом.\n",
    "\n",
    "## Оптимальность подзадач:\n",
    "Задача, остающаяся после жадного шага, имеет тот же тип."
   ]
  },
  {
   "cell_type": "markdown",
   "metadata": {},
   "source": [
    "# Задачи"
   ]
  },
  {
   "cell_type": "markdown",
   "metadata": {},
   "source": [
    "### Задача №1 - покрыть отрезки точками\n",
    "\n",
    "По данным $n$ отрезкам необходимо найти множество точек минимального размера, для которого каждый из отрезков содержит хотя бы одну из точек.\n",
    "\n",
    "В первой строке дано число $1 \\leq n \\leq 100$ отрезков. Каждая из последующих $n$ строк содержит по два числа $0 \\leq l \\leq r \\leq 10^9$, задающих начало и конец отрезка. Выведите оптимальное число $m$ точек и сами $m$ точек. Если таких множеств точек несколько, выведите любое из них."
   ]
  },
  {
   "cell_type": "code",
   "execution_count": 24,
   "metadata": {},
   "outputs": [
    {
     "name": "stdout",
     "output_type": "stream",
     "text": [
      "3\n",
      "1 3\n",
      "2 5\n",
      "3 6\n",
      "1\n",
      "3\n"
     ]
    }
   ],
   "source": [
    "n = int(input())\n",
    "\n",
    "lst = [[int(i) for i in input().split()] for j in range(n)]\n",
    "lst.sort(key=lambda x: (x[1], x[0]))\n",
    "    \n",
    "dots = [lst[0][1]]\n",
    "\n",
    "i = 1\n",
    "while i < n:\n",
    "    if not (lst[i][0] <= dots[-1] <= lst[i][1]):\n",
    "        dots.append(lst[i][1])\n",
    "    i += 1\n",
    "    \n",
    "print(len(dots), *dots, sep='\\n')"
   ]
  },
  {
   "cell_type": "markdown",
   "metadata": {},
   "source": [
    "### Задача №2 - непрерывный рюкзак\n",
    "Первая строка содержит количество предметов $1 \\leq n\\leq 10^3$ и вместимость рюкзака $0\\leq W\\leq 2\\cdot 10^6$. Каждая из следующих n строк задаёт стоимость $0\\leq c_i \\leq 2\\cdot 10^6$ и объём $0 < w_i \\leq 2 \\cdot 10^6$ предмета ($n, W, c_i, w_i$ - целые числа). Выведите максимальную стоимость частей предметов (от каждого предмета можно отделить любую часть, стоимость и объём при этом пропорционально уменьшатся), помещающихся в данный рюкзак, с точностью не менее трёх знаков после запятой."
   ]
  },
  {
   "cell_type": "code",
   "execution_count": 41,
   "metadata": {},
   "outputs": [
    {
     "name": "stdout",
     "output_type": "stream",
     "text": [
      "3 60\n",
      "60 20\n",
      "120 40\n",
      "50 35\n",
      "180.000\n"
     ]
    }
   ],
   "source": [
    "n, W = [int(i) for i in input().split()]\n",
    "c_w_lst = [[int(i) for i in input().split()] for j in range(n)]\n",
    "lst = [(k[0] / k[1], k[1]) for k in c_w_lst]\n",
    "lst.sort(reverse=True)\n",
    "\n",
    "i = 0\n",
    "s = 0\n",
    "while W != 0 and i < n:\n",
    "    w = min(W, lst[i][1])\n",
    "    s += lst[i][0] * w\n",
    "    W -= w\n",
    "    i += 1\n",
    "print(\"%.3f\" % s)"
   ]
  },
  {
   "cell_type": "markdown",
   "metadata": {},
   "source": [
    "### Задача №3 - различные слагаемые\n",
    "По данному числу $1\\leq n\\leq 10^9$ найдите максимальное число $k$, для которого $n$ можно представить как сумму $k$ различных натуральных слагаемых. Выведите в первой строке число $k$, во второй — $k$ слагаемых."
   ]
  },
  {
   "cell_type": "code",
   "execution_count": 54,
   "metadata": {},
   "outputs": [
    {
     "name": "stdout",
     "output_type": "stream",
     "text": [
      "2\n",
      "1\n",
      "2\n"
     ]
    }
   ],
   "source": [
    "n = int(input())\n",
    "i = 1\n",
    "lst = []\n",
    "while n != 0:\n",
    "    if n < i:\n",
    "        lst[-1] += n\n",
    "        break\n",
    "    n -= i\n",
    "    lst.append(i)\n",
    "    i += 1\n",
    "\n",
    "print(len(lst), *lst, sep='\\n')"
   ]
  },
  {
   "cell_type": "markdown",
   "metadata": {},
   "source": [
    "Функция input() может работать медленне, чем просто чтение из стандартоного потока ввода.\n",
    "\n",
    "Рассмотрим применение на примере задачи о рюкзаке."
   ]
  },
  {
   "cell_type": "code",
   "execution_count": 4,
   "metadata": {},
   "outputs": [],
   "source": [
    "import sys\n",
    "\n",
    "\n",
    "def fractional_knapsack(capacity, values_and_weights):\n",
    "    return 0\n",
    "\n",
    "\n",
    "def main():\n",
    "    reader = (tuple(map(int, line.split())) for line in sys.stdin)\n",
    "    n, capacity = next(reader)\n",
    "    values_and_weights = list(reader)\n",
    "    assert len(values_and_weights) == n\n",
    "    opt_value = fractional_knapsack(capacity, values_and_weights)\n",
    "    print('{:.3f}'.format(opt_value))"
   ]
  },
  {
   "cell_type": "markdown",
   "metadata": {},
   "source": [
    "Задачу о рюкзаке можно было сделать с помощью min-кучи."
   ]
  },
  {
   "cell_type": "code",
   "execution_count": null,
   "metadata": {},
   "outputs": [],
   "source": []
  }
 ],
 "metadata": {
  "kernelspec": {
   "display_name": "Python 3",
   "language": "python",
   "name": "python3"
  },
  "language_info": {
   "codemirror_mode": {
    "name": "ipython",
    "version": 3
   },
   "file_extension": ".py",
   "mimetype": "text/x-python",
   "name": "python",
   "nbconvert_exporter": "python",
   "pygments_lexer": "ipython3",
   "version": "3.7.4"
  }
 },
 "nbformat": 4,
 "nbformat_minor": 4
}
