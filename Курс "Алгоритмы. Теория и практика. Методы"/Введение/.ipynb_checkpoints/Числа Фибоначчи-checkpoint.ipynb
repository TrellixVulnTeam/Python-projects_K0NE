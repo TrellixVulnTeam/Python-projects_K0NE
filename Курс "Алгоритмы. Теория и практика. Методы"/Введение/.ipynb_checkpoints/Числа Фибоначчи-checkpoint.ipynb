{
 "cells": [
  {
   "cell_type": "markdown",
   "metadata": {},
   "source": [
    "# Числа Фибоначчи"
   ]
  },
  {
   "cell_type": "markdown",
   "metadata": {},
   "source": [
    "*Определение*\n",
    "\n",
    "\\begin{equation*}\n",
    "F_n = \n",
    " \\begin{cases}\n",
    "   0, n = 0 \n",
    "   \\\\\n",
    "   1, n = 1,\n",
    "   \\\\\n",
    "   F_{n-1} + F_{n-2}, n > 1.\n",
    " \\end{cases}\n",
    "\\end{equation*}"
   ]
  },
  {
   "cell_type": "markdown",
   "metadata": {},
   "source": [
    "### Скорость роста\n",
    "\n",
    "### Лемма (Экспоненциальная скорость роста)\n",
    "\n",
    "\n",
    "$F_n \\geq 2^{n/2}$ для $n \\geq 6$.\n"
   ]
  },
  {
   "cell_type": "markdown",
   "metadata": {},
   "source": [
    "### Формула для n-ого числа Фибоначчи (выводили через производящие функции)\n",
    "\n",
    "$F_n = \\frac{1}{\\sqrt{5}}\\big((\\frac{1+\\sqrt{5}}{2})^n - (\\frac{1-\\sqrt{5}}{2})^n\\big)$"
   ]
  },
  {
   "cell_type": "markdown",
   "metadata": {},
   "source": [
    "## Вычисление чисел Фибоначчи\n",
    "\n",
    "### Вычислить F_n\n",
    "\n",
    "- Вход: целое число n >= 0\n",
    "- Выход: F_n"
   ]
  },
  {
   "cell_type": "markdown",
   "metadata": {},
   "source": [
    "### Функция FibRecursive(n)"
   ]
  },
  {
   "cell_type": "code",
   "execution_count": 1,
   "metadata": {},
   "outputs": [],
   "source": [
    "def FibRecursive(n):\n",
    "    if n <= 1:\n",
    "        return n\n",
    "    return FibRecursive(n - 1) + FibRecursive(n - 2)"
   ]
  },
  {
   "cell_type": "markdown",
   "metadata": {},
   "source": [
    "### Проблема - долго вычисляется, очень часто считает одно и то же много раз."
   ]
  },
  {
   "cell_type": "markdown",
   "metadata": {},
   "source": [
    "### Другой алгоритм (более быстрый)\n",
    "\n",
    "Будем запоминать вычисленные значения в массив."
   ]
  },
  {
   "cell_type": "markdown",
   "metadata": {},
   "source": [
    "Дано целое число $1 \\leq n \\leq 40$, необходимо вычислить n-е число Фибоначчи (напомним, что $F_0 = 0$, $F_1 = 1$ $F_n = F_{n-1} + F_{n-2}$ при $n \\geq 2$)."
   ]
  },
  {
   "cell_type": "code",
   "execution_count": 16,
   "metadata": {},
   "outputs": [
    {
     "name": "stdout",
     "output_type": "stream",
     "text": [
      "40\n",
      "102334155\n"
     ]
    }
   ],
   "source": [
    "def fib(n):\n",
    "    fib_lst = [0, 1]\n",
    "    for i in range(2, n + 1):\n",
    "        fib_lst.append(fib_lst[i-1] + fib_lst[i-2])\n",
    "    return fib_lst[n]\n",
    "\n",
    "def main():\n",
    "    n = int(input())\n",
    "    print(fib(n))\n",
    "\n",
    "main()"
   ]
  },
  {
   "cell_type": "markdown",
   "metadata": {},
   "source": [
    "### Последняя цифра большого числа Фибоначчи\n",
    "\n",
    "Дано число $1 \\leq n \\leq 10^7$, необходимо найти последнюю цифру n-го числа Фибоначчи.\n",
    "\n",
    "Как мы помним, числа Фибоначчи растут очень быстро, поэтому при их вычислении нужно быть аккуратным с переполнением. В данной задаче, впрочем, этой проблемы можно избежать, поскольку нас интересует только последняя цифра числа Фибоначчи: если $0 \\leq a, b \\leq 9$ - последние цифры чисел $F_i, F_{i+1}$ соответственно, то (a + b) mod 10 - последняя цифра числа $F_{i+2}$."
   ]
  },
  {
   "cell_type": "code",
   "execution_count": 9,
   "metadata": {},
   "outputs": [
    {
     "name": "stdout",
     "output_type": "stream",
     "text": [
      "10000000\n",
      "5\n"
     ]
    }
   ],
   "source": [
    "def fib_digit(n):\n",
    "    fib_lst = [0, 1]\n",
    "    for i in range(2, n + 1):\n",
    "        fib_lst.append((fib_lst[i-1] + fib_lst[i-2]) % 10) \n",
    "    return fib_lst[n]\n",
    "\n",
    "def main():\n",
    "    n = int(input())\n",
    "    print(fib_digit(n))\n",
    "\n",
    "main()"
   ]
  },
  {
   "cell_type": "markdown",
   "metadata": {},
   "source": [
    "### Огромное число Фибоначчи по модулю\n",
    "\n",
    "Даны целые числа $1 \\leq n \\leq 10^{18}$ и $2 \\leq m \\leq 10^5$, необходимо найти остаток от деления n-го числа Фибоначчи на m.\n",
    "\n",
    "Воспользуемся для решения этой задачи периодом Пизано. https://ru.wikipedia.org/wiki/Период_Пизано"
   ]
  },
  {
   "cell_type": "code",
   "execution_count": 13,
   "metadata": {},
   "outputs": [
    {
     "name": "stdout",
     "output_type": "stream",
     "text": [
      "1451243 545\n",
      "532\n"
     ]
    }
   ],
   "source": [
    "def fib_mod(n, m):\n",
    "    fib_lst = [0, 1]\n",
    "    for i in range(2, 6 * m + 2):\n",
    "        fib_lst.append((fib_lst[i-1] + fib_lst[i-2]) % m) \n",
    "        if fib_lst[i] == 1 and fib_lst[i-1] == 0:\n",
    "               return fib_lst[n % (len(fib_lst) - 2)]\n",
    "    return n % m\n",
    "\n",
    "\n",
    "def main():\n",
    "    n, m = map(int, input().split())\n",
    "    print(fib_mod(n, m))\n",
    "\n",
    "main()"
   ]
  },
  {
   "cell_type": "markdown",
   "metadata": {},
   "source": [
    "### Еще один пример вычисления n-ого числа Фибоначчи"
   ]
  },
  {
   "cell_type": "code",
   "execution_count": 5,
   "metadata": {},
   "outputs": [
    {
     "data": {
      "text/plain": [
       "21"
      ]
     },
     "execution_count": 5,
     "metadata": {},
     "output_type": "execute_result"
    }
   ],
   "source": [
    "def fib2(n):\n",
    "    assert n >= 0\n",
    "    f0, f1 = 0, 1\n",
    "    for i in range(n - 1):\n",
    "        f0, f1 = f1, f0 + f1\n",
    "    return f1\n",
    "\n",
    "fib2(8)"
   ]
  },
  {
   "cell_type": "markdown",
   "metadata": {},
   "source": [
    "### Посмотрим на время выполнения"
   ]
  },
  {
   "cell_type": "code",
   "execution_count": 6,
   "metadata": {},
   "outputs": [],
   "source": [
    "import time"
   ]
  },
  {
   "cell_type": "code",
   "execution_count": 11,
   "metadata": {},
   "outputs": [
    {
     "data": {
      "text/plain": [
       "6.205099998624064e-05"
      ]
     },
     "execution_count": 11,
     "metadata": {},
     "output_type": "execute_result"
    }
   ],
   "source": [
    "def timed(f, *args, n_iter=100):\n",
    "    acc = float('inf')\n",
    "    for i in range(n_iter):\n",
    "        t0 = time.perf_counter()\n",
    "        f(*args)\n",
    "        t1 = time.perf_counter()\n",
    "        acc = min(acc, t1 - t0)\n",
    "        \n",
    "    return acc\n",
    "\n",
    "timed(fib2, 800)"
   ]
  },
  {
   "cell_type": "markdown",
   "metadata": {},
   "source": [
    "### Построим график зависимости времени работы функции от аргумента"
   ]
  },
  {
   "cell_type": "code",
   "execution_count": 12,
   "metadata": {},
   "outputs": [],
   "source": [
    "from matplotlib import pyplot as plt"
   ]
  },
  {
   "cell_type": "code",
   "execution_count": 14,
   "metadata": {},
   "outputs": [],
   "source": [
    "def compare(fs, args):\n",
    "    for f in fs:\n",
    "        plt.plot(args, [timed(f, arg) for arg in args], label=f.__name__)\n",
    "    plt.legend()\n",
    "    plt.grid(True)"
   ]
  },
  {
   "cell_type": "code",
   "execution_count": 20,
   "metadata": {},
   "outputs": [
    {
     "data": {
      "image/png": "[encoded data removed]",
      "text/plain": [
       "<Figure size 432x288 with 1 Axes>"
      ]
     },
     "metadata": {
      "needs_background": "light"
     },
     "output_type": "display_data"
    }
   ],
   "source": [
    "compare([fib, fib2], list(range(200)))"
   ]
  }
 ],
 "metadata": {
  "kernelspec": {
   "display_name": "Python 3",
   "language": "python",
   "name": "python3"
  },
  "language_info": {
   "codemirror_mode": {
    "name": "ipython",
    "version": 3
   },
   "file_extension": ".py",
   "mimetype": "text/x-python",
   "name": "python",
   "nbconvert_exporter": "python",
   "pygments_lexer": "ipython3",
   "version": "3.7.4"
  }
 },
 "nbformat": 4,
 "nbformat_minor": 4
}
