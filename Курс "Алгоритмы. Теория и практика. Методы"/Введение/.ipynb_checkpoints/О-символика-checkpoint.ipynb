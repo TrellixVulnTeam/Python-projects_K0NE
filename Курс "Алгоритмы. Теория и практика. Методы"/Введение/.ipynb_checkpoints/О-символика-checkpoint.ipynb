{
 "cells": [
  {
   "cell_type": "markdown",
   "metadata": {},
   "source": [
    "# O-символика"
   ]
  },
  {
   "cell_type": "markdown",
   "metadata": {},
   "source": [
    "*Определение*\n",
    "\n",
    "Пусть $f, g : \\mathbb{N} \\rightarrow \\mathbb{R}_{>0}.$ Говорим, что $f$ растет не быстрее $g$ и пишем $f(n) = O(g(n))$, если существует такая константа $c>0$, что $f(n) \\leq c\\cdot g(n)$ для всех $n \\in \\mathbb{N}$."
   ]
  },
  {
   "cell_type": "markdown",
   "metadata": {},
   "source": [
    "### Связанные определения\n",
    "\n",
    "- $f(n) = \\Omega(g(n))$, если существует положительная константа $c$, для которой $f(n)=c\\cdot g(n)$ ($f$ растет не медленнее $g$)\n",
    "\n",
    "- $f(n) = \\Theta(g(n))$, если $f(n)=\\Omega(g(n))$ и $f(n) = O(g(n))$ ($f$ и $g$ имеют одинаковую скорость роста)\n",
    "\n",
    "- $f(n) = o(g(n))$, если $f(n) / (g(n)) \\rightarrow 0$  при $n \\rightarrow \\infty$ ($f$ растет медленнее $g$)."
   ]
  },
  {
   "cell_type": "markdown",
   "metadata": {},
   "source": [
    "### Часто используемые функции (упорядочены по скорости роста)\n",
    "\n",
    "$\\log n < \\sqrt{n} < n < n\\log n < n^2 < 2^n$"
   ]
  },
  {
   "cell_type": "code",
   "execution_count": null,
   "metadata": {},
   "outputs": [],
   "source": []
  }
 ],
 "metadata": {
  "kernelspec": {
   "display_name": "Python 3",
   "language": "python",
   "name": "python3"
  },
  "language_info": {
   "codemirror_mode": {
    "name": "ipython",
    "version": 3
   },
   "file_extension": ".py",
   "mimetype": "text/x-python",
   "name": "python",
   "nbconvert_exporter": "python",
   "pygments_lexer": "ipython3",
   "version": "3.7.4"
  }
 },
 "nbformat": 4,
 "nbformat_minor": 4
}
