{
 "cells": [
  {
   "cell_type": "markdown",
   "metadata": {},
   "source": [
    "# Наибольший общий делитель"
   ]
  },
  {
   "cell_type": "markdown",
   "metadata": {},
   "source": [
    "*Определение*\n",
    "\n",
    "Наибольшим общим делителем (НОД) неотрицательных чисел $a$ и $b$ называется наибольшее целое $d$, которое делит и $a$, и $b$. "
   ]
  },
  {
   "cell_type": "markdown",
   "metadata": {},
   "source": [
    "### Вычисление НОД\n",
    "\n",
    "- Вход: целые числа $a, b \\geq 0$\n",
    "- Выход: НОД($a, b$)"
   ]
  },
  {
   "cell_type": "markdown",
   "metadata": {},
   "source": [
    "### Наивный алгоритм"
   ]
  },
  {
   "cell_type": "markdown",
   "metadata": {},
   "source": [
    "### Функция NaiveGCD(a, b)"
   ]
  },
  {
   "cell_type": "raw",
   "metadata": {},
   "source": [
    "gcd = 1\n",
    "для d от 2 до max(a, b):\n",
    "    если d|a или d|b:\n",
    "        gcd = d\n",
    "вернуть gcd"
   ]
  },
  {
   "cell_type": "markdown",
   "metadata": {},
   "source": [
    "### Лемма\n",
    "\n",
    "Пусть $a \\geq b \\geq 0$ и $r$ - остаток от деления $a$ на $b$. Тогда НОД($a,b$) = НОД($r,b$)"
   ]
  },
  {
   "cell_type": "markdown",
   "metadata": {},
   "source": [
    "### Алгоритм Евклида"
   ]
  },
  {
   "cell_type": "markdown",
   "metadata": {},
   "source": [
    "### Функция EuclidGCD(a, b)"
   ]
  },
  {
   "cell_type": "raw",
   "metadata": {},
   "source": [
    "если a = 0:\n",
    "    вернуть b\n",
    "если b = 0:\n",
    "    вернуть a\n",
    "если a >= b:\n",
    "    вернуть EuclidGCD(a mod b, b)\n",
    "если b >= a:\n",
    "    вернуть EuclidGCD(a, b mod a)"
   ]
  },
  {
   "cell_type": "markdown",
   "metadata": {},
   "source": [
    "### Лемма\n",
    "Если $a \\geq b > 0$, то $a$ mod $b < a/2$.\n",
    "\n",
    "### Следовательно\n",
    "- Каждый шаг уменьшает одно из чисел хотя бы вдвое.\n",
    "- Количество шагов: не более $log_2a + log_2b$"
   ]
  },
  {
   "cell_type": "markdown",
   "metadata": {},
   "source": [
    "### Наибольший общий делитель\n",
    "\n",
    "По данным двум числам $1 \\leq a, b \\leq 2\\cdot10^9$ найдите их наибольший общий делитель."
   ]
  },
  {
   "cell_type": "code",
   "execution_count": 3,
   "metadata": {},
   "outputs": [
    {
     "name": "stdout",
     "output_type": "stream",
     "text": [
      "14159572 63967072\n",
      "4\n"
     ]
    }
   ],
   "source": [
    "def gcd(a, b):\n",
    "    if a == 0:\n",
    "        return b\n",
    "    if b == 0:\n",
    "        return a\n",
    "    if a >= b:\n",
    "        return gcd(a % b, b)\n",
    "    if b > a:\n",
    "        return gcd(a, b % a)\n",
    "\n",
    "\n",
    "def main():\n",
    "    a, b = map(int, input().split())\n",
    "    print(gcd(a, b))\n",
    "    \n",
    "main()"
   ]
  },
  {
   "cell_type": "code",
   "execution_count": null,
   "metadata": {},
   "outputs": [],
   "source": []
  }
 ],
 "metadata": {
  "kernelspec": {
   "display_name": "Python 3",
   "language": "python",
   "name": "python3"
  },
  "language_info": {
   "codemirror_mode": {
    "name": "ipython",
    "version": 3
   },
   "file_extension": ".py",
   "mimetype": "text/x-python",
   "name": "python",
   "nbconvert_exporter": "python",
   "pygments_lexer": "ipython3",
   "version": "3.7.4"
  }
 },
 "nbformat": 4,
 "nbformat_minor": 4
}
