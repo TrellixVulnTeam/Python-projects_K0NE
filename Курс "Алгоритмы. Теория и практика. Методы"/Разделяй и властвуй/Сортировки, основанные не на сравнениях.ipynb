{
 "cells": [
  {
   "cell_type": "markdown",
   "metadata": {},
   "source": [
    "# Сортировка подсчетом"
   ]
  },
  {
   "cell_type": "code",
   "execution_count": 30,
   "metadata": {},
   "outputs": [
    {
     "name": "stdout",
     "output_type": "stream",
     "text": [
      "[1, 2, 2, 3, 4, 5, 6, 7, 9]\n"
     ]
    }
   ],
   "source": [
    "def count_sort(a, m):\n",
    "    \"\"\"\n",
    "    Массив a содержит числа от 1 до m.\n",
    "    \"\"\"\n",
    "    b = [0] * m\n",
    "    \n",
    "    for j in range(len(a)):\n",
    "        b[a[j] - 1] += 1\n",
    "        \n",
    "    # сейчас b[i] = count(i)\n",
    "        \n",
    "    for i in range(1, m):\n",
    "        b[i] += b[i - 1]\n",
    "        \n",
    "    # сейчас b[i] = count(j : j <= i)\n",
    "        \n",
    "    a_sorted = [None] * len(a)\n",
    "\n",
    "    for j in range(len(a) - 1, -1, -1):\n",
    "        a_sorted[b[a[j] - 1] - 1] = a[j]\n",
    "        b[a[j] - 1] -= 1\n",
    "        \n",
    "    return a_sorted\n",
    "    \n",
    "\n",
    "a = [7, 1, 4, 2, 3, 5, 2, 9, 6]\n",
    "print(count_sort(a, 9))"
   ]
  },
  {
   "cell_type": "markdown",
   "metadata": {},
   "source": [
    "# Время работы $O(n+m)$"
   ]
  },
  {
   "cell_type": "markdown",
   "metadata": {},
   "source": [
    "Проход в обратном порядке (справа на лево) необходим для стабильности, чтобы сохранить порядок одинаковых элементов в изначальном массиве. Это надо, например, в случае цифровой сортировки. То есть когда сортируем согласно разрядам. Пусть у нас $d$ - количество разрядов, тогда время работы цифровой сортировки будет $O(nd)$."
   ]
  },
  {
   "cell_type": "markdown",
   "metadata": {},
   "source": [
    "# Заключение"
   ]
  },
  {
   "cell_type": "markdown",
   "metadata": {},
   "source": [
    "- Алгоритм сортировки подсчетом сортирует массив размера $n$, содержащий целые числа от $1$ до $M$, за время $O(n+M)$.\n",
    "\n",
    "- Нижняя оценка $\\Omega(n\\log n)$ не применима к алгоритму сортировки подсчетом, поскольку он основан не на сравнениях.\n",
    "\n",
    "- Алгоритм сортировки подсчетом можно реализовать так, чтобы он был стабильным: равные элементы будут идти в том же порядке, в каком они были в исходном массиве.\n",
    "\n",
    "- Алгоритмом цифровой сортировки можно отсортировать числа с $d$ разрядами за время $O(nd)$."
   ]
  },
  {
   "cell_type": "markdown",
   "metadata": {},
   "source": [
    "# Задача"
   ]
  },
  {
   "cell_type": "markdown",
   "metadata": {},
   "source": [
    "Первая строка содержит число $1\\leq n\\leq 10^4$, вторая — $n$ натуральных чисел, не превышающих $10$. Выведите упорядоченную по неубыванию последовательность этих чисел."
   ]
  },
  {
   "cell_type": "code",
   "execution_count": 31,
   "metadata": {},
   "outputs": [
    {
     "name": "stdout",
     "output_type": "stream",
     "text": [
      "5\n",
      "2 3 9 2 9\n",
      "2 2 3 9 9\n"
     ]
    }
   ],
   "source": [
    "n = int(input())\n",
    "a = [int(i) for i in input().split()]\n",
    "\n",
    "print(*count_sort(a, 10))"
   ]
  }
 ],
 "metadata": {
  "kernelspec": {
   "display_name": "Python 3",
   "language": "python",
   "name": "python3"
  },
  "language_info": {
   "codemirror_mode": {
    "name": "ipython",
    "version": 3
   },
   "file_extension": ".py",
   "mimetype": "text/x-python",
   "name": "python",
   "nbconvert_exporter": "python",
   "pygments_lexer": "ipython3",
   "version": "3.7.4"
  }
 },
 "nbformat": 4,
 "nbformat_minor": 4
}
